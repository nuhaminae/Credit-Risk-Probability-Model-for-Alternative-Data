{
 "cells": [
  {
   "cell_type": "code",
   "execution_count": 1,
   "id": "0f0d5c33",
   "metadata": {},
   "outputs": [
    {
     "name": "stderr",
     "output_type": "stream",
     "text": [
      "test_classify_columns (__main__.TestEDA.test_classify_columns) ... "
     ]
    },
    {
     "name": "stdout",
     "output_type": "stream",
     "text": [
      "DataFrame loaded successfully from test_data.csv\n",
      "\n",
      "DataFrame head:\n"
     ]
    },
    {
     "data": {
      "application/vnd.microsoft.datawrangler.viewer.v0+json": {
       "columns": [
        {
         "name": "index",
         "rawType": "int64",
         "type": "integer"
        },
        {
         "name": "Amount",
         "rawType": "float64",
         "type": "float"
        },
        {
         "name": "Value",
         "rawType": "int64",
         "type": "integer"
        },
        {
         "name": "FraudResult",
         "rawType": "int64",
         "type": "integer"
        },
        {
         "name": "PricingStrategy",
         "rawType": "int64",
         "type": "integer"
        },
        {
         "name": "CountryCode",
         "rawType": "object",
         "type": "string"
        },
        {
         "name": "TransactionStartTime",
         "rawType": "datetime64[ns]",
         "type": "datetime"
        }
       ],
       "ref": "cea52ac9-d08f-4c97-ac0d-ae96e9dc96e6",
       "rows": [
        [
         "0",
         "100.0",
         "100",
         "0",
         "1",
         "UG",
         "2023-01-01 00:00:00"
        ],
        [
         "1",
         "200.0",
         "200",
         "1",
         "2",
         "UG",
         "2023-01-02 00:00:00"
        ],
        [
         "2",
         "300.0",
         "300",
         "0",
         "1",
         "UG",
         "2023-01-03 00:00:00"
        ],
        [
         "3",
         "400.0",
         "400",
         "1",
         "2",
         "UG",
         "2023-01-04 00:00:00"
        ],
        [
         "4",
         "500.0",
         "500",
         "0",
         "1",
         "UG",
         "2023-01-05 00:00:00"
        ]
       ],
       "shape": {
        "columns": 6,
        "rows": 5
       }
      },
      "text/html": [
       "<div>\n",
       "<style scoped>\n",
       "    .dataframe tbody tr th:only-of-type {\n",
       "        vertical-align: middle;\n",
       "    }\n",
       "\n",
       "    .dataframe tbody tr th {\n",
       "        vertical-align: top;\n",
       "    }\n",
       "\n",
       "    .dataframe thead th {\n",
       "        text-align: right;\n",
       "    }\n",
       "</style>\n",
       "<table border=\"1\" class=\"dataframe\">\n",
       "  <thead>\n",
       "    <tr style=\"text-align: right;\">\n",
       "      <th></th>\n",
       "      <th>Amount</th>\n",
       "      <th>Value</th>\n",
       "      <th>FraudResult</th>\n",
       "      <th>PricingStrategy</th>\n",
       "      <th>CountryCode</th>\n",
       "      <th>TransactionStartTime</th>\n",
       "    </tr>\n",
       "  </thead>\n",
       "  <tbody>\n",
       "    <tr>\n",
       "      <th>0</th>\n",
       "      <td>100.0</td>\n",
       "      <td>100</td>\n",
       "      <td>0</td>\n",
       "      <td>1</td>\n",
       "      <td>UG</td>\n",
       "      <td>2023-01-01</td>\n",
       "    </tr>\n",
       "    <tr>\n",
       "      <th>1</th>\n",
       "      <td>200.0</td>\n",
       "      <td>200</td>\n",
       "      <td>1</td>\n",
       "      <td>2</td>\n",
       "      <td>UG</td>\n",
       "      <td>2023-01-02</td>\n",
       "    </tr>\n",
       "    <tr>\n",
       "      <th>2</th>\n",
       "      <td>300.0</td>\n",
       "      <td>300</td>\n",
       "      <td>0</td>\n",
       "      <td>1</td>\n",
       "      <td>UG</td>\n",
       "      <td>2023-01-03</td>\n",
       "    </tr>\n",
       "    <tr>\n",
       "      <th>3</th>\n",
       "      <td>400.0</td>\n",
       "      <td>400</td>\n",
       "      <td>1</td>\n",
       "      <td>2</td>\n",
       "      <td>UG</td>\n",
       "      <td>2023-01-04</td>\n",
       "    </tr>\n",
       "    <tr>\n",
       "      <th>4</th>\n",
       "      <td>500.0</td>\n",
       "      <td>500</td>\n",
       "      <td>0</td>\n",
       "      <td>1</td>\n",
       "      <td>UG</td>\n",
       "      <td>2023-01-05</td>\n",
       "    </tr>\n",
       "  </tbody>\n",
       "</table>\n",
       "</div>"
      ],
      "text/plain": [
       "   Amount  Value  FraudResult  PricingStrategy CountryCode  \\\n",
       "0   100.0    100            0                1          UG   \n",
       "1   200.0    200            1                2          UG   \n",
       "2   300.0    300            0                1          UG   \n",
       "3   400.0    400            1                2          UG   \n",
       "4   500.0    500            0                1          UG   \n",
       "\n",
       "  TransactionStartTime  \n",
       "0           2023-01-01  \n",
       "1           2023-01-02  \n",
       "2           2023-01-03  \n",
       "3           2023-01-04  \n",
       "4           2023-01-05  "
      ]
     },
     "metadata": {},
     "output_type": "display_data"
    },
    {
     "name": "stdout",
     "output_type": "stream",
     "text": [
      "\n",
      "DataFrame shape:\n"
     ]
    },
    {
     "data": {
      "text/plain": [
       "(10, 6)"
      ]
     },
     "metadata": {},
     "output_type": "display_data"
    },
    {
     "name": "stdout",
     "output_type": "stream",
     "text": [
      "\n",
      "DataFrame columns:\n"
     ]
    },
    {
     "data": {
      "text/plain": [
       "Index(['Amount', 'Value', 'FraudResult', 'PricingStrategy', 'CountryCode',\n",
       "       'TransactionStartTime'],\n",
       "      dtype='object')"
      ]
     },
     "metadata": {},
     "output_type": "display_data"
    },
    {
     "name": "stderr",
     "output_type": "stream",
     "text": [
      "ok\n",
      "test_correlation_analysis (__main__.TestEDA.test_correlation_analysis) ... "
     ]
    },
    {
     "name": "stdout",
     "output_type": "stream",
     "text": [
      "\n",
      "DataFrame summary:\n",
      "<class 'pandas.core.frame.DataFrame'>\n",
      "RangeIndex: 10 entries, 0 to 9\n",
      "Data columns (total 6 columns):\n",
      " #   Column                Non-Null Count  Dtype         \n",
      "---  ------                --------------  -----         \n",
      " 0   Amount                9 non-null      float64       \n",
      " 1   Value                 10 non-null     int64         \n",
      " 2   FraudResult           10 non-null     int64         \n",
      " 3   PricingStrategy       10 non-null     int64         \n",
      " 4   CountryCode           10 non-null     object        \n",
      " 5   TransactionStartTime  10 non-null     datetime64[ns]\n",
      "dtypes: datetime64[ns](1), float64(1), int64(3), object(1)\n",
      "memory usage: 612.0+ bytes\n",
      "Missing values per column:\n",
      " Amount                  1\n",
      "Value                   0\n",
      "FraudResult             0\n",
      "PricingStrategy         0\n",
      "CountryCode             0\n",
      "TransactionStartTime    0\n",
      "dtype: int64\n",
      "\n",
      "Columns with less than 5% missing values: ['Value', 'FraudResult', 'PricingStrategy', 'CountryCode', 'TransactionStartTime']\n",
      "\n",
      "Columns with more than 5% missing values: ['Amount']\n",
      "Interpolated missing data in columns: ['Amount']\n",
      "DataFrame loaded successfully from test_data.csv\n",
      "\n",
      "DataFrame head:\n"
     ]
    },
    {
     "data": {
      "application/vnd.microsoft.datawrangler.viewer.v0+json": {
       "columns": [
        {
         "name": "index",
         "rawType": "int64",
         "type": "integer"
        },
        {
         "name": "Amount",
         "rawType": "float64",
         "type": "float"
        },
        {
         "name": "Value",
         "rawType": "int64",
         "type": "integer"
        },
        {
         "name": "FraudResult",
         "rawType": "int64",
         "type": "integer"
        },
        {
         "name": "PricingStrategy",
         "rawType": "int64",
         "type": "integer"
        },
        {
         "name": "CountryCode",
         "rawType": "object",
         "type": "string"
        },
        {
         "name": "TransactionStartTime",
         "rawType": "datetime64[ns]",
         "type": "datetime"
        }
       ],
       "ref": "8f743851-ae93-40d7-a773-810653809584",
       "rows": [
        [
         "0",
         "100.0",
         "100",
         "0",
         "1",
         "UG",
         "2023-01-01 00:00:00"
        ],
        [
         "1",
         "200.0",
         "200",
         "1",
         "2",
         "UG",
         "2023-01-02 00:00:00"
        ],
        [
         "2",
         "300.0",
         "300",
         "0",
         "1",
         "UG",
         "2023-01-03 00:00:00"
        ],
        [
         "3",
         "400.0",
         "400",
         "1",
         "2",
         "UG",
         "2023-01-04 00:00:00"
        ],
        [
         "4",
         "500.0",
         "500",
         "0",
         "1",
         "UG",
         "2023-01-05 00:00:00"
        ]
       ],
       "shape": {
        "columns": 6,
        "rows": 5
       }
      },
      "text/html": [
       "<div>\n",
       "<style scoped>\n",
       "    .dataframe tbody tr th:only-of-type {\n",
       "        vertical-align: middle;\n",
       "    }\n",
       "\n",
       "    .dataframe tbody tr th {\n",
       "        vertical-align: top;\n",
       "    }\n",
       "\n",
       "    .dataframe thead th {\n",
       "        text-align: right;\n",
       "    }\n",
       "</style>\n",
       "<table border=\"1\" class=\"dataframe\">\n",
       "  <thead>\n",
       "    <tr style=\"text-align: right;\">\n",
       "      <th></th>\n",
       "      <th>Amount</th>\n",
       "      <th>Value</th>\n",
       "      <th>FraudResult</th>\n",
       "      <th>PricingStrategy</th>\n",
       "      <th>CountryCode</th>\n",
       "      <th>TransactionStartTime</th>\n",
       "    </tr>\n",
       "  </thead>\n",
       "  <tbody>\n",
       "    <tr>\n",
       "      <th>0</th>\n",
       "      <td>100.0</td>\n",
       "      <td>100</td>\n",
       "      <td>0</td>\n",
       "      <td>1</td>\n",
       "      <td>UG</td>\n",
       "      <td>2023-01-01</td>\n",
       "    </tr>\n",
       "    <tr>\n",
       "      <th>1</th>\n",
       "      <td>200.0</td>\n",
       "      <td>200</td>\n",
       "      <td>1</td>\n",
       "      <td>2</td>\n",
       "      <td>UG</td>\n",
       "      <td>2023-01-02</td>\n",
       "    </tr>\n",
       "    <tr>\n",
       "      <th>2</th>\n",
       "      <td>300.0</td>\n",
       "      <td>300</td>\n",
       "      <td>0</td>\n",
       "      <td>1</td>\n",
       "      <td>UG</td>\n",
       "      <td>2023-01-03</td>\n",
       "    </tr>\n",
       "    <tr>\n",
       "      <th>3</th>\n",
       "      <td>400.0</td>\n",
       "      <td>400</td>\n",
       "      <td>1</td>\n",
       "      <td>2</td>\n",
       "      <td>UG</td>\n",
       "      <td>2023-01-04</td>\n",
       "    </tr>\n",
       "    <tr>\n",
       "      <th>4</th>\n",
       "      <td>500.0</td>\n",
       "      <td>500</td>\n",
       "      <td>0</td>\n",
       "      <td>1</td>\n",
       "      <td>UG</td>\n",
       "      <td>2023-01-05</td>\n",
       "    </tr>\n",
       "  </tbody>\n",
       "</table>\n",
       "</div>"
      ],
      "text/plain": [
       "   Amount  Value  FraudResult  PricingStrategy CountryCode  \\\n",
       "0   100.0    100            0                1          UG   \n",
       "1   200.0    200            1                2          UG   \n",
       "2   300.0    300            0                1          UG   \n",
       "3   400.0    400            1                2          UG   \n",
       "4   500.0    500            0                1          UG   \n",
       "\n",
       "  TransactionStartTime  \n",
       "0           2023-01-01  \n",
       "1           2023-01-02  \n",
       "2           2023-01-03  \n",
       "3           2023-01-04  \n",
       "4           2023-01-05  "
      ]
     },
     "metadata": {},
     "output_type": "display_data"
    },
    {
     "name": "stdout",
     "output_type": "stream",
     "text": [
      "\n",
      "DataFrame shape:\n"
     ]
    },
    {
     "data": {
      "text/plain": [
       "(10, 6)"
      ]
     },
     "metadata": {},
     "output_type": "display_data"
    },
    {
     "name": "stdout",
     "output_type": "stream",
     "text": [
      "\n",
      "DataFrame columns:\n"
     ]
    },
    {
     "data": {
      "text/plain": [
       "Index(['Amount', 'Value', 'FraudResult', 'PricingStrategy', 'CountryCode',\n",
       "       'TransactionStartTime'],\n",
       "      dtype='object')"
      ]
     },
     "metadata": {},
     "output_type": "display_data"
    },
    {
     "name": "stdout",
     "output_type": "stream",
     "text": [
      "\n",
      "DataFrame summary:\n",
      "<class 'pandas.core.frame.DataFrame'>\n",
      "RangeIndex: 10 entries, 0 to 9\n",
      "Data columns (total 6 columns):\n",
      " #   Column                Non-Null Count  Dtype         \n",
      "---  ------                --------------  -----         \n",
      " 0   Amount                9 non-null      float64       \n",
      " 1   Value                 10 non-null     int64         \n",
      " 2   FraudResult           10 non-null     int64         \n",
      " 3   PricingStrategy       10 non-null     int64         \n",
      " 4   CountryCode           10 non-null     object        \n",
      " 5   TransactionStartTime  10 non-null     datetime64[ns]\n",
      "dtypes: datetime64[ns](1), float64(1), int64(3), object(1)\n",
      "memory usage: 612.0+ bytes\n",
      "Missing values per column:\n",
      " Amount                  1\n",
      "Value                   0\n",
      "FraudResult             0\n",
      "PricingStrategy         0\n",
      "CountryCode             0\n",
      "TransactionStartTime    0\n",
      "dtype: int64\n",
      "\n",
      "Columns with less than 5% missing values: ['Value', 'FraudResult', 'PricingStrategy', 'CountryCode', 'TransactionStartTime']\n",
      "\n",
      "Columns with more than 5% missing values: ['Amount']\n",
      "Interpolated missing data in columns: ['Amount']\n",
      "Visualising correlations ...\n",
      "\n",
      "\n",
      "Plot saved to test_plots\\Correlation Matrix of Numerical Features.png\n"
     ]
    },
    {
     "data": {
      "image/png": "[encoded data removed]",
      "text/plain": [
       "<Figure size 700x300 with 2 Axes>"
      ]
     },
     "metadata": {},
     "output_type": "display_data"
    },
    {
     "name": "stderr",
     "output_type": "stream",
     "text": [
      "ok\n",
      "test_detect_outliers (__main__.TestEDA.test_detect_outliers) ... "
     ]
    },
    {
     "name": "stdout",
     "output_type": "stream",
     "text": [
      "DataFrame loaded successfully from test_data.csv\n",
      "\n",
      "DataFrame head:\n"
     ]
    },
    {
     "data": {
      "application/vnd.microsoft.datawrangler.viewer.v0+json": {
       "columns": [
        {
         "name": "index",
         "rawType": "int64",
         "type": "integer"
        },
        {
         "name": "Amount",
         "rawType": "float64",
         "type": "float"
        },
        {
         "name": "Value",
         "rawType": "int64",
         "type": "integer"
        },
        {
         "name": "FraudResult",
         "rawType": "int64",
         "type": "integer"
        },
        {
         "name": "PricingStrategy",
         "rawType": "int64",
         "type": "integer"
        },
        {
         "name": "CountryCode",
         "rawType": "object",
         "type": "string"
        },
        {
         "name": "TransactionStartTime",
         "rawType": "datetime64[ns]",
         "type": "datetime"
        }
       ],
       "ref": "6ca36bc5-9abf-4b60-a938-eeebe415653a",
       "rows": [
        [
         "0",
         "100.0",
         "100",
         "0",
         "1",
         "UG",
         "2023-01-01 00:00:00"
        ],
        [
         "1",
         "200.0",
         "200",
         "1",
         "2",
         "UG",
         "2023-01-02 00:00:00"
        ],
        [
         "2",
         "300.0",
         "300",
         "0",
         "1",
         "UG",
         "2023-01-03 00:00:00"
        ],
        [
         "3",
         "400.0",
         "400",
         "1",
         "2",
         "UG",
         "2023-01-04 00:00:00"
        ],
        [
         "4",
         "500.0",
         "500",
         "0",
         "1",
         "UG",
         "2023-01-05 00:00:00"
        ]
       ],
       "shape": {
        "columns": 6,
        "rows": 5
       }
      },
      "text/html": [
       "<div>\n",
       "<style scoped>\n",
       "    .dataframe tbody tr th:only-of-type {\n",
       "        vertical-align: middle;\n",
       "    }\n",
       "\n",
       "    .dataframe tbody tr th {\n",
       "        vertical-align: top;\n",
       "    }\n",
       "\n",
       "    .dataframe thead th {\n",
       "        text-align: right;\n",
       "    }\n",
       "</style>\n",
       "<table border=\"1\" class=\"dataframe\">\n",
       "  <thead>\n",
       "    <tr style=\"text-align: right;\">\n",
       "      <th></th>\n",
       "      <th>Amount</th>\n",
       "      <th>Value</th>\n",
       "      <th>FraudResult</th>\n",
       "      <th>PricingStrategy</th>\n",
       "      <th>CountryCode</th>\n",
       "      <th>TransactionStartTime</th>\n",
       "    </tr>\n",
       "  </thead>\n",
       "  <tbody>\n",
       "    <tr>\n",
       "      <th>0</th>\n",
       "      <td>100.0</td>\n",
       "      <td>100</td>\n",
       "      <td>0</td>\n",
       "      <td>1</td>\n",
       "      <td>UG</td>\n",
       "      <td>2023-01-01</td>\n",
       "    </tr>\n",
       "    <tr>\n",
       "      <th>1</th>\n",
       "      <td>200.0</td>\n",
       "      <td>200</td>\n",
       "      <td>1</td>\n",
       "      <td>2</td>\n",
       "      <td>UG</td>\n",
       "      <td>2023-01-02</td>\n",
       "    </tr>\n",
       "    <tr>\n",
       "      <th>2</th>\n",
       "      <td>300.0</td>\n",
       "      <td>300</td>\n",
       "      <td>0</td>\n",
       "      <td>1</td>\n",
       "      <td>UG</td>\n",
       "      <td>2023-01-03</td>\n",
       "    </tr>\n",
       "    <tr>\n",
       "      <th>3</th>\n",
       "      <td>400.0</td>\n",
       "      <td>400</td>\n",
       "      <td>1</td>\n",
       "      <td>2</td>\n",
       "      <td>UG</td>\n",
       "      <td>2023-01-04</td>\n",
       "    </tr>\n",
       "    <tr>\n",
       "      <th>4</th>\n",
       "      <td>500.0</td>\n",
       "      <td>500</td>\n",
       "      <td>0</td>\n",
       "      <td>1</td>\n",
       "      <td>UG</td>\n",
       "      <td>2023-01-05</td>\n",
       "    </tr>\n",
       "  </tbody>\n",
       "</table>\n",
       "</div>"
      ],
      "text/plain": [
       "   Amount  Value  FraudResult  PricingStrategy CountryCode  \\\n",
       "0   100.0    100            0                1          UG   \n",
       "1   200.0    200            1                2          UG   \n",
       "2   300.0    300            0                1          UG   \n",
       "3   400.0    400            1                2          UG   \n",
       "4   500.0    500            0                1          UG   \n",
       "\n",
       "  TransactionStartTime  \n",
       "0           2023-01-01  \n",
       "1           2023-01-02  \n",
       "2           2023-01-03  \n",
       "3           2023-01-04  \n",
       "4           2023-01-05  "
      ]
     },
     "metadata": {},
     "output_type": "display_data"
    },
    {
     "name": "stdout",
     "output_type": "stream",
     "text": [
      "\n",
      "DataFrame shape:\n"
     ]
    },
    {
     "data": {
      "text/plain": [
       "(10, 6)"
      ]
     },
     "metadata": {},
     "output_type": "display_data"
    },
    {
     "name": "stdout",
     "output_type": "stream",
     "text": [
      "\n",
      "DataFrame columns:\n"
     ]
    },
    {
     "data": {
      "text/plain": [
       "Index(['Amount', 'Value', 'FraudResult', 'PricingStrategy', 'CountryCode',\n",
       "       'TransactionStartTime'],\n",
       "      dtype='object')"
      ]
     },
     "metadata": {},
     "output_type": "display_data"
    },
    {
     "name": "stdout",
     "output_type": "stream",
     "text": [
      "\n",
      "DataFrame summary:\n",
      "<class 'pandas.core.frame.DataFrame'>\n",
      "RangeIndex: 10 entries, 0 to 9\n",
      "Data columns (total 6 columns):\n",
      " #   Column                Non-Null Count  Dtype         \n",
      "---  ------                --------------  -----         \n",
      " 0   Amount                9 non-null      float64       \n",
      " 1   Value                 10 non-null     int64         \n",
      " 2   FraudResult           10 non-null     int64         \n",
      " 3   PricingStrategy       10 non-null     int64         \n",
      " 4   CountryCode           10 non-null     object        \n",
      " 5   TransactionStartTime  10 non-null     datetime64[ns]\n",
      "dtypes: datetime64[ns](1), float64(1), int64(3), object(1)\n",
      "memory usage: 612.0+ bytes\n",
      "Missing values per column:\n",
      " Amount                  1\n",
      "Value                   0\n",
      "FraudResult             0\n",
      "PricingStrategy         0\n",
      "CountryCode             0\n",
      "TransactionStartTime    0\n",
      "dtype: int64\n",
      "\n",
      "Columns with less than 5% missing values: ['Value', 'FraudResult', 'PricingStrategy', 'CountryCode', 'TransactionStartTime']\n",
      "\n",
      "Columns with more than 5% missing values: ['Amount']\n",
      "Interpolated missing data in columns: ['Amount']\n",
      "Visualising outliers ...\n",
      "\n",
      "\n",
      "Plot saved to test_plots\\Outlier Detection for Amount.png\n"
     ]
    },
    {
     "name": "stderr",
     "output_type": "stream",
     "text": [
      "c:\\Users\\nuhamin\\Documents\\kifiya\\week 5\\Credit-Risk-Probability-Model-for-Alternative-Data\\.credvenv\\Lib\\site-packages\\seaborn\\categorical.py:700: PendingDeprecationWarning: vert: bool will be deprecated in a future version. Use orientation: {'vertical', 'horizontal'} instead.\n",
      "  artists = ax.bxp(**boxplot_kws)\n"
     ]
    },
    {
     "data": {
      "image/png": "[encoded data removed]",
      "text/plain": [
       "<Figure size 800x400 with 1 Axes>"
      ]
     },
     "metadata": {},
     "output_type": "display_data"
    },
    {
     "name": "stdout",
     "output_type": "stream",
     "text": [
      "\n",
      "Plot saved to test_plots\\Outlier Detection for Value.png\n"
     ]
    },
    {
     "name": "stderr",
     "output_type": "stream",
     "text": [
      "c:\\Users\\nuhamin\\Documents\\kifiya\\week 5\\Credit-Risk-Probability-Model-for-Alternative-Data\\.credvenv\\Lib\\site-packages\\seaborn\\categorical.py:700: PendingDeprecationWarning: vert: bool will be deprecated in a future version. Use orientation: {'vertical', 'horizontal'} instead.\n",
      "  artists = ax.bxp(**boxplot_kws)\n"
     ]
    },
    {
     "data": {
      "image/png": "[encoded data removed]",
      "text/plain": [
       "<Figure size 800x400 with 1 Axes>"
      ]
     },
     "metadata": {},
     "output_type": "display_data"
    },
    {
     "name": "stdout",
     "output_type": "stream",
     "text": [
      "\n",
      "Visualising after handling outlier ...\n",
      "\n",
      "Plot saved to test_plots\\Post-Outlier Distribution of Amount.png\n"
     ]
    },
    {
     "data": {
      "image/png": "[encoded data removed]",
      "text/plain": [
       "<Figure size 800x400 with 1 Axes>"
      ]
     },
     "metadata": {},
     "output_type": "display_data"
    },
    {
     "name": "stdout",
     "output_type": "stream",
     "text": [
      "\n",
      "Plot saved to test_plots\\Post-Outlier Distribution of Value.png\n"
     ]
    },
    {
     "data": {
      "image/png": "[encoded data removed]",
      "text/plain": [
       "<Figure size 800x400 with 1 Axes>"
      ]
     },
     "metadata": {},
     "output_type": "display_data"
    },
    {
     "name": "stderr",
     "output_type": "stream",
     "text": [
      "ok\n",
      "test_impute_outliers_iqr_zscore (__main__.TestEDA.test_impute_outliers_iqr_zscore) ... "
     ]
    },
    {
     "name": "stdout",
     "output_type": "stream",
     "text": [
      "DataFrame loaded successfully from test_data.csv\n",
      "\n",
      "DataFrame head:\n"
     ]
    },
    {
     "data": {
      "application/vnd.microsoft.datawrangler.viewer.v0+json": {
       "columns": [
        {
         "name": "index",
         "rawType": "int64",
         "type": "integer"
        },
        {
         "name": "Amount",
         "rawType": "float64",
         "type": "float"
        },
        {
         "name": "Value",
         "rawType": "int64",
         "type": "integer"
        },
        {
         "name": "FraudResult",
         "rawType": "int64",
         "type": "integer"
        },
        {
         "name": "PricingStrategy",
         "rawType": "int64",
         "type": "integer"
        },
        {
         "name": "CountryCode",
         "rawType": "object",
         "type": "string"
        },
        {
         "name": "TransactionStartTime",
         "rawType": "datetime64[ns]",
         "type": "datetime"
        }
       ],
       "ref": "3d8464e1-358f-4154-b2c7-d1e90e433499",
       "rows": [
        [
         "0",
         "100.0",
         "100",
         "0",
         "1",
         "UG",
         "2023-01-01 00:00:00"
        ],
        [
         "1",
         "200.0",
         "200",
         "1",
         "2",
         "UG",
         "2023-01-02 00:00:00"
        ],
        [
         "2",
         "300.0",
         "300",
         "0",
         "1",
         "UG",
         "2023-01-03 00:00:00"
        ],
        [
         "3",
         "400.0",
         "400",
         "1",
         "2",
         "UG",
         "2023-01-04 00:00:00"
        ],
        [
         "4",
         "500.0",
         "500",
         "0",
         "1",
         "UG",
         "2023-01-05 00:00:00"
        ]
       ],
       "shape": {
        "columns": 6,
        "rows": 5
       }
      },
      "text/html": [
       "<div>\n",
       "<style scoped>\n",
       "    .dataframe tbody tr th:only-of-type {\n",
       "        vertical-align: middle;\n",
       "    }\n",
       "\n",
       "    .dataframe tbody tr th {\n",
       "        vertical-align: top;\n",
       "    }\n",
       "\n",
       "    .dataframe thead th {\n",
       "        text-align: right;\n",
       "    }\n",
       "</style>\n",
       "<table border=\"1\" class=\"dataframe\">\n",
       "  <thead>\n",
       "    <tr style=\"text-align: right;\">\n",
       "      <th></th>\n",
       "      <th>Amount</th>\n",
       "      <th>Value</th>\n",
       "      <th>FraudResult</th>\n",
       "      <th>PricingStrategy</th>\n",
       "      <th>CountryCode</th>\n",
       "      <th>TransactionStartTime</th>\n",
       "    </tr>\n",
       "  </thead>\n",
       "  <tbody>\n",
       "    <tr>\n",
       "      <th>0</th>\n",
       "      <td>100.0</td>\n",
       "      <td>100</td>\n",
       "      <td>0</td>\n",
       "      <td>1</td>\n",
       "      <td>UG</td>\n",
       "      <td>2023-01-01</td>\n",
       "    </tr>\n",
       "    <tr>\n",
       "      <th>1</th>\n",
       "      <td>200.0</td>\n",
       "      <td>200</td>\n",
       "      <td>1</td>\n",
       "      <td>2</td>\n",
       "      <td>UG</td>\n",
       "      <td>2023-01-02</td>\n",
       "    </tr>\n",
       "    <tr>\n",
       "      <th>2</th>\n",
       "      <td>300.0</td>\n",
       "      <td>300</td>\n",
       "      <td>0</td>\n",
       "      <td>1</td>\n",
       "      <td>UG</td>\n",
       "      <td>2023-01-03</td>\n",
       "    </tr>\n",
       "    <tr>\n",
       "      <th>3</th>\n",
       "      <td>400.0</td>\n",
       "      <td>400</td>\n",
       "      <td>1</td>\n",
       "      <td>2</td>\n",
       "      <td>UG</td>\n",
       "      <td>2023-01-04</td>\n",
       "    </tr>\n",
       "    <tr>\n",
       "      <th>4</th>\n",
       "      <td>500.0</td>\n",
       "      <td>500</td>\n",
       "      <td>0</td>\n",
       "      <td>1</td>\n",
       "      <td>UG</td>\n",
       "      <td>2023-01-05</td>\n",
       "    </tr>\n",
       "  </tbody>\n",
       "</table>\n",
       "</div>"
      ],
      "text/plain": [
       "   Amount  Value  FraudResult  PricingStrategy CountryCode  \\\n",
       "0   100.0    100            0                1          UG   \n",
       "1   200.0    200            1                2          UG   \n",
       "2   300.0    300            0                1          UG   \n",
       "3   400.0    400            1                2          UG   \n",
       "4   500.0    500            0                1          UG   \n",
       "\n",
       "  TransactionStartTime  \n",
       "0           2023-01-01  \n",
       "1           2023-01-02  \n",
       "2           2023-01-03  \n",
       "3           2023-01-04  \n",
       "4           2023-01-05  "
      ]
     },
     "metadata": {},
     "output_type": "display_data"
    },
    {
     "name": "stdout",
     "output_type": "stream",
     "text": [
      "\n",
      "DataFrame shape:\n"
     ]
    },
    {
     "data": {
      "text/plain": [
       "(10, 6)"
      ]
     },
     "metadata": {},
     "output_type": "display_data"
    },
    {
     "name": "stdout",
     "output_type": "stream",
     "text": [
      "\n",
      "DataFrame columns:\n"
     ]
    },
    {
     "data": {
      "text/plain": [
       "Index(['Amount', 'Value', 'FraudResult', 'PricingStrategy', 'CountryCode',\n",
       "       'TransactionStartTime'],\n",
       "      dtype='object')"
      ]
     },
     "metadata": {},
     "output_type": "display_data"
    },
    {
     "name": "stdout",
     "output_type": "stream",
     "text": [
      "\n",
      "DataFrame summary:\n",
      "<class 'pandas.core.frame.DataFrame'>\n",
      "RangeIndex: 10 entries, 0 to 9\n",
      "Data columns (total 6 columns):\n",
      " #   Column                Non-Null Count  Dtype         \n",
      "---  ------                --------------  -----         \n",
      " 0   Amount                9 non-null      float64       \n",
      " 1   Value                 10 non-null     int64         \n",
      " 2   FraudResult           10 non-null     int64         \n",
      " 3   PricingStrategy       10 non-null     int64         \n",
      " 4   CountryCode           10 non-null     object        \n",
      " 5   TransactionStartTime  10 non-null     datetime64[ns]\n",
      "dtypes: datetime64[ns](1), float64(1), int64(3), object(1)\n",
      "memory usage: 612.0+ bytes\n",
      "Missing values per column:\n",
      " Amount                  1\n",
      "Value                   0\n",
      "FraudResult             0\n",
      "PricingStrategy         0\n",
      "CountryCode             0\n",
      "TransactionStartTime    0\n",
      "dtype: int64\n",
      "\n",
      "Columns with less than 5% missing values: ['Value', 'FraudResult', 'PricingStrategy', 'CountryCode', 'TransactionStartTime']\n",
      "\n",
      "Columns with more than 5% missing values: ['Amount']\n",
      "Interpolated missing data in columns: ['Amount']\n"
     ]
    },
    {
     "name": "stderr",
     "output_type": "stream",
     "text": [
      "ok\n",
      "test_load_df (__main__.TestEDA.test_load_df) ... "
     ]
    },
    {
     "name": "stdout",
     "output_type": "stream",
     "text": [
      "DataFrame loaded successfully from test_data.csv\n",
      "\n",
      "DataFrame head:\n"
     ]
    },
    {
     "data": {
      "application/vnd.microsoft.datawrangler.viewer.v0+json": {
       "columns": [
        {
         "name": "index",
         "rawType": "int64",
         "type": "integer"
        },
        {
         "name": "Amount",
         "rawType": "float64",
         "type": "float"
        },
        {
         "name": "Value",
         "rawType": "int64",
         "type": "integer"
        },
        {
         "name": "FraudResult",
         "rawType": "int64",
         "type": "integer"
        },
        {
         "name": "PricingStrategy",
         "rawType": "int64",
         "type": "integer"
        },
        {
         "name": "CountryCode",
         "rawType": "object",
         "type": "string"
        },
        {
         "name": "TransactionStartTime",
         "rawType": "datetime64[ns]",
         "type": "datetime"
        }
       ],
       "ref": "fb0fe522-d383-43ab-964b-1c56a3ea1395",
       "rows": [
        [
         "0",
         "100.0",
         "100",
         "0",
         "1",
         "UG",
         "2023-01-01 00:00:00"
        ],
        [
         "1",
         "200.0",
         "200",
         "1",
         "2",
         "UG",
         "2023-01-02 00:00:00"
        ],
        [
         "2",
         "300.0",
         "300",
         "0",
         "1",
         "UG",
         "2023-01-03 00:00:00"
        ],
        [
         "3",
         "400.0",
         "400",
         "1",
         "2",
         "UG",
         "2023-01-04 00:00:00"
        ],
        [
         "4",
         "500.0",
         "500",
         "0",
         "1",
         "UG",
         "2023-01-05 00:00:00"
        ]
       ],
       "shape": {
        "columns": 6,
        "rows": 5
       }
      },
      "text/html": [
       "<div>\n",
       "<style scoped>\n",
       "    .dataframe tbody tr th:only-of-type {\n",
       "        vertical-align: middle;\n",
       "    }\n",
       "\n",
       "    .dataframe tbody tr th {\n",
       "        vertical-align: top;\n",
       "    }\n",
       "\n",
       "    .dataframe thead th {\n",
       "        text-align: right;\n",
       "    }\n",
       "</style>\n",
       "<table border=\"1\" class=\"dataframe\">\n",
       "  <thead>\n",
       "    <tr style=\"text-align: right;\">\n",
       "      <th></th>\n",
       "      <th>Amount</th>\n",
       "      <th>Value</th>\n",
       "      <th>FraudResult</th>\n",
       "      <th>PricingStrategy</th>\n",
       "      <th>CountryCode</th>\n",
       "      <th>TransactionStartTime</th>\n",
       "    </tr>\n",
       "  </thead>\n",
       "  <tbody>\n",
       "    <tr>\n",
       "      <th>0</th>\n",
       "      <td>100.0</td>\n",
       "      <td>100</td>\n",
       "      <td>0</td>\n",
       "      <td>1</td>\n",
       "      <td>UG</td>\n",
       "      <td>2023-01-01</td>\n",
       "    </tr>\n",
       "    <tr>\n",
       "      <th>1</th>\n",
       "      <td>200.0</td>\n",
       "      <td>200</td>\n",
       "      <td>1</td>\n",
       "      <td>2</td>\n",
       "      <td>UG</td>\n",
       "      <td>2023-01-02</td>\n",
       "    </tr>\n",
       "    <tr>\n",
       "      <th>2</th>\n",
       "      <td>300.0</td>\n",
       "      <td>300</td>\n",
       "      <td>0</td>\n",
       "      <td>1</td>\n",
       "      <td>UG</td>\n",
       "      <td>2023-01-03</td>\n",
       "    </tr>\n",
       "    <tr>\n",
       "      <th>3</th>\n",
       "      <td>400.0</td>\n",
       "      <td>400</td>\n",
       "      <td>1</td>\n",
       "      <td>2</td>\n",
       "      <td>UG</td>\n",
       "      <td>2023-01-04</td>\n",
       "    </tr>\n",
       "    <tr>\n",
       "      <th>4</th>\n",
       "      <td>500.0</td>\n",
       "      <td>500</td>\n",
       "      <td>0</td>\n",
       "      <td>1</td>\n",
       "      <td>UG</td>\n",
       "      <td>2023-01-05</td>\n",
       "    </tr>\n",
       "  </tbody>\n",
       "</table>\n",
       "</div>"
      ],
      "text/plain": [
       "   Amount  Value  FraudResult  PricingStrategy CountryCode  \\\n",
       "0   100.0    100            0                1          UG   \n",
       "1   200.0    200            1                2          UG   \n",
       "2   300.0    300            0                1          UG   \n",
       "3   400.0    400            1                2          UG   \n",
       "4   500.0    500            0                1          UG   \n",
       "\n",
       "  TransactionStartTime  \n",
       "0           2023-01-01  \n",
       "1           2023-01-02  \n",
       "2           2023-01-03  \n",
       "3           2023-01-04  \n",
       "4           2023-01-05  "
      ]
     },
     "metadata": {},
     "output_type": "display_data"
    },
    {
     "name": "stdout",
     "output_type": "stream",
     "text": [
      "\n",
      "DataFrame shape:\n"
     ]
    },
    {
     "data": {
      "text/plain": [
       "(10, 6)"
      ]
     },
     "metadata": {},
     "output_type": "display_data"
    },
    {
     "name": "stdout",
     "output_type": "stream",
     "text": [
      "\n",
      "DataFrame columns:\n"
     ]
    },
    {
     "data": {
      "text/plain": [
       "Index(['Amount', 'Value', 'FraudResult', 'PricingStrategy', 'CountryCode',\n",
       "       'TransactionStartTime'],\n",
       "      dtype='object')"
      ]
     },
     "metadata": {},
     "output_type": "display_data"
    },
    {
     "name": "stderr",
     "output_type": "stream",
     "text": [
      "ok\n",
      "test_missing_values (__main__.TestEDA.test_missing_values) ... "
     ]
    },
    {
     "name": "stdout",
     "output_type": "stream",
     "text": [
      "\n",
      "DataFrame summary:\n",
      "<class 'pandas.core.frame.DataFrame'>\n",
      "RangeIndex: 10 entries, 0 to 9\n",
      "Data columns (total 6 columns):\n",
      " #   Column                Non-Null Count  Dtype         \n",
      "---  ------                --------------  -----         \n",
      " 0   Amount                9 non-null      float64       \n",
      " 1   Value                 10 non-null     int64         \n",
      " 2   FraudResult           10 non-null     int64         \n",
      " 3   PricingStrategy       10 non-null     int64         \n",
      " 4   CountryCode           10 non-null     object        \n",
      " 5   TransactionStartTime  10 non-null     datetime64[ns]\n",
      "dtypes: datetime64[ns](1), float64(1), int64(3), object(1)\n",
      "memory usage: 612.0+ bytes\n",
      "Missing values per column:\n",
      " Amount                  1\n",
      "Value                   0\n",
      "FraudResult             0\n",
      "PricingStrategy         0\n",
      "CountryCode             0\n",
      "TransactionStartTime    0\n",
      "dtype: int64\n",
      "\n",
      "Columns with less than 5% missing values: ['Value', 'FraudResult', 'PricingStrategy', 'CountryCode', 'TransactionStartTime']\n",
      "\n",
      "Columns with more than 5% missing values: ['Amount']\n",
      "Interpolated missing data in columns: ['Amount']\n",
      "DataFrame loaded successfully from test_data.csv\n",
      "\n",
      "DataFrame head:\n"
     ]
    },
    {
     "data": {
      "application/vnd.microsoft.datawrangler.viewer.v0+json": {
       "columns": [
        {
         "name": "index",
         "rawType": "int64",
         "type": "integer"
        },
        {
         "name": "Amount",
         "rawType": "float64",
         "type": "float"
        },
        {
         "name": "Value",
         "rawType": "int64",
         "type": "integer"
        },
        {
         "name": "FraudResult",
         "rawType": "int64",
         "type": "integer"
        },
        {
         "name": "PricingStrategy",
         "rawType": "int64",
         "type": "integer"
        },
        {
         "name": "CountryCode",
         "rawType": "object",
         "type": "string"
        },
        {
         "name": "TransactionStartTime",
         "rawType": "datetime64[ns]",
         "type": "datetime"
        }
       ],
       "ref": "7ea4a32a-d63d-4b45-95cf-d7f4a2df9a58",
       "rows": [
        [
         "0",
         "100.0",
         "100",
         "0",
         "1",
         "UG",
         "2023-01-01 00:00:00"
        ],
        [
         "1",
         "200.0",
         "200",
         "1",
         "2",
         "UG",
         "2023-01-02 00:00:00"
        ],
        [
         "2",
         "300.0",
         "300",
         "0",
         "1",
         "UG",
         "2023-01-03 00:00:00"
        ],
        [
         "3",
         "400.0",
         "400",
         "1",
         "2",
         "UG",
         "2023-01-04 00:00:00"
        ],
        [
         "4",
         "500.0",
         "500",
         "0",
         "1",
         "UG",
         "2023-01-05 00:00:00"
        ]
       ],
       "shape": {
        "columns": 6,
        "rows": 5
       }
      },
      "text/html": [
       "<div>\n",
       "<style scoped>\n",
       "    .dataframe tbody tr th:only-of-type {\n",
       "        vertical-align: middle;\n",
       "    }\n",
       "\n",
       "    .dataframe tbody tr th {\n",
       "        vertical-align: top;\n",
       "    }\n",
       "\n",
       "    .dataframe thead th {\n",
       "        text-align: right;\n",
       "    }\n",
       "</style>\n",
       "<table border=\"1\" class=\"dataframe\">\n",
       "  <thead>\n",
       "    <tr style=\"text-align: right;\">\n",
       "      <th></th>\n",
       "      <th>Amount</th>\n",
       "      <th>Value</th>\n",
       "      <th>FraudResult</th>\n",
       "      <th>PricingStrategy</th>\n",
       "      <th>CountryCode</th>\n",
       "      <th>TransactionStartTime</th>\n",
       "    </tr>\n",
       "  </thead>\n",
       "  <tbody>\n",
       "    <tr>\n",
       "      <th>0</th>\n",
       "      <td>100.0</td>\n",
       "      <td>100</td>\n",
       "      <td>0</td>\n",
       "      <td>1</td>\n",
       "      <td>UG</td>\n",
       "      <td>2023-01-01</td>\n",
       "    </tr>\n",
       "    <tr>\n",
       "      <th>1</th>\n",
       "      <td>200.0</td>\n",
       "      <td>200</td>\n",
       "      <td>1</td>\n",
       "      <td>2</td>\n",
       "      <td>UG</td>\n",
       "      <td>2023-01-02</td>\n",
       "    </tr>\n",
       "    <tr>\n",
       "      <th>2</th>\n",
       "      <td>300.0</td>\n",
       "      <td>300</td>\n",
       "      <td>0</td>\n",
       "      <td>1</td>\n",
       "      <td>UG</td>\n",
       "      <td>2023-01-03</td>\n",
       "    </tr>\n",
       "    <tr>\n",
       "      <th>3</th>\n",
       "      <td>400.0</td>\n",
       "      <td>400</td>\n",
       "      <td>1</td>\n",
       "      <td>2</td>\n",
       "      <td>UG</td>\n",
       "      <td>2023-01-04</td>\n",
       "    </tr>\n",
       "    <tr>\n",
       "      <th>4</th>\n",
       "      <td>500.0</td>\n",
       "      <td>500</td>\n",
       "      <td>0</td>\n",
       "      <td>1</td>\n",
       "      <td>UG</td>\n",
       "      <td>2023-01-05</td>\n",
       "    </tr>\n",
       "  </tbody>\n",
       "</table>\n",
       "</div>"
      ],
      "text/plain": [
       "   Amount  Value  FraudResult  PricingStrategy CountryCode  \\\n",
       "0   100.0    100            0                1          UG   \n",
       "1   200.0    200            1                2          UG   \n",
       "2   300.0    300            0                1          UG   \n",
       "3   400.0    400            1                2          UG   \n",
       "4   500.0    500            0                1          UG   \n",
       "\n",
       "  TransactionStartTime  \n",
       "0           2023-01-01  \n",
       "1           2023-01-02  \n",
       "2           2023-01-03  \n",
       "3           2023-01-04  \n",
       "4           2023-01-05  "
      ]
     },
     "metadata": {},
     "output_type": "display_data"
    },
    {
     "name": "stdout",
     "output_type": "stream",
     "text": [
      "\n",
      "DataFrame shape:\n"
     ]
    },
    {
     "data": {
      "text/plain": [
       "(10, 6)"
      ]
     },
     "metadata": {},
     "output_type": "display_data"
    },
    {
     "name": "stdout",
     "output_type": "stream",
     "text": [
      "\n",
      "DataFrame columns:\n"
     ]
    },
    {
     "data": {
      "text/plain": [
       "Index(['Amount', 'Value', 'FraudResult', 'PricingStrategy', 'CountryCode',\n",
       "       'TransactionStartTime'],\n",
       "      dtype='object')"
      ]
     },
     "metadata": {},
     "output_type": "display_data"
    },
    {
     "name": "stderr",
     "output_type": "stream",
     "text": [
      "ok\n",
      "test_save_df (__main__.TestEDA.test_save_df) ... "
     ]
    },
    {
     "name": "stdout",
     "output_type": "stream",
     "text": [
      "\n",
      "DataFrame summary:\n",
      "<class 'pandas.core.frame.DataFrame'>\n",
      "RangeIndex: 10 entries, 0 to 9\n",
      "Data columns (total 6 columns):\n",
      " #   Column                Non-Null Count  Dtype         \n",
      "---  ------                --------------  -----         \n",
      " 0   Amount                9 non-null      float64       \n",
      " 1   Value                 10 non-null     int64         \n",
      " 2   FraudResult           10 non-null     int64         \n",
      " 3   PricingStrategy       10 non-null     int64         \n",
      " 4   CountryCode           10 non-null     object        \n",
      " 5   TransactionStartTime  10 non-null     datetime64[ns]\n",
      "dtypes: datetime64[ns](1), float64(1), int64(3), object(1)\n",
      "memory usage: 612.0+ bytes\n",
      "Missing values per column:\n",
      " Amount                  1\n",
      "Value                   0\n",
      "FraudResult             0\n",
      "PricingStrategy         0\n",
      "CountryCode             0\n",
      "TransactionStartTime    0\n",
      "dtype: int64\n",
      "\n",
      "Columns with less than 5% missing values: ['Value', 'FraudResult', 'PricingStrategy', 'CountryCode', 'TransactionStartTime']\n",
      "\n",
      "Columns with more than 5% missing values: ['Amount']\n",
      "Interpolated missing data in columns: ['Amount']\n",
      "DataFrame loaded successfully from test_data.csv\n",
      "\n",
      "DataFrame head:\n"
     ]
    },
    {
     "data": {
      "application/vnd.microsoft.datawrangler.viewer.v0+json": {
       "columns": [
        {
         "name": "index",
         "rawType": "int64",
         "type": "integer"
        },
        {
         "name": "Amount",
         "rawType": "float64",
         "type": "float"
        },
        {
         "name": "Value",
         "rawType": "int64",
         "type": "integer"
        },
        {
         "name": "FraudResult",
         "rawType": "int64",
         "type": "integer"
        },
        {
         "name": "PricingStrategy",
         "rawType": "int64",
         "type": "integer"
        },
        {
         "name": "CountryCode",
         "rawType": "object",
         "type": "string"
        },
        {
         "name": "TransactionStartTime",
         "rawType": "datetime64[ns]",
         "type": "datetime"
        }
       ],
       "ref": "04b1f44d-233f-4752-9d0b-e593fc4dfe08",
       "rows": [
        [
         "0",
         "100.0",
         "100",
         "0",
         "1",
         "UG",
         "2023-01-01 00:00:00"
        ],
        [
         "1",
         "200.0",
         "200",
         "1",
         "2",
         "UG",
         "2023-01-02 00:00:00"
        ],
        [
         "2",
         "300.0",
         "300",
         "0",
         "1",
         "UG",
         "2023-01-03 00:00:00"
        ],
        [
         "3",
         "400.0",
         "400",
         "1",
         "2",
         "UG",
         "2023-01-04 00:00:00"
        ],
        [
         "4",
         "500.0",
         "500",
         "0",
         "1",
         "UG",
         "2023-01-05 00:00:00"
        ]
       ],
       "shape": {
        "columns": 6,
        "rows": 5
       }
      },
      "text/html": [
       "<div>\n",
       "<style scoped>\n",
       "    .dataframe tbody tr th:only-of-type {\n",
       "        vertical-align: middle;\n",
       "    }\n",
       "\n",
       "    .dataframe tbody tr th {\n",
       "        vertical-align: top;\n",
       "    }\n",
       "\n",
       "    .dataframe thead th {\n",
       "        text-align: right;\n",
       "    }\n",
       "</style>\n",
       "<table border=\"1\" class=\"dataframe\">\n",
       "  <thead>\n",
       "    <tr style=\"text-align: right;\">\n",
       "      <th></th>\n",
       "      <th>Amount</th>\n",
       "      <th>Value</th>\n",
       "      <th>FraudResult</th>\n",
       "      <th>PricingStrategy</th>\n",
       "      <th>CountryCode</th>\n",
       "      <th>TransactionStartTime</th>\n",
       "    </tr>\n",
       "  </thead>\n",
       "  <tbody>\n",
       "    <tr>\n",
       "      <th>0</th>\n",
       "      <td>100.0</td>\n",
       "      <td>100</td>\n",
       "      <td>0</td>\n",
       "      <td>1</td>\n",
       "      <td>UG</td>\n",
       "      <td>2023-01-01</td>\n",
       "    </tr>\n",
       "    <tr>\n",
       "      <th>1</th>\n",
       "      <td>200.0</td>\n",
       "      <td>200</td>\n",
       "      <td>1</td>\n",
       "      <td>2</td>\n",
       "      <td>UG</td>\n",
       "      <td>2023-01-02</td>\n",
       "    </tr>\n",
       "    <tr>\n",
       "      <th>2</th>\n",
       "      <td>300.0</td>\n",
       "      <td>300</td>\n",
       "      <td>0</td>\n",
       "      <td>1</td>\n",
       "      <td>UG</td>\n",
       "      <td>2023-01-03</td>\n",
       "    </tr>\n",
       "    <tr>\n",
       "      <th>3</th>\n",
       "      <td>400.0</td>\n",
       "      <td>400</td>\n",
       "      <td>1</td>\n",
       "      <td>2</td>\n",
       "      <td>UG</td>\n",
       "      <td>2023-01-04</td>\n",
       "    </tr>\n",
       "    <tr>\n",
       "      <th>4</th>\n",
       "      <td>500.0</td>\n",
       "      <td>500</td>\n",
       "      <td>0</td>\n",
       "      <td>1</td>\n",
       "      <td>UG</td>\n",
       "      <td>2023-01-05</td>\n",
       "    </tr>\n",
       "  </tbody>\n",
       "</table>\n",
       "</div>"
      ],
      "text/plain": [
       "   Amount  Value  FraudResult  PricingStrategy CountryCode  \\\n",
       "0   100.0    100            0                1          UG   \n",
       "1   200.0    200            1                2          UG   \n",
       "2   300.0    300            0                1          UG   \n",
       "3   400.0    400            1                2          UG   \n",
       "4   500.0    500            0                1          UG   \n",
       "\n",
       "  TransactionStartTime  \n",
       "0           2023-01-01  \n",
       "1           2023-01-02  \n",
       "2           2023-01-03  \n",
       "3           2023-01-04  \n",
       "4           2023-01-05  "
      ]
     },
     "metadata": {},
     "output_type": "display_data"
    },
    {
     "name": "stdout",
     "output_type": "stream",
     "text": [
      "\n",
      "DataFrame shape:\n"
     ]
    },
    {
     "data": {
      "text/plain": [
       "(10, 6)"
      ]
     },
     "metadata": {},
     "output_type": "display_data"
    },
    {
     "name": "stdout",
     "output_type": "stream",
     "text": [
      "\n",
      "DataFrame columns:\n"
     ]
    },
    {
     "data": {
      "text/plain": [
       "Index(['Amount', 'Value', 'FraudResult', 'PricingStrategy', 'CountryCode',\n",
       "       'TransactionStartTime'],\n",
       "      dtype='object')"
      ]
     },
     "metadata": {},
     "output_type": "display_data"
    },
    {
     "name": "stdout",
     "output_type": "stream",
     "text": [
      "\n",
      "DataFrame summary:\n",
      "<class 'pandas.core.frame.DataFrame'>\n",
      "RangeIndex: 10 entries, 0 to 9\n",
      "Data columns (total 6 columns):\n",
      " #   Column                Non-Null Count  Dtype         \n",
      "---  ------                --------------  -----         \n",
      " 0   Amount                9 non-null      float64       \n",
      " 1   Value                 10 non-null     int64         \n",
      " 2   FraudResult           10 non-null     int64         \n",
      " 3   PricingStrategy       10 non-null     int64         \n",
      " 4   CountryCode           10 non-null     object        \n",
      " 5   TransactionStartTime  10 non-null     datetime64[ns]\n",
      "dtypes: datetime64[ns](1), float64(1), int64(3), object(1)\n",
      "memory usage: 612.0+ bytes\n",
      "Missing values per column:\n",
      " Amount                  1\n",
      "Value                   0\n",
      "FraudResult             0\n",
      "PricingStrategy         0\n",
      "CountryCode             0\n",
      "TransactionStartTime    0\n",
      "dtype: int64\n",
      "\n",
      "Columns with less than 5% missing values: ['Value', 'FraudResult', 'PricingStrategy', 'CountryCode', 'TransactionStartTime']\n",
      "\n",
      "Columns with more than 5% missing values: ['Amount']\n",
      "Interpolated missing data in columns: ['Amount']\n",
      "\n",
      "Processed DataFrame saved to: test_processed_data\\processed.csv\n",
      "\n",
      "DataFrame Head:\n"
     ]
    },
    {
     "data": {
      "application/vnd.microsoft.datawrangler.viewer.v0+json": {
       "columns": [
        {
         "name": "index",
         "rawType": "int64",
         "type": "integer"
        },
        {
         "name": "Amount",
         "rawType": "float64",
         "type": "float"
        },
        {
         "name": "Value",
         "rawType": "int64",
         "type": "integer"
        },
        {
         "name": "FraudResult",
         "rawType": "int64",
         "type": "integer"
        },
        {
         "name": "PricingStrategy",
         "rawType": "int64",
         "type": "integer"
        },
        {
         "name": "CountryCode",
         "rawType": "object",
         "type": "string"
        },
        {
         "name": "TransactionStartTime",
         "rawType": "datetime64[ns]",
         "type": "datetime"
        }
       ],
       "ref": "95f25790-ad76-441c-b590-abaf5ca50cb8",
       "rows": [
        [
         "0",
         "100.0",
         "100",
         "0",
         "1",
         "UG",
         "2023-01-01 00:00:00"
        ],
        [
         "1",
         "200.0",
         "200",
         "1",
         "2",
         "UG",
         "2023-01-02 00:00:00"
        ],
        [
         "2",
         "300.0",
         "300",
         "0",
         "1",
         "UG",
         "2023-01-03 00:00:00"
        ],
        [
         "3",
         "400.0",
         "400",
         "1",
         "2",
         "UG",
         "2023-01-04 00:00:00"
        ],
        [
         "4",
         "500.0",
         "500",
         "0",
         "1",
         "UG",
         "2023-01-05 00:00:00"
        ]
       ],
       "shape": {
        "columns": 6,
        "rows": 5
       }
      },
      "text/html": [
       "<div>\n",
       "<style scoped>\n",
       "    .dataframe tbody tr th:only-of-type {\n",
       "        vertical-align: middle;\n",
       "    }\n",
       "\n",
       "    .dataframe tbody tr th {\n",
       "        vertical-align: top;\n",
       "    }\n",
       "\n",
       "    .dataframe thead th {\n",
       "        text-align: right;\n",
       "    }\n",
       "</style>\n",
       "<table border=\"1\" class=\"dataframe\">\n",
       "  <thead>\n",
       "    <tr style=\"text-align: right;\">\n",
       "      <th></th>\n",
       "      <th>Amount</th>\n",
       "      <th>Value</th>\n",
       "      <th>FraudResult</th>\n",
       "      <th>PricingStrategy</th>\n",
       "      <th>CountryCode</th>\n",
       "      <th>TransactionStartTime</th>\n",
       "    </tr>\n",
       "  </thead>\n",
       "  <tbody>\n",
       "    <tr>\n",
       "      <th>0</th>\n",
       "      <td>100.0</td>\n",
       "      <td>100</td>\n",
       "      <td>0</td>\n",
       "      <td>1</td>\n",
       "      <td>UG</td>\n",
       "      <td>2023-01-01</td>\n",
       "    </tr>\n",
       "    <tr>\n",
       "      <th>1</th>\n",
       "      <td>200.0</td>\n",
       "      <td>200</td>\n",
       "      <td>1</td>\n",
       "      <td>2</td>\n",
       "      <td>UG</td>\n",
       "      <td>2023-01-02</td>\n",
       "    </tr>\n",
       "    <tr>\n",
       "      <th>2</th>\n",
       "      <td>300.0</td>\n",
       "      <td>300</td>\n",
       "      <td>0</td>\n",
       "      <td>1</td>\n",
       "      <td>UG</td>\n",
       "      <td>2023-01-03</td>\n",
       "    </tr>\n",
       "    <tr>\n",
       "      <th>3</th>\n",
       "      <td>400.0</td>\n",
       "      <td>400</td>\n",
       "      <td>1</td>\n",
       "      <td>2</td>\n",
       "      <td>UG</td>\n",
       "      <td>2023-01-04</td>\n",
       "    </tr>\n",
       "    <tr>\n",
       "      <th>4</th>\n",
       "      <td>500.0</td>\n",
       "      <td>500</td>\n",
       "      <td>0</td>\n",
       "      <td>1</td>\n",
       "      <td>UG</td>\n",
       "      <td>2023-01-05</td>\n",
       "    </tr>\n",
       "  </tbody>\n",
       "</table>\n",
       "</div>"
      ],
      "text/plain": [
       "   Amount  Value  FraudResult  PricingStrategy CountryCode  \\\n",
       "0   100.0    100            0                1          UG   \n",
       "1   200.0    200            1                2          UG   \n",
       "2   300.0    300            0                1          UG   \n",
       "3   400.0    400            1                2          UG   \n",
       "4   500.0    500            0                1          UG   \n",
       "\n",
       "  TransactionStartTime  \n",
       "0           2023-01-01  \n",
       "1           2023-01-02  \n",
       "2           2023-01-03  \n",
       "3           2023-01-04  \n",
       "4           2023-01-05  "
      ]
     },
     "metadata": {},
     "output_type": "display_data"
    },
    {
     "name": "stdout",
     "output_type": "stream",
     "text": [
      "\n",
      "DataFrame Description:\n"
     ]
    },
    {
     "data": {
      "application/vnd.microsoft.datawrangler.viewer.v0+json": {
       "columns": [
        {
         "name": "index",
         "rawType": "object",
         "type": "string"
        },
        {
         "name": "Amount",
         "rawType": "float64",
         "type": "float"
        },
        {
         "name": "Value",
         "rawType": "float64",
         "type": "float"
        },
        {
         "name": "FraudResult",
         "rawType": "float64",
         "type": "float"
        },
        {
         "name": "PricingStrategy",
         "rawType": "float64",
         "type": "float"
        }
       ],
       "ref": "f02bf70b-98da-4304-8f65-c8ed303ac921",
       "rows": [
        [
         "count",
         "10.0",
         "10.0",
         "10.0",
         "10.0"
        ],
        [
         "mean",
         "198.5",
         "550.0",
         "0.5",
         "1.5"
        ],
        [
         "std",
         "177.76466965563708",
         "302.7650354097492",
         "0.5270462766947299",
         "0.5270462766947299"
        ],
        [
         "min",
         "-50.0",
         "100.0",
         "0.0",
         "1.0"
        ],
        [
         "25%",
         "47.5",
         "325.0",
         "0.0",
         "1.0"
        ],
        [
         "50%",
         "225.0",
         "550.0",
         "0.5",
         "1.5"
        ],
        [
         "75%",
         "287.5",
         "775.0",
         "1.0",
         "2.0"
        ],
        [
         "max",
         "500.0",
         "1000.0",
         "1.0",
         "2.0"
        ]
       ],
       "shape": {
        "columns": 4,
        "rows": 8
       }
      },
      "text/html": [
       "<div>\n",
       "<style scoped>\n",
       "    .dataframe tbody tr th:only-of-type {\n",
       "        vertical-align: middle;\n",
       "    }\n",
       "\n",
       "    .dataframe tbody tr th {\n",
       "        vertical-align: top;\n",
       "    }\n",
       "\n",
       "    .dataframe thead th {\n",
       "        text-align: right;\n",
       "    }\n",
       "</style>\n",
       "<table border=\"1\" class=\"dataframe\">\n",
       "  <thead>\n",
       "    <tr style=\"text-align: right;\">\n",
       "      <th></th>\n",
       "      <th>Amount</th>\n",
       "      <th>Value</th>\n",
       "      <th>FraudResult</th>\n",
       "      <th>PricingStrategy</th>\n",
       "    </tr>\n",
       "  </thead>\n",
       "  <tbody>\n",
       "    <tr>\n",
       "      <th>count</th>\n",
       "      <td>10.00000</td>\n",
       "      <td>10.000000</td>\n",
       "      <td>10.000000</td>\n",
       "      <td>10.000000</td>\n",
       "    </tr>\n",
       "    <tr>\n",
       "      <th>mean</th>\n",
       "      <td>198.50000</td>\n",
       "      <td>550.000000</td>\n",
       "      <td>0.500000</td>\n",
       "      <td>1.500000</td>\n",
       "    </tr>\n",
       "    <tr>\n",
       "      <th>std</th>\n",
       "      <td>177.76467</td>\n",
       "      <td>302.765035</td>\n",
       "      <td>0.527046</td>\n",
       "      <td>0.527046</td>\n",
       "    </tr>\n",
       "    <tr>\n",
       "      <th>min</th>\n",
       "      <td>-50.00000</td>\n",
       "      <td>100.000000</td>\n",
       "      <td>0.000000</td>\n",
       "      <td>1.000000</td>\n",
       "    </tr>\n",
       "    <tr>\n",
       "      <th>25%</th>\n",
       "      <td>47.50000</td>\n",
       "      <td>325.000000</td>\n",
       "      <td>0.000000</td>\n",
       "      <td>1.000000</td>\n",
       "    </tr>\n",
       "    <tr>\n",
       "      <th>50%</th>\n",
       "      <td>225.00000</td>\n",
       "      <td>550.000000</td>\n",
       "      <td>0.500000</td>\n",
       "      <td>1.500000</td>\n",
       "    </tr>\n",
       "    <tr>\n",
       "      <th>75%</th>\n",
       "      <td>287.50000</td>\n",
       "      <td>775.000000</td>\n",
       "      <td>1.000000</td>\n",
       "      <td>2.000000</td>\n",
       "    </tr>\n",
       "    <tr>\n",
       "      <th>max</th>\n",
       "      <td>500.00000</td>\n",
       "      <td>1000.000000</td>\n",
       "      <td>1.000000</td>\n",
       "      <td>2.000000</td>\n",
       "    </tr>\n",
       "  </tbody>\n",
       "</table>\n",
       "</div>"
      ],
      "text/plain": [
       "          Amount        Value  FraudResult  PricingStrategy\n",
       "count   10.00000    10.000000    10.000000        10.000000\n",
       "mean   198.50000   550.000000     0.500000         1.500000\n",
       "std    177.76467   302.765035     0.527046         0.527046\n",
       "min    -50.00000   100.000000     0.000000         1.000000\n",
       "25%     47.50000   325.000000     0.000000         1.000000\n",
       "50%    225.00000   550.000000     0.500000         1.500000\n",
       "75%    287.50000   775.000000     1.000000         2.000000\n",
       "max    500.00000  1000.000000     1.000000         2.000000"
      ]
     },
     "metadata": {},
     "output_type": "display_data"
    },
    {
     "name": "stderr",
     "output_type": "stream",
     "text": [
      "ok\n",
      "test_save_plot (__main__.TestEDA.test_save_plot) ... "
     ]
    },
    {
     "name": "stdout",
     "output_type": "stream",
     "text": [
      "DataFrame loaded successfully from test_data.csv\n",
      "\n",
      "DataFrame head:\n"
     ]
    },
    {
     "data": {
      "application/vnd.microsoft.datawrangler.viewer.v0+json": {
       "columns": [
        {
         "name": "index",
         "rawType": "int64",
         "type": "integer"
        },
        {
         "name": "Amount",
         "rawType": "float64",
         "type": "float"
        },
        {
         "name": "Value",
         "rawType": "int64",
         "type": "integer"
        },
        {
         "name": "FraudResult",
         "rawType": "int64",
         "type": "integer"
        },
        {
         "name": "PricingStrategy",
         "rawType": "int64",
         "type": "integer"
        },
        {
         "name": "CountryCode",
         "rawType": "object",
         "type": "string"
        },
        {
         "name": "TransactionStartTime",
         "rawType": "datetime64[ns]",
         "type": "datetime"
        }
       ],
       "ref": "8b519871-1278-4383-8efb-9c07a3a4020b",
       "rows": [
        [
         "0",
         "100.0",
         "100",
         "0",
         "1",
         "UG",
         "2023-01-01 00:00:00"
        ],
        [
         "1",
         "200.0",
         "200",
         "1",
         "2",
         "UG",
         "2023-01-02 00:00:00"
        ],
        [
         "2",
         "300.0",
         "300",
         "0",
         "1",
         "UG",
         "2023-01-03 00:00:00"
        ],
        [
         "3",
         "400.0",
         "400",
         "1",
         "2",
         "UG",
         "2023-01-04 00:00:00"
        ],
        [
         "4",
         "500.0",
         "500",
         "0",
         "1",
         "UG",
         "2023-01-05 00:00:00"
        ]
       ],
       "shape": {
        "columns": 6,
        "rows": 5
       }
      },
      "text/html": [
       "<div>\n",
       "<style scoped>\n",
       "    .dataframe tbody tr th:only-of-type {\n",
       "        vertical-align: middle;\n",
       "    }\n",
       "\n",
       "    .dataframe tbody tr th {\n",
       "        vertical-align: top;\n",
       "    }\n",
       "\n",
       "    .dataframe thead th {\n",
       "        text-align: right;\n",
       "    }\n",
       "</style>\n",
       "<table border=\"1\" class=\"dataframe\">\n",
       "  <thead>\n",
       "    <tr style=\"text-align: right;\">\n",
       "      <th></th>\n",
       "      <th>Amount</th>\n",
       "      <th>Value</th>\n",
       "      <th>FraudResult</th>\n",
       "      <th>PricingStrategy</th>\n",
       "      <th>CountryCode</th>\n",
       "      <th>TransactionStartTime</th>\n",
       "    </tr>\n",
       "  </thead>\n",
       "  <tbody>\n",
       "    <tr>\n",
       "      <th>0</th>\n",
       "      <td>100.0</td>\n",
       "      <td>100</td>\n",
       "      <td>0</td>\n",
       "      <td>1</td>\n",
       "      <td>UG</td>\n",
       "      <td>2023-01-01</td>\n",
       "    </tr>\n",
       "    <tr>\n",
       "      <th>1</th>\n",
       "      <td>200.0</td>\n",
       "      <td>200</td>\n",
       "      <td>1</td>\n",
       "      <td>2</td>\n",
       "      <td>UG</td>\n",
       "      <td>2023-01-02</td>\n",
       "    </tr>\n",
       "    <tr>\n",
       "      <th>2</th>\n",
       "      <td>300.0</td>\n",
       "      <td>300</td>\n",
       "      <td>0</td>\n",
       "      <td>1</td>\n",
       "      <td>UG</td>\n",
       "      <td>2023-01-03</td>\n",
       "    </tr>\n",
       "    <tr>\n",
       "      <th>3</th>\n",
       "      <td>400.0</td>\n",
       "      <td>400</td>\n",
       "      <td>1</td>\n",
       "      <td>2</td>\n",
       "      <td>UG</td>\n",
       "      <td>2023-01-04</td>\n",
       "    </tr>\n",
       "    <tr>\n",
       "      <th>4</th>\n",
       "      <td>500.0</td>\n",
       "      <td>500</td>\n",
       "      <td>0</td>\n",
       "      <td>1</td>\n",
       "      <td>UG</td>\n",
       "      <td>2023-01-05</td>\n",
       "    </tr>\n",
       "  </tbody>\n",
       "</table>\n",
       "</div>"
      ],
      "text/plain": [
       "   Amount  Value  FraudResult  PricingStrategy CountryCode  \\\n",
       "0   100.0    100            0                1          UG   \n",
       "1   200.0    200            1                2          UG   \n",
       "2   300.0    300            0                1          UG   \n",
       "3   400.0    400            1                2          UG   \n",
       "4   500.0    500            0                1          UG   \n",
       "\n",
       "  TransactionStartTime  \n",
       "0           2023-01-01  \n",
       "1           2023-01-02  \n",
       "2           2023-01-03  \n",
       "3           2023-01-04  \n",
       "4           2023-01-05  "
      ]
     },
     "metadata": {},
     "output_type": "display_data"
    },
    {
     "name": "stdout",
     "output_type": "stream",
     "text": [
      "\n",
      "DataFrame shape:\n"
     ]
    },
    {
     "data": {
      "text/plain": [
       "(10, 6)"
      ]
     },
     "metadata": {},
     "output_type": "display_data"
    },
    {
     "name": "stdout",
     "output_type": "stream",
     "text": [
      "\n",
      "DataFrame columns:\n"
     ]
    },
    {
     "data": {
      "text/plain": [
       "Index(['Amount', 'Value', 'FraudResult', 'PricingStrategy', 'CountryCode',\n",
       "       'TransactionStartTime'],\n",
       "      dtype='object')"
      ]
     },
     "metadata": {},
     "output_type": "display_data"
    },
    {
     "name": "stdout",
     "output_type": "stream",
     "text": [
      "\n",
      "DataFrame summary:\n",
      "<class 'pandas.core.frame.DataFrame'>\n",
      "RangeIndex: 10 entries, 0 to 9\n",
      "Data columns (total 6 columns):\n",
      " #   Column                Non-Null Count  Dtype         \n",
      "---  ------                --------------  -----         \n",
      " 0   Amount                9 non-null      float64       \n",
      " 1   Value                 10 non-null     int64         \n",
      " 2   FraudResult           10 non-null     int64         \n",
      " 3   PricingStrategy       10 non-null     int64         \n",
      " 4   CountryCode           10 non-null     object        \n",
      " 5   TransactionStartTime  10 non-null     datetime64[ns]\n",
      "dtypes: datetime64[ns](1), float64(1), int64(3), object(1)\n",
      "memory usage: 612.0+ bytes\n",
      "Missing values per column:\n",
      " Amount                  1\n",
      "Value                   0\n",
      "FraudResult             0\n",
      "PricingStrategy         0\n",
      "CountryCode             0\n",
      "TransactionStartTime    0\n",
      "dtype: int64\n",
      "\n",
      "Columns with less than 5% missing values: ['Value', 'FraudResult', 'PricingStrategy', 'CountryCode', 'TransactionStartTime']\n",
      "\n",
      "Columns with more than 5% missing values: ['Amount']\n",
      "Interpolated missing data in columns: ['Amount']\n"
     ]
    },
    {
     "name": "stderr",
     "output_type": "stream",
     "text": [
      "ok\n"
     ]
    },
    {
     "name": "stdout",
     "output_type": "stream",
     "text": [
      "\n",
      "Plot saved to test_plots\\test_plot.png\n"
     ]
    },
    {
     "name": "stderr",
     "output_type": "stream",
     "text": [
      "test_summary_statistics_runs (__main__.TestEDA.test_summary_statistics_runs) ... "
     ]
    },
    {
     "name": "stdout",
     "output_type": "stream",
     "text": [
      "DataFrame loaded successfully from test_data.csv\n",
      "\n",
      "DataFrame head:\n"
     ]
    },
    {
     "data": {
      "application/vnd.microsoft.datawrangler.viewer.v0+json": {
       "columns": [
        {
         "name": "index",
         "rawType": "int64",
         "type": "integer"
        },
        {
         "name": "Amount",
         "rawType": "float64",
         "type": "float"
        },
        {
         "name": "Value",
         "rawType": "int64",
         "type": "integer"
        },
        {
         "name": "FraudResult",
         "rawType": "int64",
         "type": "integer"
        },
        {
         "name": "PricingStrategy",
         "rawType": "int64",
         "type": "integer"
        },
        {
         "name": "CountryCode",
         "rawType": "object",
         "type": "string"
        },
        {
         "name": "TransactionStartTime",
         "rawType": "datetime64[ns]",
         "type": "datetime"
        }
       ],
       "ref": "466133d6-d877-4907-bb48-f9c372b41a3d",
       "rows": [
        [
         "0",
         "100.0",
         "100",
         "0",
         "1",
         "UG",
         "2023-01-01 00:00:00"
        ],
        [
         "1",
         "200.0",
         "200",
         "1",
         "2",
         "UG",
         "2023-01-02 00:00:00"
        ],
        [
         "2",
         "300.0",
         "300",
         "0",
         "1",
         "UG",
         "2023-01-03 00:00:00"
        ],
        [
         "3",
         "400.0",
         "400",
         "1",
         "2",
         "UG",
         "2023-01-04 00:00:00"
        ],
        [
         "4",
         "500.0",
         "500",
         "0",
         "1",
         "UG",
         "2023-01-05 00:00:00"
        ]
       ],
       "shape": {
        "columns": 6,
        "rows": 5
       }
      },
      "text/html": [
       "<div>\n",
       "<style scoped>\n",
       "    .dataframe tbody tr th:only-of-type {\n",
       "        vertical-align: middle;\n",
       "    }\n",
       "\n",
       "    .dataframe tbody tr th {\n",
       "        vertical-align: top;\n",
       "    }\n",
       "\n",
       "    .dataframe thead th {\n",
       "        text-align: right;\n",
       "    }\n",
       "</style>\n",
       "<table border=\"1\" class=\"dataframe\">\n",
       "  <thead>\n",
       "    <tr style=\"text-align: right;\">\n",
       "      <th></th>\n",
       "      <th>Amount</th>\n",
       "      <th>Value</th>\n",
       "      <th>FraudResult</th>\n",
       "      <th>PricingStrategy</th>\n",
       "      <th>CountryCode</th>\n",
       "      <th>TransactionStartTime</th>\n",
       "    </tr>\n",
       "  </thead>\n",
       "  <tbody>\n",
       "    <tr>\n",
       "      <th>0</th>\n",
       "      <td>100.0</td>\n",
       "      <td>100</td>\n",
       "      <td>0</td>\n",
       "      <td>1</td>\n",
       "      <td>UG</td>\n",
       "      <td>2023-01-01</td>\n",
       "    </tr>\n",
       "    <tr>\n",
       "      <th>1</th>\n",
       "      <td>200.0</td>\n",
       "      <td>200</td>\n",
       "      <td>1</td>\n",
       "      <td>2</td>\n",
       "      <td>UG</td>\n",
       "      <td>2023-01-02</td>\n",
       "    </tr>\n",
       "    <tr>\n",
       "      <th>2</th>\n",
       "      <td>300.0</td>\n",
       "      <td>300</td>\n",
       "      <td>0</td>\n",
       "      <td>1</td>\n",
       "      <td>UG</td>\n",
       "      <td>2023-01-03</td>\n",
       "    </tr>\n",
       "    <tr>\n",
       "      <th>3</th>\n",
       "      <td>400.0</td>\n",
       "      <td>400</td>\n",
       "      <td>1</td>\n",
       "      <td>2</td>\n",
       "      <td>UG</td>\n",
       "      <td>2023-01-04</td>\n",
       "    </tr>\n",
       "    <tr>\n",
       "      <th>4</th>\n",
       "      <td>500.0</td>\n",
       "      <td>500</td>\n",
       "      <td>0</td>\n",
       "      <td>1</td>\n",
       "      <td>UG</td>\n",
       "      <td>2023-01-05</td>\n",
       "    </tr>\n",
       "  </tbody>\n",
       "</table>\n",
       "</div>"
      ],
      "text/plain": [
       "   Amount  Value  FraudResult  PricingStrategy CountryCode  \\\n",
       "0   100.0    100            0                1          UG   \n",
       "1   200.0    200            1                2          UG   \n",
       "2   300.0    300            0                1          UG   \n",
       "3   400.0    400            1                2          UG   \n",
       "4   500.0    500            0                1          UG   \n",
       "\n",
       "  TransactionStartTime  \n",
       "0           2023-01-01  \n",
       "1           2023-01-02  \n",
       "2           2023-01-03  \n",
       "3           2023-01-04  \n",
       "4           2023-01-05  "
      ]
     },
     "metadata": {},
     "output_type": "display_data"
    },
    {
     "name": "stdout",
     "output_type": "stream",
     "text": [
      "\n",
      "DataFrame shape:\n"
     ]
    },
    {
     "data": {
      "text/plain": [
       "(10, 6)"
      ]
     },
     "metadata": {},
     "output_type": "display_data"
    },
    {
     "name": "stdout",
     "output_type": "stream",
     "text": [
      "\n",
      "DataFrame columns:\n"
     ]
    },
    {
     "data": {
      "text/plain": [
       "Index(['Amount', 'Value', 'FraudResult', 'PricingStrategy', 'CountryCode',\n",
       "       'TransactionStartTime'],\n",
       "      dtype='object')"
      ]
     },
     "metadata": {},
     "output_type": "display_data"
    },
    {
     "name": "stdout",
     "output_type": "stream",
     "text": [
      "\n",
      "DataFrame summary:\n",
      "<class 'pandas.core.frame.DataFrame'>\n",
      "RangeIndex: 10 entries, 0 to 9\n",
      "Data columns (total 6 columns):\n",
      " #   Column                Non-Null Count  Dtype         \n",
      "---  ------                --------------  -----         \n",
      " 0   Amount                9 non-null      float64       \n",
      " 1   Value                 10 non-null     int64         \n",
      " 2   FraudResult           10 non-null     int64         \n",
      " 3   PricingStrategy       10 non-null     int64         \n",
      " 4   CountryCode           10 non-null     object        \n",
      " 5   TransactionStartTime  10 non-null     datetime64[ns]\n",
      "dtypes: datetime64[ns](1), float64(1), int64(3), object(1)\n",
      "memory usage: 612.0+ bytes\n",
      "Missing values per column:\n",
      " Amount                  1\n",
      "Value                   0\n",
      "FraudResult             0\n",
      "PricingStrategy         0\n",
      "CountryCode             0\n",
      "TransactionStartTime    0\n",
      "dtype: int64\n",
      "\n",
      "Columns with less than 5% missing values: ['Value', 'FraudResult', 'PricingStrategy', 'CountryCode', 'TransactionStartTime']\n",
      "\n",
      "Columns with more than 5% missing values: ['Amount']\n",
      "Interpolated missing data in columns: ['Amount']\n",
      "Summary statistics for numerical features :\n"
     ]
    },
    {
     "data": {
      "application/vnd.microsoft.datawrangler.viewer.v0+json": {
       "columns": [
        {
         "name": "index",
         "rawType": "object",
         "type": "string"
        },
        {
         "name": "Amount",
         "rawType": "float64",
         "type": "float"
        },
        {
         "name": "Value",
         "rawType": "float64",
         "type": "float"
        },
        {
         "name": "FraudResult",
         "rawType": "float64",
         "type": "float"
        },
        {
         "name": "PricingStrategy",
         "rawType": "float64",
         "type": "float"
        }
       ],
       "ref": "f96f4e88-1f87-438e-a920-b00641c10cbc",
       "rows": [
        [
         "count",
         "10.0",
         "10.0",
         "10.0",
         "10.0"
        ],
        [
         "mean",
         "7673.5",
         "550.0",
         "0.5",
         "1.5"
        ],
        [
         "std",
         "16830.16439643746",
         "302.7650354097492",
         "0.5270462766947299",
         "0.5270462766947299"
        ],
        [
         "min",
         "-50.0",
         "100.0",
         "0.0",
         "1.0"
        ],
        [
         "25%",
         "47.5",
         "325.0",
         "0.0",
         "1.0"
        ],
        [
         "50%",
         "250.0",
         "550.0",
         "0.5",
         "1.5"
        ],
        [
         "75%",
         "475.0",
         "775.0",
         "1.0",
         "2.0"
        ],
        [
         "max",
         "50000.0",
         "1000.0",
         "1.0",
         "2.0"
        ]
       ],
       "shape": {
        "columns": 4,
        "rows": 8
       }
      },
      "text/html": [
       "<div>\n",
       "<style scoped>\n",
       "    .dataframe tbody tr th:only-of-type {\n",
       "        vertical-align: middle;\n",
       "    }\n",
       "\n",
       "    .dataframe tbody tr th {\n",
       "        vertical-align: top;\n",
       "    }\n",
       "\n",
       "    .dataframe thead th {\n",
       "        text-align: right;\n",
       "    }\n",
       "</style>\n",
       "<table border=\"1\" class=\"dataframe\">\n",
       "  <thead>\n",
       "    <tr style=\"text-align: right;\">\n",
       "      <th></th>\n",
       "      <th>Amount</th>\n",
       "      <th>Value</th>\n",
       "      <th>FraudResult</th>\n",
       "      <th>PricingStrategy</th>\n",
       "    </tr>\n",
       "  </thead>\n",
       "  <tbody>\n",
       "    <tr>\n",
       "      <th>count</th>\n",
       "      <td>10.000000</td>\n",
       "      <td>10.000000</td>\n",
       "      <td>10.000000</td>\n",
       "      <td>10.000000</td>\n",
       "    </tr>\n",
       "    <tr>\n",
       "      <th>mean</th>\n",
       "      <td>7673.500000</td>\n",
       "      <td>550.000000</td>\n",
       "      <td>0.500000</td>\n",
       "      <td>1.500000</td>\n",
       "    </tr>\n",
       "    <tr>\n",
       "      <th>std</th>\n",
       "      <td>16830.164396</td>\n",
       "      <td>302.765035</td>\n",
       "      <td>0.527046</td>\n",
       "      <td>0.527046</td>\n",
       "    </tr>\n",
       "    <tr>\n",
       "      <th>min</th>\n",
       "      <td>-50.000000</td>\n",
       "      <td>100.000000</td>\n",
       "      <td>0.000000</td>\n",
       "      <td>1.000000</td>\n",
       "    </tr>\n",
       "    <tr>\n",
       "      <th>25%</th>\n",
       "      <td>47.500000</td>\n",
       "      <td>325.000000</td>\n",
       "      <td>0.000000</td>\n",
       "      <td>1.000000</td>\n",
       "    </tr>\n",
       "    <tr>\n",
       "      <th>50%</th>\n",
       "      <td>250.000000</td>\n",
       "      <td>550.000000</td>\n",
       "      <td>0.500000</td>\n",
       "      <td>1.500000</td>\n",
       "    </tr>\n",
       "    <tr>\n",
       "      <th>75%</th>\n",
       "      <td>475.000000</td>\n",
       "      <td>775.000000</td>\n",
       "      <td>1.000000</td>\n",
       "      <td>2.000000</td>\n",
       "    </tr>\n",
       "    <tr>\n",
       "      <th>max</th>\n",
       "      <td>50000.000000</td>\n",
       "      <td>1000.000000</td>\n",
       "      <td>1.000000</td>\n",
       "      <td>2.000000</td>\n",
       "    </tr>\n",
       "  </tbody>\n",
       "</table>\n",
       "</div>"
      ],
      "text/plain": [
       "             Amount        Value  FraudResult  PricingStrategy\n",
       "count     10.000000    10.000000    10.000000        10.000000\n",
       "mean    7673.500000   550.000000     0.500000         1.500000\n",
       "std    16830.164396   302.765035     0.527046         0.527046\n",
       "min      -50.000000   100.000000     0.000000         1.000000\n",
       "25%       47.500000   325.000000     0.000000         1.000000\n",
       "50%      250.000000   550.000000     0.500000         1.500000\n",
       "75%      475.000000   775.000000     1.000000         2.000000\n",
       "max    50000.000000  1000.000000     1.000000         2.000000"
      ]
     },
     "metadata": {},
     "output_type": "display_data"
    },
    {
     "name": "stderr",
     "output_type": "stream",
     "text": [
      "ok\n",
      "test_visualise_distribution (__main__.TestEDA.test_visualise_distribution) ... "
     ]
    },
    {
     "name": "stdout",
     "output_type": "stream",
     "text": [
      "DataFrame loaded successfully from test_data.csv\n",
      "\n",
      "DataFrame head:\n"
     ]
    },
    {
     "data": {
      "application/vnd.microsoft.datawrangler.viewer.v0+json": {
       "columns": [
        {
         "name": "index",
         "rawType": "int64",
         "type": "integer"
        },
        {
         "name": "Amount",
         "rawType": "float64",
         "type": "float"
        },
        {
         "name": "Value",
         "rawType": "int64",
         "type": "integer"
        },
        {
         "name": "FraudResult",
         "rawType": "int64",
         "type": "integer"
        },
        {
         "name": "PricingStrategy",
         "rawType": "int64",
         "type": "integer"
        },
        {
         "name": "CountryCode",
         "rawType": "object",
         "type": "string"
        },
        {
         "name": "TransactionStartTime",
         "rawType": "datetime64[ns]",
         "type": "datetime"
        }
       ],
       "ref": "b8235a62-2cec-46bf-b4da-772b3ba78ec7",
       "rows": [
        [
         "0",
         "100.0",
         "100",
         "0",
         "1",
         "UG",
         "2023-01-01 00:00:00"
        ],
        [
         "1",
         "200.0",
         "200",
         "1",
         "2",
         "UG",
         "2023-01-02 00:00:00"
        ],
        [
         "2",
         "300.0",
         "300",
         "0",
         "1",
         "UG",
         "2023-01-03 00:00:00"
        ],
        [
         "3",
         "400.0",
         "400",
         "1",
         "2",
         "UG",
         "2023-01-04 00:00:00"
        ],
        [
         "4",
         "500.0",
         "500",
         "0",
         "1",
         "UG",
         "2023-01-05 00:00:00"
        ]
       ],
       "shape": {
        "columns": 6,
        "rows": 5
       }
      },
      "text/html": [
       "<div>\n",
       "<style scoped>\n",
       "    .dataframe tbody tr th:only-of-type {\n",
       "        vertical-align: middle;\n",
       "    }\n",
       "\n",
       "    .dataframe tbody tr th {\n",
       "        vertical-align: top;\n",
       "    }\n",
       "\n",
       "    .dataframe thead th {\n",
       "        text-align: right;\n",
       "    }\n",
       "</style>\n",
       "<table border=\"1\" class=\"dataframe\">\n",
       "  <thead>\n",
       "    <tr style=\"text-align: right;\">\n",
       "      <th></th>\n",
       "      <th>Amount</th>\n",
       "      <th>Value</th>\n",
       "      <th>FraudResult</th>\n",
       "      <th>PricingStrategy</th>\n",
       "      <th>CountryCode</th>\n",
       "      <th>TransactionStartTime</th>\n",
       "    </tr>\n",
       "  </thead>\n",
       "  <tbody>\n",
       "    <tr>\n",
       "      <th>0</th>\n",
       "      <td>100.0</td>\n",
       "      <td>100</td>\n",
       "      <td>0</td>\n",
       "      <td>1</td>\n",
       "      <td>UG</td>\n",
       "      <td>2023-01-01</td>\n",
       "    </tr>\n",
       "    <tr>\n",
       "      <th>1</th>\n",
       "      <td>200.0</td>\n",
       "      <td>200</td>\n",
       "      <td>1</td>\n",
       "      <td>2</td>\n",
       "      <td>UG</td>\n",
       "      <td>2023-01-02</td>\n",
       "    </tr>\n",
       "    <tr>\n",
       "      <th>2</th>\n",
       "      <td>300.0</td>\n",
       "      <td>300</td>\n",
       "      <td>0</td>\n",
       "      <td>1</td>\n",
       "      <td>UG</td>\n",
       "      <td>2023-01-03</td>\n",
       "    </tr>\n",
       "    <tr>\n",
       "      <th>3</th>\n",
       "      <td>400.0</td>\n",
       "      <td>400</td>\n",
       "      <td>1</td>\n",
       "      <td>2</td>\n",
       "      <td>UG</td>\n",
       "      <td>2023-01-04</td>\n",
       "    </tr>\n",
       "    <tr>\n",
       "      <th>4</th>\n",
       "      <td>500.0</td>\n",
       "      <td>500</td>\n",
       "      <td>0</td>\n",
       "      <td>1</td>\n",
       "      <td>UG</td>\n",
       "      <td>2023-01-05</td>\n",
       "    </tr>\n",
       "  </tbody>\n",
       "</table>\n",
       "</div>"
      ],
      "text/plain": [
       "   Amount  Value  FraudResult  PricingStrategy CountryCode  \\\n",
       "0   100.0    100            0                1          UG   \n",
       "1   200.0    200            1                2          UG   \n",
       "2   300.0    300            0                1          UG   \n",
       "3   400.0    400            1                2          UG   \n",
       "4   500.0    500            0                1          UG   \n",
       "\n",
       "  TransactionStartTime  \n",
       "0           2023-01-01  \n",
       "1           2023-01-02  \n",
       "2           2023-01-03  \n",
       "3           2023-01-04  \n",
       "4           2023-01-05  "
      ]
     },
     "metadata": {},
     "output_type": "display_data"
    },
    {
     "name": "stdout",
     "output_type": "stream",
     "text": [
      "\n",
      "DataFrame shape:\n"
     ]
    },
    {
     "data": {
      "text/plain": [
       "(10, 6)"
      ]
     },
     "metadata": {},
     "output_type": "display_data"
    },
    {
     "name": "stdout",
     "output_type": "stream",
     "text": [
      "\n",
      "DataFrame columns:\n"
     ]
    },
    {
     "data": {
      "text/plain": [
       "Index(['Amount', 'Value', 'FraudResult', 'PricingStrategy', 'CountryCode',\n",
       "       'TransactionStartTime'],\n",
       "      dtype='object')"
      ]
     },
     "metadata": {},
     "output_type": "display_data"
    },
    {
     "name": "stdout",
     "output_type": "stream",
     "text": [
      "\n",
      "DataFrame summary:\n",
      "<class 'pandas.core.frame.DataFrame'>\n",
      "RangeIndex: 10 entries, 0 to 9\n",
      "Data columns (total 6 columns):\n",
      " #   Column                Non-Null Count  Dtype         \n",
      "---  ------                --------------  -----         \n",
      " 0   Amount                9 non-null      float64       \n",
      " 1   Value                 10 non-null     int64         \n",
      " 2   FraudResult           10 non-null     int64         \n",
      " 3   PricingStrategy       10 non-null     int64         \n",
      " 4   CountryCode           10 non-null     object        \n",
      " 5   TransactionStartTime  10 non-null     datetime64[ns]\n",
      "dtypes: datetime64[ns](1), float64(1), int64(3), object(1)\n",
      "memory usage: 612.0+ bytes\n",
      "Missing values per column:\n",
      " Amount                  1\n",
      "Value                   0\n",
      "FraudResult             0\n",
      "PricingStrategy         0\n",
      "CountryCode             0\n",
      "TransactionStartTime    0\n",
      "dtype: int64\n",
      "\n",
      "Columns with less than 5% missing values: ['Value', 'FraudResult', 'PricingStrategy', 'CountryCode', 'TransactionStartTime']\n",
      "\n",
      "Columns with more than 5% missing values: ['Amount']\n",
      "Interpolated missing data in columns: ['Amount']\n",
      "Visualising distribution of numerical features ...\n",
      "\n",
      "\n",
      "Plot saved to test_plots\\Distribution of Amount.png\n"
     ]
    },
    {
     "data": {
      "image/png": "[encoded data removed]",
      "text/plain": [
       "<Figure size 800x400 with 1 Axes>"
      ]
     },
     "metadata": {},
     "output_type": "display_data"
    },
    {
     "name": "stdout",
     "output_type": "stream",
     "text": [
      "\n",
      "Plot saved to test_plots\\Distribution of Value.png\n"
     ]
    },
    {
     "data": {
      "image/png": "[encoded data removed]",
      "text/plain": [
       "<Figure size 800x400 with 1 Axes>"
      ]
     },
     "metadata": {},
     "output_type": "display_data"
    },
    {
     "name": "stderr",
     "output_type": "stream",
     "text": [
      "ok\n",
      "test_visualise_value_count (__main__.TestEDA.test_visualise_value_count) ... "
     ]
    },
    {
     "name": "stdout",
     "output_type": "stream",
     "text": [
      "DataFrame loaded successfully from test_data.csv\n",
      "\n",
      "DataFrame head:\n"
     ]
    },
    {
     "data": {
      "application/vnd.microsoft.datawrangler.viewer.v0+json": {
       "columns": [
        {
         "name": "index",
         "rawType": "int64",
         "type": "integer"
        },
        {
         "name": "Amount",
         "rawType": "float64",
         "type": "float"
        },
        {
         "name": "Value",
         "rawType": "int64",
         "type": "integer"
        },
        {
         "name": "FraudResult",
         "rawType": "int64",
         "type": "integer"
        },
        {
         "name": "PricingStrategy",
         "rawType": "int64",
         "type": "integer"
        },
        {
         "name": "CountryCode",
         "rawType": "object",
         "type": "string"
        },
        {
         "name": "TransactionStartTime",
         "rawType": "datetime64[ns]",
         "type": "datetime"
        }
       ],
       "ref": "b4070c4c-1b78-404a-9f58-516b5483a02f",
       "rows": [
        [
         "0",
         "100.0",
         "100",
         "0",
         "1",
         "UG",
         "2023-01-01 00:00:00"
        ],
        [
         "1",
         "200.0",
         "200",
         "1",
         "2",
         "UG",
         "2023-01-02 00:00:00"
        ],
        [
         "2",
         "300.0",
         "300",
         "0",
         "1",
         "UG",
         "2023-01-03 00:00:00"
        ],
        [
         "3",
         "400.0",
         "400",
         "1",
         "2",
         "UG",
         "2023-01-04 00:00:00"
        ],
        [
         "4",
         "500.0",
         "500",
         "0",
         "1",
         "UG",
         "2023-01-05 00:00:00"
        ]
       ],
       "shape": {
        "columns": 6,
        "rows": 5
       }
      },
      "text/html": [
       "<div>\n",
       "<style scoped>\n",
       "    .dataframe tbody tr th:only-of-type {\n",
       "        vertical-align: middle;\n",
       "    }\n",
       "\n",
       "    .dataframe tbody tr th {\n",
       "        vertical-align: top;\n",
       "    }\n",
       "\n",
       "    .dataframe thead th {\n",
       "        text-align: right;\n",
       "    }\n",
       "</style>\n",
       "<table border=\"1\" class=\"dataframe\">\n",
       "  <thead>\n",
       "    <tr style=\"text-align: right;\">\n",
       "      <th></th>\n",
       "      <th>Amount</th>\n",
       "      <th>Value</th>\n",
       "      <th>FraudResult</th>\n",
       "      <th>PricingStrategy</th>\n",
       "      <th>CountryCode</th>\n",
       "      <th>TransactionStartTime</th>\n",
       "    </tr>\n",
       "  </thead>\n",
       "  <tbody>\n",
       "    <tr>\n",
       "      <th>0</th>\n",
       "      <td>100.0</td>\n",
       "      <td>100</td>\n",
       "      <td>0</td>\n",
       "      <td>1</td>\n",
       "      <td>UG</td>\n",
       "      <td>2023-01-01</td>\n",
       "    </tr>\n",
       "    <tr>\n",
       "      <th>1</th>\n",
       "      <td>200.0</td>\n",
       "      <td>200</td>\n",
       "      <td>1</td>\n",
       "      <td>2</td>\n",
       "      <td>UG</td>\n",
       "      <td>2023-01-02</td>\n",
       "    </tr>\n",
       "    <tr>\n",
       "      <th>2</th>\n",
       "      <td>300.0</td>\n",
       "      <td>300</td>\n",
       "      <td>0</td>\n",
       "      <td>1</td>\n",
       "      <td>UG</td>\n",
       "      <td>2023-01-03</td>\n",
       "    </tr>\n",
       "    <tr>\n",
       "      <th>3</th>\n",
       "      <td>400.0</td>\n",
       "      <td>400</td>\n",
       "      <td>1</td>\n",
       "      <td>2</td>\n",
       "      <td>UG</td>\n",
       "      <td>2023-01-04</td>\n",
       "    </tr>\n",
       "    <tr>\n",
       "      <th>4</th>\n",
       "      <td>500.0</td>\n",
       "      <td>500</td>\n",
       "      <td>0</td>\n",
       "      <td>1</td>\n",
       "      <td>UG</td>\n",
       "      <td>2023-01-05</td>\n",
       "    </tr>\n",
       "  </tbody>\n",
       "</table>\n",
       "</div>"
      ],
      "text/plain": [
       "   Amount  Value  FraudResult  PricingStrategy CountryCode  \\\n",
       "0   100.0    100            0                1          UG   \n",
       "1   200.0    200            1                2          UG   \n",
       "2   300.0    300            0                1          UG   \n",
       "3   400.0    400            1                2          UG   \n",
       "4   500.0    500            0                1          UG   \n",
       "\n",
       "  TransactionStartTime  \n",
       "0           2023-01-01  \n",
       "1           2023-01-02  \n",
       "2           2023-01-03  \n",
       "3           2023-01-04  \n",
       "4           2023-01-05  "
      ]
     },
     "metadata": {},
     "output_type": "display_data"
    },
    {
     "name": "stdout",
     "output_type": "stream",
     "text": [
      "\n",
      "DataFrame shape:\n"
     ]
    },
    {
     "data": {
      "text/plain": [
       "(10, 6)"
      ]
     },
     "metadata": {},
     "output_type": "display_data"
    },
    {
     "name": "stdout",
     "output_type": "stream",
     "text": [
      "\n",
      "DataFrame columns:\n"
     ]
    },
    {
     "data": {
      "text/plain": [
       "Index(['Amount', 'Value', 'FraudResult', 'PricingStrategy', 'CountryCode',\n",
       "       'TransactionStartTime'],\n",
       "      dtype='object')"
      ]
     },
     "metadata": {},
     "output_type": "display_data"
    },
    {
     "name": "stdout",
     "output_type": "stream",
     "text": [
      "\n",
      "DataFrame summary:\n",
      "<class 'pandas.core.frame.DataFrame'>\n",
      "RangeIndex: 10 entries, 0 to 9\n",
      "Data columns (total 6 columns):\n",
      " #   Column                Non-Null Count  Dtype         \n",
      "---  ------                --------------  -----         \n",
      " 0   Amount                9 non-null      float64       \n",
      " 1   Value                 10 non-null     int64         \n",
      " 2   FraudResult           10 non-null     int64         \n",
      " 3   PricingStrategy       10 non-null     int64         \n",
      " 4   CountryCode           10 non-null     object        \n",
      " 5   TransactionStartTime  10 non-null     datetime64[ns]\n",
      "dtypes: datetime64[ns](1), float64(1), int64(3), object(1)\n",
      "memory usage: 612.0+ bytes\n",
      "Missing values per column:\n",
      " Amount                  1\n",
      "Value                   0\n",
      "FraudResult             0\n",
      "PricingStrategy         0\n",
      "CountryCode             0\n",
      "TransactionStartTime    0\n",
      "dtype: int64\n",
      "\n",
      "Columns with less than 5% missing values: ['Value', 'FraudResult', 'PricingStrategy', 'CountryCode', 'TransactionStartTime']\n",
      "\n",
      "Columns with more than 5% missing values: ['Amount']\n",
      "Interpolated missing data in columns: ['Amount']\n",
      "Visualising value count for categorical features ...\n",
      "\n",
      "\n",
      "Plot saved to test_plots\\Frequency Distribution of 'FraudResult'.png\n"
     ]
    },
    {
     "data": {
      "image/png": "[encoded data removed]",
      "text/plain": [
       "<Figure size 900x600 with 1 Axes>"
      ]
     },
     "metadata": {},
     "output_type": "display_data"
    },
    {
     "name": "stdout",
     "output_type": "stream",
     "text": [
      "\n",
      "Plot saved to test_plots\\Frequency Distribution of 'PricingStrategy'.png\n"
     ]
    },
    {
     "data": {
      "image/png": "[encoded data removed]",
      "text/plain": [
       "<Figure size 900x600 with 1 Axes>"
      ]
     },
     "metadata": {},
     "output_type": "display_data"
    },
    {
     "name": "stderr",
     "output_type": "stream",
     "text": [
      "ok\n",
      "\n",
      "----------------------------------------------------------------------\n",
      "Ran 11 tests in 1.747s\n",
      "\n",
      "OK\n"
     ]
    }
   ],
   "source": [
    "import unittest\n",
    "import os, sys\n",
    "import pandas as pd\n",
    "import numpy as np\n",
    "import matplotlib.pyplot as plt\n",
    "\n",
    "# Add project path (adjust if needed)\n",
    "sys.path.append(os.path.abspath(os.path.join('..')))\n",
    "\n",
    "# Import your EDA class\n",
    "from scripts._01_EDA import EDA\n",
    "\n",
    "class TestEDA(unittest.TestCase):\n",
    "\n",
    "    def setUp(self):\n",
    "        self.test_csv = 'test_data.csv'\n",
    "        self.test_plot_dir = 'test_plots'\n",
    "        self.test_output_dir = 'test_processed_data'\n",
    "\n",
    "        # Create dummy dataset\n",
    "        data = {\n",
    "            'Amount': [100, 200, 300, 400, 500, np.nan, 50000, 5, 30, -50],\n",
    "            'Value': [100, 200, 300, 400, 500, 600, 700, 800, 900, 1000],\n",
    "            'FraudResult': [0, 1, 0, 1, 0, 1, 0, 1, 0, 1],\n",
    "            'PricingStrategy': [1, 2, 1, 2, 1, 2, 1, 2, 1, 2],\n",
    "            'CountryCode': ['UG'] * 10,\n",
    "            'TransactionStartTime': pd.date_range('2023-01-01', periods=10)\n",
    "        }\n",
    "        self.df = pd.DataFrame(data)\n",
    "        self.df.to_csv(self.test_csv, index=False)\n",
    "\n",
    "        self.eda = EDA(df_path=self.test_csv, plot_path=self.test_plot_dir, df_dir=self.test_output_dir)\n",
    "        self.eda.missing_values()\n",
    "\n",
    "    def tearDown(self):\n",
    "        for folder in [self.test_plot_dir, self.test_output_dir]:\n",
    "            if os.path.exists(folder):\n",
    "                for f in os.listdir(folder):\n",
    "                    os.remove(os.path.join(folder, f))\n",
    "                os.rmdir(folder)\n",
    "        if os.path.exists(self.test_csv):\n",
    "            os.remove(self.test_csv)\n",
    "\n",
    "    def test_load_df(self):\n",
    "        self.assertIsInstance(self.eda.df_raw, pd.DataFrame)\n",
    "\n",
    "    def test_classify_columns(self):\n",
    "        self.eda.classify_columns()\n",
    "        self.assertIn('Amount', self.eda.num_cols)\n",
    "        self.assertIn('FraudResult', self.eda.cat_cols)\n",
    "\n",
    "    def test_missing_values(self):\n",
    "        self.assertFalse(self.eda.df.isnull().any().any())\n",
    "\n",
    "    def test_summary_statistics_runs(self):\n",
    "        try:\n",
    "            self.eda.summary_statistics()\n",
    "            ran = True\n",
    "        except Exception:\n",
    "            ran = False\n",
    "        self.assertTrue(ran)\n",
    "\n",
    "    def test_save_plot(self):\n",
    "        plt.figure()\n",
    "        plt.plot([0, 1], [1, 0])\n",
    "        self.eda.save_plot(\"test_plot.png\")\n",
    "        self.assertTrue(os.path.exists(os.path.join(self.test_plot_dir, \"test_plot.png\")))\n",
    "        plt.close()\n",
    "\n",
    "    def test_impute_outliers_iqr_zscore(self):\n",
    "        self.eda.df.loc[0, 'Amount'] = 10000\n",
    "        df_clean = self.eda.impute_outliers_iqr_zscore('Amount', threshold = 2)\n",
    "        self.assertLessEqual(df_clean.shape[0], self.eda.df.shape[0])\n",
    "        self.assertFalse((df_clean['Amount'] > 40000).any())\n",
    "\n",
    "    def test_visualise_distribution(self):\n",
    "        self.eda.classify_columns()\n",
    "        self.eda.visualise_distribution()\n",
    "        for col in self.eda.num_cols:\n",
    "            path = os.path.join(self.test_plot_dir, f\"Distribution of {col}.png\")\n",
    "            self.assertTrue(os.path.exists(path))\n",
    "\n",
    "    def test_visualise_value_count(self):\n",
    "        self.eda.classify_columns()\n",
    "        self.eda.visualise_value_count()\n",
    "        for col in self.eda.cat_cols:\n",
    "            if self.eda.df[col].nunique() > 1:\n",
    "                path = os.path.join(self.test_plot_dir, f\"Frequency Distribution of '{col}'.png\")\n",
    "                self.assertTrue(os.path.exists(path))\n",
    "\n",
    "    def test_correlation_analysis(self):\n",
    "        self.eda.classify_columns()\n",
    "        self.eda.correlation_analysis()\n",
    "        path = os.path.join(self.test_plot_dir, \"Correlation Matrix of Numerical Features.png\")\n",
    "        self.assertTrue(os.path.exists(path))\n",
    "\n",
    "    def test_detect_outliers(self):\n",
    "        self.eda.classify_columns()\n",
    "        self.eda.detect_outliers()\n",
    "        for col in self.eda.num_cols:\n",
    "            self.assertTrue(os.path.exists(os.path.join(self.test_plot_dir, f\"Outlier Detection for {col}.png\")))\n",
    "            self.assertTrue(os.path.exists(os.path.join(self.test_plot_dir, f\"Post-Outlier Distribution of {col}.png\")))\n",
    "\n",
    "    def test_save_df(self):\n",
    "        self.eda.classify_columns()\n",
    "        self.eda.df_out = self.eda.impute_outliers_iqr_zscore('Amount')\n",
    "        self.eda.save_df(\"processed.csv\")\n",
    "        path = os.path.join(self.test_output_dir, \"processed.csv\")\n",
    "        self.assertTrue(os.path.exists(path))\n",
    "\n",
    "\n",
    "if __name__ == \"__main__\":\n",
    "    unittest.main(argv=[\"\"], exit=False, verbosity=2)\n"
   ]
  }
 ],
 "metadata": {
  "kernelspec": {
   "display_name": ".credvenv",
   "language": "python",
   "name": "python3"
  },
  "language_info": {
   "codemirror_mode": {
    "name": "ipython",
    "version": 3
   },
   "file_extension": ".py",
   "mimetype": "text/x-python",
   "name": "python",
   "nbconvert_exporter": "python",
   "pygments_lexer": "ipython3",
   "version": "3.13.3"
  }
 },
 "nbformat": 4,
 "nbformat_minor": 5
}
