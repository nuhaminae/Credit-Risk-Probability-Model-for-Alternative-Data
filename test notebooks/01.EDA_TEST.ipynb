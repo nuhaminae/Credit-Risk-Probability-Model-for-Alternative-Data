{
 "cells": [
  {
   "cell_type": "code",
   "execution_count": null,
   "id": "0f0d5c33",
   "metadata": {},
   "outputs": [
    {
     "name": "stderr",
     "output_type": "stream",
     "text": [
      "test_classify_columns (__main__.TestEDA.test_classify_columns)\n",
      "Test the classify_columns method. ... "
     ]
    },
    {
     "name": "stdout",
     "output_type": "stream",
     "text": [
      "DataFrame loaded successfully from test_data.csv\n",
      "\n",
      "DataFrame head:\n"
     ]
    },
    {
     "data": {
      "application/vnd.microsoft.datawrangler.viewer.v0+json": {
       "columns": [
        {
         "name": "index",
         "rawType": "int64",
         "type": "integer"
        },
        {
         "name": "TransactionId",
         "rawType": "object",
         "type": "string"
        },
        {
         "name": "BatchId",
         "rawType": "object",
         "type": "string"
        },
        {
         "name": "AccountId",
         "rawType": "object",
         "type": "string"
        },
        {
         "name": "SubscriptionId",
         "rawType": "object",
         "type": "string"
        },
        {
         "name": "CustomerId",
         "rawType": "object",
         "type": "string"
        },
        {
         "name": "CountryCode",
         "rawType": "object",
         "type": "string"
        },
        {
         "name": "ProviderId",
         "rawType": "object",
         "type": "string"
        },
        {
         "name": "ProductId",
         "rawType": "object",
         "type": "string"
        },
        {
         "name": "ProductCategory",
         "rawType": "object",
         "type": "string"
        },
        {
         "name": "ChannelId",
         "rawType": "object",
         "type": "string"
        },
        {
         "name": "Amount",
         "rawType": "int64",
         "type": "integer"
        },
        {
         "name": "Value",
         "rawType": "int64",
         "type": "integer"
        },
        {
         "name": "TransactionStartTime",
         "rawType": "datetime64[ns]",
         "type": "datetime"
        },
        {
         "name": "PricingStrategy",
         "rawType": "int64",
         "type": "integer"
        },
        {
         "name": "FraudResult",
         "rawType": "int64",
         "type": "integer"
        }
       ],
       "ref": "bed95bed-7cae-49cc-a49a-1b24c7449e74",
       "rows": [
        [
         "0",
         "TransactionId_1",
         "BatchId_11",
         "AccountId_111",
         "SubscriptionId_1111",
         "CustomerId_11111",
         "AMZ",
         "ProviderId_1",
         "ProductId_11",
         "A",
         "ChannelId_11",
         "100",
         "100",
         "2023-01-01 00:00:00",
         "1",
         "0"
        ],
        [
         "1",
         "TransactionId_2",
         "BatchId_22",
         "AccountId_222",
         "SubscriptionId_2222",
         "CustomerId_22222",
         "AMZ",
         "ProviderId_2",
         "ProductId_12",
         "A",
         "ChannelId_12",
         "100",
         "100",
         "2023-01-02 00:00:00",
         "2",
         "1"
        ],
        [
         "2",
         "TransactionId_3",
         "BatchId_33",
         "AccountId_333",
         "SubscriptionId_3333",
         "CustomerId_33333",
         "AMZ",
         "ProviderId_3",
         "ProductId_13",
         "A",
         "ChannelId_13",
         "200",
         "200",
         "2023-01-03 00:00:00",
         "3",
         "1"
        ],
        [
         "3",
         "TransactionId_4",
         "BatchId_44",
         "AccountId_444",
         "SubscriptionId_4444",
         "CustomerId_44444",
         "AMZ",
         "ProviderId_4",
         "ProductId_14",
         "A",
         "ChannelId_14",
         "-1000",
         "1000",
         "2023-01-04 00:00:00",
         "3",
         "0"
        ],
        [
         "4",
         "TransactionId_5",
         "BatchId_55",
         "AccountId_555",
         "SubscriptionId_5555",
         "CustomerId_55555",
         "AMZ",
         "ProviderId_5",
         "ProductId_15",
         "A",
         "ChannelId_15",
         "18",
         "20",
         "2023-01-05 00:00:00",
         "2",
         "1"
        ]
       ],
       "shape": {
        "columns": 15,
        "rows": 5
       }
      },
      "text/html": [
       "<div>\n",
       "<style scoped>\n",
       "    .dataframe tbody tr th:only-of-type {\n",
       "        vertical-align: middle;\n",
       "    }\n",
       "\n",
       "    .dataframe tbody tr th {\n",
       "        vertical-align: top;\n",
       "    }\n",
       "\n",
       "    .dataframe thead th {\n",
       "        text-align: right;\n",
       "    }\n",
       "</style>\n",
       "<table border=\"1\" class=\"dataframe\">\n",
       "  <thead>\n",
       "    <tr style=\"text-align: right;\">\n",
       "      <th></th>\n",
       "      <th>TransactionId</th>\n",
       "      <th>BatchId</th>\n",
       "      <th>AccountId</th>\n",
       "      <th>SubscriptionId</th>\n",
       "      <th>CustomerId</th>\n",
       "      <th>CountryCode</th>\n",
       "      <th>ProviderId</th>\n",
       "      <th>ProductId</th>\n",
       "      <th>ProductCategory</th>\n",
       "      <th>ChannelId</th>\n",
       "      <th>Amount</th>\n",
       "      <th>Value</th>\n",
       "      <th>TransactionStartTime</th>\n",
       "      <th>PricingStrategy</th>\n",
       "      <th>FraudResult</th>\n",
       "    </tr>\n",
       "  </thead>\n",
       "  <tbody>\n",
       "    <tr>\n",
       "      <th>0</th>\n",
       "      <td>TransactionId_1</td>\n",
       "      <td>BatchId_11</td>\n",
       "      <td>AccountId_111</td>\n",
       "      <td>SubscriptionId_1111</td>\n",
       "      <td>CustomerId_11111</td>\n",
       "      <td>AMZ</td>\n",
       "      <td>ProviderId_1</td>\n",
       "      <td>ProductId_11</td>\n",
       "      <td>A</td>\n",
       "      <td>ChannelId_11</td>\n",
       "      <td>100</td>\n",
       "      <td>100</td>\n",
       "      <td>2023-01-01</td>\n",
       "      <td>1</td>\n",
       "      <td>0</td>\n",
       "    </tr>\n",
       "    <tr>\n",
       "      <th>1</th>\n",
       "      <td>TransactionId_2</td>\n",
       "      <td>BatchId_22</td>\n",
       "      <td>AccountId_222</td>\n",
       "      <td>SubscriptionId_2222</td>\n",
       "      <td>CustomerId_22222</td>\n",
       "      <td>AMZ</td>\n",
       "      <td>ProviderId_2</td>\n",
       "      <td>ProductId_12</td>\n",
       "      <td>A</td>\n",
       "      <td>ChannelId_12</td>\n",
       "      <td>100</td>\n",
       "      <td>100</td>\n",
       "      <td>2023-01-02</td>\n",
       "      <td>2</td>\n",
       "      <td>1</td>\n",
       "    </tr>\n",
       "    <tr>\n",
       "      <th>2</th>\n",
       "      <td>TransactionId_3</td>\n",
       "      <td>BatchId_33</td>\n",
       "      <td>AccountId_333</td>\n",
       "      <td>SubscriptionId_3333</td>\n",
       "      <td>CustomerId_33333</td>\n",
       "      <td>AMZ</td>\n",
       "      <td>ProviderId_3</td>\n",
       "      <td>ProductId_13</td>\n",
       "      <td>A</td>\n",
       "      <td>ChannelId_13</td>\n",
       "      <td>200</td>\n",
       "      <td>200</td>\n",
       "      <td>2023-01-03</td>\n",
       "      <td>3</td>\n",
       "      <td>1</td>\n",
       "    </tr>\n",
       "    <tr>\n",
       "      <th>3</th>\n",
       "      <td>TransactionId_4</td>\n",
       "      <td>BatchId_44</td>\n",
       "      <td>AccountId_444</td>\n",
       "      <td>SubscriptionId_4444</td>\n",
       "      <td>CustomerId_44444</td>\n",
       "      <td>AMZ</td>\n",
       "      <td>ProviderId_4</td>\n",
       "      <td>ProductId_14</td>\n",
       "      <td>A</td>\n",
       "      <td>ChannelId_14</td>\n",
       "      <td>-1000</td>\n",
       "      <td>1000</td>\n",
       "      <td>2023-01-04</td>\n",
       "      <td>3</td>\n",
       "      <td>0</td>\n",
       "    </tr>\n",
       "    <tr>\n",
       "      <th>4</th>\n",
       "      <td>TransactionId_5</td>\n",
       "      <td>BatchId_55</td>\n",
       "      <td>AccountId_555</td>\n",
       "      <td>SubscriptionId_5555</td>\n",
       "      <td>CustomerId_55555</td>\n",
       "      <td>AMZ</td>\n",
       "      <td>ProviderId_5</td>\n",
       "      <td>ProductId_15</td>\n",
       "      <td>A</td>\n",
       "      <td>ChannelId_15</td>\n",
       "      <td>18</td>\n",
       "      <td>20</td>\n",
       "      <td>2023-01-05</td>\n",
       "      <td>2</td>\n",
       "      <td>1</td>\n",
       "    </tr>\n",
       "  </tbody>\n",
       "</table>\n",
       "</div>"
      ],
      "text/plain": [
       "     TransactionId     BatchId      AccountId       SubscriptionId  \\\n",
       "0  TransactionId_1  BatchId_11  AccountId_111  SubscriptionId_1111   \n",
       "1  TransactionId_2  BatchId_22  AccountId_222  SubscriptionId_2222   \n",
       "2  TransactionId_3  BatchId_33  AccountId_333  SubscriptionId_3333   \n",
       "3  TransactionId_4  BatchId_44  AccountId_444  SubscriptionId_4444   \n",
       "4  TransactionId_5  BatchId_55  AccountId_555  SubscriptionId_5555   \n",
       "\n",
       "         CustomerId CountryCode    ProviderId     ProductId ProductCategory  \\\n",
       "0  CustomerId_11111         AMZ  ProviderId_1  ProductId_11               A   \n",
       "1  CustomerId_22222         AMZ  ProviderId_2  ProductId_12               A   \n",
       "2  CustomerId_33333         AMZ  ProviderId_3  ProductId_13               A   \n",
       "3  CustomerId_44444         AMZ  ProviderId_4  ProductId_14               A   \n",
       "4  CustomerId_55555         AMZ  ProviderId_5  ProductId_15               A   \n",
       "\n",
       "      ChannelId  Amount  Value TransactionStartTime  PricingStrategy  \\\n",
       "0  ChannelId_11     100    100           2023-01-01                1   \n",
       "1  ChannelId_12     100    100           2023-01-02                2   \n",
       "2  ChannelId_13     200    200           2023-01-03                3   \n",
       "3  ChannelId_14   -1000   1000           2023-01-04                3   \n",
       "4  ChannelId_15      18     20           2023-01-05                2   \n",
       "\n",
       "   FraudResult  \n",
       "0            0  \n",
       "1            1  \n",
       "2            1  \n",
       "3            0  \n",
       "4            1  "
      ]
     },
     "metadata": {},
     "output_type": "display_data"
    },
    {
     "name": "stdout",
     "output_type": "stream",
     "text": [
      "\n",
      "DataFrame shape:\n"
     ]
    },
    {
     "data": {
      "text/plain": [
       "(10, 15)"
      ]
     },
     "metadata": {},
     "output_type": "display_data"
    },
    {
     "name": "stdout",
     "output_type": "stream",
     "text": [
      "\n",
      "DataFrame columns:\n"
     ]
    },
    {
     "data": {
      "text/plain": [
       "Index(['TransactionId', 'BatchId', 'AccountId', 'SubscriptionId', 'CustomerId',\n",
       "       'CountryCode', 'ProviderId', 'ProductId', 'ProductCategory',\n",
       "       'ChannelId', 'Amount', 'Value', 'TransactionStartTime',\n",
       "       'PricingStrategy', 'FraudResult'],\n",
       "      dtype='object')"
      ]
     },
     "metadata": {},
     "output_type": "display_data"
    },
    {
     "name": "stderr",
     "output_type": "stream",
     "text": [
      "FAIL\n",
      "test_correlation_analysis (__main__.TestEDA.test_correlation_analysis)\n",
      "Test the correlation_analysis method. ... "
     ]
    },
    {
     "name": "stdout",
     "output_type": "stream",
     "text": [
      "\n",
      "DataFrame summary:\n",
      "<class 'pandas.core.frame.DataFrame'>\n",
      "RangeIndex: 10 entries, 0 to 9\n",
      "Data columns (total 15 columns):\n",
      " #   Column                Non-Null Count  Dtype         \n",
      "---  ------                --------------  -----         \n",
      " 0   TransactionId         10 non-null     object        \n",
      " 1   BatchId               10 non-null     object        \n",
      " 2   AccountId             10 non-null     object        \n",
      " 3   SubscriptionId        10 non-null     object        \n",
      " 4   CustomerId            10 non-null     object        \n",
      " 5   CountryCode           10 non-null     object        \n",
      " 6   ProviderId            10 non-null     object        \n",
      " 7   ProductId             10 non-null     object        \n",
      " 8   ProductCategory       10 non-null     object        \n",
      " 9   ChannelId             10 non-null     object        \n",
      " 10  Amount                10 non-null     int64         \n",
      " 11  Value                 10 non-null     int64         \n",
      " 12  TransactionStartTime  10 non-null     datetime64[ns]\n",
      " 13  PricingStrategy       10 non-null     int64         \n",
      " 14  FraudResult           10 non-null     int64         \n",
      "dtypes: datetime64[ns](1), int64(4), object(10)\n",
      "memory usage: 1.3+ KB\n",
      "There are no columns with missing values\n",
      "DataFrame loaded successfully from test_data.csv\n",
      "\n",
      "DataFrame head:\n"
     ]
    },
    {
     "data": {
      "application/vnd.microsoft.datawrangler.viewer.v0+json": {
       "columns": [
        {
         "name": "index",
         "rawType": "int64",
         "type": "integer"
        },
        {
         "name": "TransactionId",
         "rawType": "object",
         "type": "string"
        },
        {
         "name": "BatchId",
         "rawType": "object",
         "type": "string"
        },
        {
         "name": "AccountId",
         "rawType": "object",
         "type": "string"
        },
        {
         "name": "SubscriptionId",
         "rawType": "object",
         "type": "string"
        },
        {
         "name": "CustomerId",
         "rawType": "object",
         "type": "string"
        },
        {
         "name": "CountryCode",
         "rawType": "object",
         "type": "string"
        },
        {
         "name": "ProviderId",
         "rawType": "object",
         "type": "string"
        },
        {
         "name": "ProductId",
         "rawType": "object",
         "type": "string"
        },
        {
         "name": "ProductCategory",
         "rawType": "object",
         "type": "string"
        },
        {
         "name": "ChannelId",
         "rawType": "object",
         "type": "string"
        },
        {
         "name": "Amount",
         "rawType": "int64",
         "type": "integer"
        },
        {
         "name": "Value",
         "rawType": "int64",
         "type": "integer"
        },
        {
         "name": "TransactionStartTime",
         "rawType": "datetime64[ns]",
         "type": "datetime"
        },
        {
         "name": "PricingStrategy",
         "rawType": "int64",
         "type": "integer"
        },
        {
         "name": "FraudResult",
         "rawType": "int64",
         "type": "integer"
        }
       ],
       "ref": "7ade7c24-0d85-409d-a29e-e2e53f5f96e4",
       "rows": [
        [
         "0",
         "TransactionId_1",
         "BatchId_11",
         "AccountId_111",
         "SubscriptionId_1111",
         "CustomerId_11111",
         "AMZ",
         "ProviderId_1",
         "ProductId_11",
         "A",
         "ChannelId_11",
         "100",
         "100",
         "2023-01-01 00:00:00",
         "1",
         "0"
        ],
        [
         "1",
         "TransactionId_2",
         "BatchId_22",
         "AccountId_222",
         "SubscriptionId_2222",
         "CustomerId_22222",
         "AMZ",
         "ProviderId_2",
         "ProductId_12",
         "A",
         "ChannelId_12",
         "100",
         "100",
         "2023-01-02 00:00:00",
         "2",
         "1"
        ],
        [
         "2",
         "TransactionId_3",
         "BatchId_33",
         "AccountId_333",
         "SubscriptionId_3333",
         "CustomerId_33333",
         "AMZ",
         "ProviderId_3",
         "ProductId_13",
         "A",
         "ChannelId_13",
         "200",
         "200",
         "2023-01-03 00:00:00",
         "3",
         "1"
        ],
        [
         "3",
         "TransactionId_4",
         "BatchId_44",
         "AccountId_444",
         "SubscriptionId_4444",
         "CustomerId_44444",
         "AMZ",
         "ProviderId_4",
         "ProductId_14",
         "A",
         "ChannelId_14",
         "-1000",
         "1000",
         "2023-01-04 00:00:00",
         "3",
         "0"
        ],
        [
         "4",
         "TransactionId_5",
         "BatchId_55",
         "AccountId_555",
         "SubscriptionId_5555",
         "CustomerId_55555",
         "AMZ",
         "ProviderId_5",
         "ProductId_15",
         "A",
         "ChannelId_15",
         "18",
         "20",
         "2023-01-05 00:00:00",
         "2",
         "1"
        ]
       ],
       "shape": {
        "columns": 15,
        "rows": 5
       }
      },
      "text/html": [
       "<div>\n",
       "<style scoped>\n",
       "    .dataframe tbody tr th:only-of-type {\n",
       "        vertical-align: middle;\n",
       "    }\n",
       "\n",
       "    .dataframe tbody tr th {\n",
       "        vertical-align: top;\n",
       "    }\n",
       "\n",
       "    .dataframe thead th {\n",
       "        text-align: right;\n",
       "    }\n",
       "</style>\n",
       "<table border=\"1\" class=\"dataframe\">\n",
       "  <thead>\n",
       "    <tr style=\"text-align: right;\">\n",
       "      <th></th>\n",
       "      <th>TransactionId</th>\n",
       "      <th>BatchId</th>\n",
       "      <th>AccountId</th>\n",
       "      <th>SubscriptionId</th>\n",
       "      <th>CustomerId</th>\n",
       "      <th>CountryCode</th>\n",
       "      <th>ProviderId</th>\n",
       "      <th>ProductId</th>\n",
       "      <th>ProductCategory</th>\n",
       "      <th>ChannelId</th>\n",
       "      <th>Amount</th>\n",
       "      <th>Value</th>\n",
       "      <th>TransactionStartTime</th>\n",
       "      <th>PricingStrategy</th>\n",
       "      <th>FraudResult</th>\n",
       "    </tr>\n",
       "  </thead>\n",
       "  <tbody>\n",
       "    <tr>\n",
       "      <th>0</th>\n",
       "      <td>TransactionId_1</td>\n",
       "      <td>BatchId_11</td>\n",
       "      <td>AccountId_111</td>\n",
       "      <td>SubscriptionId_1111</td>\n",
       "      <td>CustomerId_11111</td>\n",
       "      <td>AMZ</td>\n",
       "      <td>ProviderId_1</td>\n",
       "      <td>ProductId_11</td>\n",
       "      <td>A</td>\n",
       "      <td>ChannelId_11</td>\n",
       "      <td>100</td>\n",
       "      <td>100</td>\n",
       "      <td>2023-01-01</td>\n",
       "      <td>1</td>\n",
       "      <td>0</td>\n",
       "    </tr>\n",
       "    <tr>\n",
       "      <th>1</th>\n",
       "      <td>TransactionId_2</td>\n",
       "      <td>BatchId_22</td>\n",
       "      <td>AccountId_222</td>\n",
       "      <td>SubscriptionId_2222</td>\n",
       "      <td>CustomerId_22222</td>\n",
       "      <td>AMZ</td>\n",
       "      <td>ProviderId_2</td>\n",
       "      <td>ProductId_12</td>\n",
       "      <td>A</td>\n",
       "      <td>ChannelId_12</td>\n",
       "      <td>100</td>\n",
       "      <td>100</td>\n",
       "      <td>2023-01-02</td>\n",
       "      <td>2</td>\n",
       "      <td>1</td>\n",
       "    </tr>\n",
       "    <tr>\n",
       "      <th>2</th>\n",
       "      <td>TransactionId_3</td>\n",
       "      <td>BatchId_33</td>\n",
       "      <td>AccountId_333</td>\n",
       "      <td>SubscriptionId_3333</td>\n",
       "      <td>CustomerId_33333</td>\n",
       "      <td>AMZ</td>\n",
       "      <td>ProviderId_3</td>\n",
       "      <td>ProductId_13</td>\n",
       "      <td>A</td>\n",
       "      <td>ChannelId_13</td>\n",
       "      <td>200</td>\n",
       "      <td>200</td>\n",
       "      <td>2023-01-03</td>\n",
       "      <td>3</td>\n",
       "      <td>1</td>\n",
       "    </tr>\n",
       "    <tr>\n",
       "      <th>3</th>\n",
       "      <td>TransactionId_4</td>\n",
       "      <td>BatchId_44</td>\n",
       "      <td>AccountId_444</td>\n",
       "      <td>SubscriptionId_4444</td>\n",
       "      <td>CustomerId_44444</td>\n",
       "      <td>AMZ</td>\n",
       "      <td>ProviderId_4</td>\n",
       "      <td>ProductId_14</td>\n",
       "      <td>A</td>\n",
       "      <td>ChannelId_14</td>\n",
       "      <td>-1000</td>\n",
       "      <td>1000</td>\n",
       "      <td>2023-01-04</td>\n",
       "      <td>3</td>\n",
       "      <td>0</td>\n",
       "    </tr>\n",
       "    <tr>\n",
       "      <th>4</th>\n",
       "      <td>TransactionId_5</td>\n",
       "      <td>BatchId_55</td>\n",
       "      <td>AccountId_555</td>\n",
       "      <td>SubscriptionId_5555</td>\n",
       "      <td>CustomerId_55555</td>\n",
       "      <td>AMZ</td>\n",
       "      <td>ProviderId_5</td>\n",
       "      <td>ProductId_15</td>\n",
       "      <td>A</td>\n",
       "      <td>ChannelId_15</td>\n",
       "      <td>18</td>\n",
       "      <td>20</td>\n",
       "      <td>2023-01-05</td>\n",
       "      <td>2</td>\n",
       "      <td>1</td>\n",
       "    </tr>\n",
       "  </tbody>\n",
       "</table>\n",
       "</div>"
      ],
      "text/plain": [
       "     TransactionId     BatchId      AccountId       SubscriptionId  \\\n",
       "0  TransactionId_1  BatchId_11  AccountId_111  SubscriptionId_1111   \n",
       "1  TransactionId_2  BatchId_22  AccountId_222  SubscriptionId_2222   \n",
       "2  TransactionId_3  BatchId_33  AccountId_333  SubscriptionId_3333   \n",
       "3  TransactionId_4  BatchId_44  AccountId_444  SubscriptionId_4444   \n",
       "4  TransactionId_5  BatchId_55  AccountId_555  SubscriptionId_5555   \n",
       "\n",
       "         CustomerId CountryCode    ProviderId     ProductId ProductCategory  \\\n",
       "0  CustomerId_11111         AMZ  ProviderId_1  ProductId_11               A   \n",
       "1  CustomerId_22222         AMZ  ProviderId_2  ProductId_12               A   \n",
       "2  CustomerId_33333         AMZ  ProviderId_3  ProductId_13               A   \n",
       "3  CustomerId_44444         AMZ  ProviderId_4  ProductId_14               A   \n",
       "4  CustomerId_55555         AMZ  ProviderId_5  ProductId_15               A   \n",
       "\n",
       "      ChannelId  Amount  Value TransactionStartTime  PricingStrategy  \\\n",
       "0  ChannelId_11     100    100           2023-01-01                1   \n",
       "1  ChannelId_12     100    100           2023-01-02                2   \n",
       "2  ChannelId_13     200    200           2023-01-03                3   \n",
       "3  ChannelId_14   -1000   1000           2023-01-04                3   \n",
       "4  ChannelId_15      18     20           2023-01-05                2   \n",
       "\n",
       "   FraudResult  \n",
       "0            0  \n",
       "1            1  \n",
       "2            1  \n",
       "3            0  \n",
       "4            1  "
      ]
     },
     "metadata": {},
     "output_type": "display_data"
    },
    {
     "name": "stdout",
     "output_type": "stream",
     "text": [
      "\n",
      "DataFrame shape:\n"
     ]
    },
    {
     "data": {
      "text/plain": [
       "(10, 15)"
      ]
     },
     "metadata": {},
     "output_type": "display_data"
    },
    {
     "name": "stdout",
     "output_type": "stream",
     "text": [
      "\n",
      "DataFrame columns:\n"
     ]
    },
    {
     "data": {
      "text/plain": [
       "Index(['TransactionId', 'BatchId', 'AccountId', 'SubscriptionId', 'CustomerId',\n",
       "       'CountryCode', 'ProviderId', 'ProductId', 'ProductCategory',\n",
       "       'ChannelId', 'Amount', 'Value', 'TransactionStartTime',\n",
       "       'PricingStrategy', 'FraudResult'],\n",
       "      dtype='object')"
      ]
     },
     "metadata": {},
     "output_type": "display_data"
    },
    {
     "name": "stdout",
     "output_type": "stream",
     "text": [
      "\n",
      "DataFrame summary:\n",
      "<class 'pandas.core.frame.DataFrame'>\n",
      "RangeIndex: 10 entries, 0 to 9\n",
      "Data columns (total 15 columns):\n",
      " #   Column                Non-Null Count  Dtype         \n",
      "---  ------                --------------  -----         \n",
      " 0   TransactionId         10 non-null     object        \n",
      " 1   BatchId               10 non-null     object        \n",
      " 2   AccountId             10 non-null     object        \n",
      " 3   SubscriptionId        10 non-null     object        \n",
      " 4   CustomerId            10 non-null     object        \n",
      " 5   CountryCode           10 non-null     object        \n",
      " 6   ProviderId            10 non-null     object        \n",
      " 7   ProductId             10 non-null     object        \n",
      " 8   ProductCategory       10 non-null     object        \n",
      " 9   ChannelId             10 non-null     object        \n",
      " 10  Amount                10 non-null     int64         \n",
      " 11  Value                 10 non-null     int64         \n",
      " 12  TransactionStartTime  10 non-null     datetime64[ns]\n",
      " 13  PricingStrategy       10 non-null     int64         \n",
      " 14  FraudResult           10 non-null     int64         \n",
      "dtypes: datetime64[ns](1), int64(4), object(10)\n",
      "memory usage: 1.3+ KB\n",
      "There are no columns with missing values\n",
      "Visualising correlations ...\n",
      "\n",
      "\n",
      "Plot saved to test_plots\\Correlation Matrix of Numerical Features.png\n"
     ]
    },
    {
     "data": {
      "image/png": "[encoded data removed]",
      "text/plain": [
       "<Figure size 700x300 with 2 Axes>"
      ]
     },
     "metadata": {},
     "output_type": "display_data"
    },
    {
     "name": "stderr",
     "output_type": "stream",
     "text": [
      "ok\n",
      "test_detect_outliers (__main__.TestEDA.test_detect_outliers)\n",
      "Test the detect_outliers method. ... "
     ]
    },
    {
     "name": "stdout",
     "output_type": "stream",
     "text": [
      "DataFrame loaded successfully from test_data.csv\n",
      "\n",
      "DataFrame head:\n"
     ]
    },
    {
     "data": {
      "application/vnd.microsoft.datawrangler.viewer.v0+json": {
       "columns": [
        {
         "name": "index",
         "rawType": "int64",
         "type": "integer"
        },
        {
         "name": "TransactionId",
         "rawType": "object",
         "type": "string"
        },
        {
         "name": "BatchId",
         "rawType": "object",
         "type": "string"
        },
        {
         "name": "AccountId",
         "rawType": "object",
         "type": "string"
        },
        {
         "name": "SubscriptionId",
         "rawType": "object",
         "type": "string"
        },
        {
         "name": "CustomerId",
         "rawType": "object",
         "type": "string"
        },
        {
         "name": "CountryCode",
         "rawType": "object",
         "type": "string"
        },
        {
         "name": "ProviderId",
         "rawType": "object",
         "type": "string"
        },
        {
         "name": "ProductId",
         "rawType": "object",
         "type": "string"
        },
        {
         "name": "ProductCategory",
         "rawType": "object",
         "type": "string"
        },
        {
         "name": "ChannelId",
         "rawType": "object",
         "type": "string"
        },
        {
         "name": "Amount",
         "rawType": "int64",
         "type": "integer"
        },
        {
         "name": "Value",
         "rawType": "int64",
         "type": "integer"
        },
        {
         "name": "TransactionStartTime",
         "rawType": "datetime64[ns]",
         "type": "datetime"
        },
        {
         "name": "PricingStrategy",
         "rawType": "int64",
         "type": "integer"
        },
        {
         "name": "FraudResult",
         "rawType": "int64",
         "type": "integer"
        }
       ],
       "ref": "e3201790-4cc5-4a64-9f91-e33e98d4c774",
       "rows": [
        [
         "0",
         "TransactionId_1",
         "BatchId_11",
         "AccountId_111",
         "SubscriptionId_1111",
         "CustomerId_11111",
         "AMZ",
         "ProviderId_1",
         "ProductId_11",
         "A",
         "ChannelId_11",
         "100",
         "100",
         "2023-01-01 00:00:00",
         "1",
         "0"
        ],
        [
         "1",
         "TransactionId_2",
         "BatchId_22",
         "AccountId_222",
         "SubscriptionId_2222",
         "CustomerId_22222",
         "AMZ",
         "ProviderId_2",
         "ProductId_12",
         "A",
         "ChannelId_12",
         "100",
         "100",
         "2023-01-02 00:00:00",
         "2",
         "1"
        ],
        [
         "2",
         "TransactionId_3",
         "BatchId_33",
         "AccountId_333",
         "SubscriptionId_3333",
         "CustomerId_33333",
         "AMZ",
         "ProviderId_3",
         "ProductId_13",
         "A",
         "ChannelId_13",
         "200",
         "200",
         "2023-01-03 00:00:00",
         "3",
         "1"
        ],
        [
         "3",
         "TransactionId_4",
         "BatchId_44",
         "AccountId_444",
         "SubscriptionId_4444",
         "CustomerId_44444",
         "AMZ",
         "ProviderId_4",
         "ProductId_14",
         "A",
         "ChannelId_14",
         "-1000",
         "1000",
         "2023-01-04 00:00:00",
         "3",
         "0"
        ],
        [
         "4",
         "TransactionId_5",
         "BatchId_55",
         "AccountId_555",
         "SubscriptionId_5555",
         "CustomerId_55555",
         "AMZ",
         "ProviderId_5",
         "ProductId_15",
         "A",
         "ChannelId_15",
         "18",
         "20",
         "2023-01-05 00:00:00",
         "2",
         "1"
        ]
       ],
       "shape": {
        "columns": 15,
        "rows": 5
       }
      },
      "text/html": [
       "<div>\n",
       "<style scoped>\n",
       "    .dataframe tbody tr th:only-of-type {\n",
       "        vertical-align: middle;\n",
       "    }\n",
       "\n",
       "    .dataframe tbody tr th {\n",
       "        vertical-align: top;\n",
       "    }\n",
       "\n",
       "    .dataframe thead th {\n",
       "        text-align: right;\n",
       "    }\n",
       "</style>\n",
       "<table border=\"1\" class=\"dataframe\">\n",
       "  <thead>\n",
       "    <tr style=\"text-align: right;\">\n",
       "      <th></th>\n",
       "      <th>TransactionId</th>\n",
       "      <th>BatchId</th>\n",
       "      <th>AccountId</th>\n",
       "      <th>SubscriptionId</th>\n",
       "      <th>CustomerId</th>\n",
       "      <th>CountryCode</th>\n",
       "      <th>ProviderId</th>\n",
       "      <th>ProductId</th>\n",
       "      <th>ProductCategory</th>\n",
       "      <th>ChannelId</th>\n",
       "      <th>Amount</th>\n",
       "      <th>Value</th>\n",
       "      <th>TransactionStartTime</th>\n",
       "      <th>PricingStrategy</th>\n",
       "      <th>FraudResult</th>\n",
       "    </tr>\n",
       "  </thead>\n",
       "  <tbody>\n",
       "    <tr>\n",
       "      <th>0</th>\n",
       "      <td>TransactionId_1</td>\n",
       "      <td>BatchId_11</td>\n",
       "      <td>AccountId_111</td>\n",
       "      <td>SubscriptionId_1111</td>\n",
       "      <td>CustomerId_11111</td>\n",
       "      <td>AMZ</td>\n",
       "      <td>ProviderId_1</td>\n",
       "      <td>ProductId_11</td>\n",
       "      <td>A</td>\n",
       "      <td>ChannelId_11</td>\n",
       "      <td>100</td>\n",
       "      <td>100</td>\n",
       "      <td>2023-01-01</td>\n",
       "      <td>1</td>\n",
       "      <td>0</td>\n",
       "    </tr>\n",
       "    <tr>\n",
       "      <th>1</th>\n",
       "      <td>TransactionId_2</td>\n",
       "      <td>BatchId_22</td>\n",
       "      <td>AccountId_222</td>\n",
       "      <td>SubscriptionId_2222</td>\n",
       "      <td>CustomerId_22222</td>\n",
       "      <td>AMZ</td>\n",
       "      <td>ProviderId_2</td>\n",
       "      <td>ProductId_12</td>\n",
       "      <td>A</td>\n",
       "      <td>ChannelId_12</td>\n",
       "      <td>100</td>\n",
       "      <td>100</td>\n",
       "      <td>2023-01-02</td>\n",
       "      <td>2</td>\n",
       "      <td>1</td>\n",
       "    </tr>\n",
       "    <tr>\n",
       "      <th>2</th>\n",
       "      <td>TransactionId_3</td>\n",
       "      <td>BatchId_33</td>\n",
       "      <td>AccountId_333</td>\n",
       "      <td>SubscriptionId_3333</td>\n",
       "      <td>CustomerId_33333</td>\n",
       "      <td>AMZ</td>\n",
       "      <td>ProviderId_3</td>\n",
       "      <td>ProductId_13</td>\n",
       "      <td>A</td>\n",
       "      <td>ChannelId_13</td>\n",
       "      <td>200</td>\n",
       "      <td>200</td>\n",
       "      <td>2023-01-03</td>\n",
       "      <td>3</td>\n",
       "      <td>1</td>\n",
       "    </tr>\n",
       "    <tr>\n",
       "      <th>3</th>\n",
       "      <td>TransactionId_4</td>\n",
       "      <td>BatchId_44</td>\n",
       "      <td>AccountId_444</td>\n",
       "      <td>SubscriptionId_4444</td>\n",
       "      <td>CustomerId_44444</td>\n",
       "      <td>AMZ</td>\n",
       "      <td>ProviderId_4</td>\n",
       "      <td>ProductId_14</td>\n",
       "      <td>A</td>\n",
       "      <td>ChannelId_14</td>\n",
       "      <td>-1000</td>\n",
       "      <td>1000</td>\n",
       "      <td>2023-01-04</td>\n",
       "      <td>3</td>\n",
       "      <td>0</td>\n",
       "    </tr>\n",
       "    <tr>\n",
       "      <th>4</th>\n",
       "      <td>TransactionId_5</td>\n",
       "      <td>BatchId_55</td>\n",
       "      <td>AccountId_555</td>\n",
       "      <td>SubscriptionId_5555</td>\n",
       "      <td>CustomerId_55555</td>\n",
       "      <td>AMZ</td>\n",
       "      <td>ProviderId_5</td>\n",
       "      <td>ProductId_15</td>\n",
       "      <td>A</td>\n",
       "      <td>ChannelId_15</td>\n",
       "      <td>18</td>\n",
       "      <td>20</td>\n",
       "      <td>2023-01-05</td>\n",
       "      <td>2</td>\n",
       "      <td>1</td>\n",
       "    </tr>\n",
       "  </tbody>\n",
       "</table>\n",
       "</div>"
      ],
      "text/plain": [
       "     TransactionId     BatchId      AccountId       SubscriptionId  \\\n",
       "0  TransactionId_1  BatchId_11  AccountId_111  SubscriptionId_1111   \n",
       "1  TransactionId_2  BatchId_22  AccountId_222  SubscriptionId_2222   \n",
       "2  TransactionId_3  BatchId_33  AccountId_333  SubscriptionId_3333   \n",
       "3  TransactionId_4  BatchId_44  AccountId_444  SubscriptionId_4444   \n",
       "4  TransactionId_5  BatchId_55  AccountId_555  SubscriptionId_5555   \n",
       "\n",
       "         CustomerId CountryCode    ProviderId     ProductId ProductCategory  \\\n",
       "0  CustomerId_11111         AMZ  ProviderId_1  ProductId_11               A   \n",
       "1  CustomerId_22222         AMZ  ProviderId_2  ProductId_12               A   \n",
       "2  CustomerId_33333         AMZ  ProviderId_3  ProductId_13               A   \n",
       "3  CustomerId_44444         AMZ  ProviderId_4  ProductId_14               A   \n",
       "4  CustomerId_55555         AMZ  ProviderId_5  ProductId_15               A   \n",
       "\n",
       "      ChannelId  Amount  Value TransactionStartTime  PricingStrategy  \\\n",
       "0  ChannelId_11     100    100           2023-01-01                1   \n",
       "1  ChannelId_12     100    100           2023-01-02                2   \n",
       "2  ChannelId_13     200    200           2023-01-03                3   \n",
       "3  ChannelId_14   -1000   1000           2023-01-04                3   \n",
       "4  ChannelId_15      18     20           2023-01-05                2   \n",
       "\n",
       "   FraudResult  \n",
       "0            0  \n",
       "1            1  \n",
       "2            1  \n",
       "3            0  \n",
       "4            1  "
      ]
     },
     "metadata": {},
     "output_type": "display_data"
    },
    {
     "name": "stdout",
     "output_type": "stream",
     "text": [
      "\n",
      "DataFrame shape:\n"
     ]
    },
    {
     "data": {
      "text/plain": [
       "(10, 15)"
      ]
     },
     "metadata": {},
     "output_type": "display_data"
    },
    {
     "name": "stdout",
     "output_type": "stream",
     "text": [
      "\n",
      "DataFrame columns:\n"
     ]
    },
    {
     "data": {
      "text/plain": [
       "Index(['TransactionId', 'BatchId', 'AccountId', 'SubscriptionId', 'CustomerId',\n",
       "       'CountryCode', 'ProviderId', 'ProductId', 'ProductCategory',\n",
       "       'ChannelId', 'Amount', 'Value', 'TransactionStartTime',\n",
       "       'PricingStrategy', 'FraudResult'],\n",
       "      dtype='object')"
      ]
     },
     "metadata": {},
     "output_type": "display_data"
    },
    {
     "name": "stdout",
     "output_type": "stream",
     "text": [
      "\n",
      "DataFrame summary:\n",
      "<class 'pandas.core.frame.DataFrame'>\n",
      "RangeIndex: 10 entries, 0 to 9\n",
      "Data columns (total 15 columns):\n",
      " #   Column                Non-Null Count  Dtype         \n",
      "---  ------                --------------  -----         \n",
      " 0   TransactionId         10 non-null     object        \n",
      " 1   BatchId               10 non-null     object        \n",
      " 2   AccountId             10 non-null     object        \n",
      " 3   SubscriptionId        10 non-null     object        \n",
      " 4   CustomerId            10 non-null     object        \n",
      " 5   CountryCode           10 non-null     object        \n",
      " 6   ProviderId            10 non-null     object        \n",
      " 7   ProductId             10 non-null     object        \n",
      " 8   ProductCategory       10 non-null     object        \n",
      " 9   ChannelId             10 non-null     object        \n",
      " 10  Amount                10 non-null     int64         \n",
      " 11  Value                 10 non-null     int64         \n",
      " 12  TransactionStartTime  10 non-null     datetime64[ns]\n",
      " 13  PricingStrategy       10 non-null     int64         \n",
      " 14  FraudResult           10 non-null     int64         \n",
      "dtypes: datetime64[ns](1), int64(4), object(10)\n",
      "memory usage: 1.3+ KB\n",
      "There are no columns with missing values\n",
      "Visualising outliers ...\n",
      "\n",
      "\n",
      "Plot saved to test_plots\\Outlier Detection for Amount.png\n"
     ]
    },
    {
     "name": "stderr",
     "output_type": "stream",
     "text": [
      "c:\\Users\\nuhamin\\Documents\\kifiya\\week 5\\Credit-Risk-Probability-Model-for-Alternative-Data\\.credvenv\\Lib\\site-packages\\seaborn\\categorical.py:700: PendingDeprecationWarning: vert: bool will be deprecated in a future version. Use orientation: {'vertical', 'horizontal'} instead.\n",
      "  artists = ax.bxp(**boxplot_kws)\n"
     ]
    },
    {
     "data": {
      "image/png": "[encoded data removed]",
      "text/plain": [
       "<Figure size 800x400 with 1 Axes>"
      ]
     },
     "metadata": {},
     "output_type": "display_data"
    },
    {
     "name": "stderr",
     "output_type": "stream",
     "text": [
      "c:\\Users\\nuhamin\\Documents\\kifiya\\week 5\\Credit-Risk-Probability-Model-for-Alternative-Data\\.credvenv\\Lib\\site-packages\\seaborn\\categorical.py:700: PendingDeprecationWarning: vert: bool will be deprecated in a future version. Use orientation: {'vertical', 'horizontal'} instead.\n",
      "  artists = ax.bxp(**boxplot_kws)\n"
     ]
    },
    {
     "name": "stdout",
     "output_type": "stream",
     "text": [
      "\n",
      "Plot saved to test_plots\\Outlier Detection for Value.png\n"
     ]
    },
    {
     "data": {
      "image/png": "[encoded data removed]",
      "text/plain": [
       "<Figure size 800x400 with 1 Axes>"
      ]
     },
     "metadata": {},
     "output_type": "display_data"
    },
    {
     "name": "stdout",
     "output_type": "stream",
     "text": [
      "\n",
      "Visualising after handling outlier ...\n",
      "\n",
      "Plot saved to test_plots\\Post-Outlier Distribution of Amount.png\n"
     ]
    },
    {
     "data": {
      "image/png": "[encoded data removed]",
      "text/plain": [
       "<Figure size 800x400 with 1 Axes>"
      ]
     },
     "metadata": {},
     "output_type": "display_data"
    },
    {
     "name": "stdout",
     "output_type": "stream",
     "text": [
      "\n",
      "Plot saved to test_plots\\Post-Outlier Distribution of Value.png\n"
     ]
    },
    {
     "data": {
      "image/png": "[encoded data removed]",
      "text/plain": [
       "<Figure size 800x400 with 1 Axes>"
      ]
     },
     "metadata": {},
     "output_type": "display_data"
    },
    {
     "name": "stderr",
     "output_type": "stream",
     "text": [
      "ok\n",
      "test_load_df (__main__.TestEDA.test_load_df)\n",
      "Test the load_df method. ... "
     ]
    },
    {
     "name": "stdout",
     "output_type": "stream",
     "text": [
      "DataFrame loaded successfully from test_data.csv\n",
      "\n",
      "DataFrame head:\n"
     ]
    },
    {
     "data": {
      "application/vnd.microsoft.datawrangler.viewer.v0+json": {
       "columns": [
        {
         "name": "index",
         "rawType": "int64",
         "type": "integer"
        },
        {
         "name": "TransactionId",
         "rawType": "object",
         "type": "string"
        },
        {
         "name": "BatchId",
         "rawType": "object",
         "type": "string"
        },
        {
         "name": "AccountId",
         "rawType": "object",
         "type": "string"
        },
        {
         "name": "SubscriptionId",
         "rawType": "object",
         "type": "string"
        },
        {
         "name": "CustomerId",
         "rawType": "object",
         "type": "string"
        },
        {
         "name": "CountryCode",
         "rawType": "object",
         "type": "string"
        },
        {
         "name": "ProviderId",
         "rawType": "object",
         "type": "string"
        },
        {
         "name": "ProductId",
         "rawType": "object",
         "type": "string"
        },
        {
         "name": "ProductCategory",
         "rawType": "object",
         "type": "string"
        },
        {
         "name": "ChannelId",
         "rawType": "object",
         "type": "string"
        },
        {
         "name": "Amount",
         "rawType": "int64",
         "type": "integer"
        },
        {
         "name": "Value",
         "rawType": "int64",
         "type": "integer"
        },
        {
         "name": "TransactionStartTime",
         "rawType": "datetime64[ns]",
         "type": "datetime"
        },
        {
         "name": "PricingStrategy",
         "rawType": "int64",
         "type": "integer"
        },
        {
         "name": "FraudResult",
         "rawType": "int64",
         "type": "integer"
        }
       ],
       "ref": "cafe8e7e-1855-460c-a1be-6150e4aa8ead",
       "rows": [
        [
         "0",
         "TransactionId_1",
         "BatchId_11",
         "AccountId_111",
         "SubscriptionId_1111",
         "CustomerId_11111",
         "AMZ",
         "ProviderId_1",
         "ProductId_11",
         "A",
         "ChannelId_11",
         "100",
         "100",
         "2023-01-01 00:00:00",
         "1",
         "0"
        ],
        [
         "1",
         "TransactionId_2",
         "BatchId_22",
         "AccountId_222",
         "SubscriptionId_2222",
         "CustomerId_22222",
         "AMZ",
         "ProviderId_2",
         "ProductId_12",
         "A",
         "ChannelId_12",
         "100",
         "100",
         "2023-01-02 00:00:00",
         "2",
         "1"
        ],
        [
         "2",
         "TransactionId_3",
         "BatchId_33",
         "AccountId_333",
         "SubscriptionId_3333",
         "CustomerId_33333",
         "AMZ",
         "ProviderId_3",
         "ProductId_13",
         "A",
         "ChannelId_13",
         "200",
         "200",
         "2023-01-03 00:00:00",
         "3",
         "1"
        ],
        [
         "3",
         "TransactionId_4",
         "BatchId_44",
         "AccountId_444",
         "SubscriptionId_4444",
         "CustomerId_44444",
         "AMZ",
         "ProviderId_4",
         "ProductId_14",
         "A",
         "ChannelId_14",
         "-1000",
         "1000",
         "2023-01-04 00:00:00",
         "3",
         "0"
        ],
        [
         "4",
         "TransactionId_5",
         "BatchId_55",
         "AccountId_555",
         "SubscriptionId_5555",
         "CustomerId_55555",
         "AMZ",
         "ProviderId_5",
         "ProductId_15",
         "A",
         "ChannelId_15",
         "18",
         "20",
         "2023-01-05 00:00:00",
         "2",
         "1"
        ]
       ],
       "shape": {
        "columns": 15,
        "rows": 5
       }
      },
      "text/html": [
       "<div>\n",
       "<style scoped>\n",
       "    .dataframe tbody tr th:only-of-type {\n",
       "        vertical-align: middle;\n",
       "    }\n",
       "\n",
       "    .dataframe tbody tr th {\n",
       "        vertical-align: top;\n",
       "    }\n",
       "\n",
       "    .dataframe thead th {\n",
       "        text-align: right;\n",
       "    }\n",
       "</style>\n",
       "<table border=\"1\" class=\"dataframe\">\n",
       "  <thead>\n",
       "    <tr style=\"text-align: right;\">\n",
       "      <th></th>\n",
       "      <th>TransactionId</th>\n",
       "      <th>BatchId</th>\n",
       "      <th>AccountId</th>\n",
       "      <th>SubscriptionId</th>\n",
       "      <th>CustomerId</th>\n",
       "      <th>CountryCode</th>\n",
       "      <th>ProviderId</th>\n",
       "      <th>ProductId</th>\n",
       "      <th>ProductCategory</th>\n",
       "      <th>ChannelId</th>\n",
       "      <th>Amount</th>\n",
       "      <th>Value</th>\n",
       "      <th>TransactionStartTime</th>\n",
       "      <th>PricingStrategy</th>\n",
       "      <th>FraudResult</th>\n",
       "    </tr>\n",
       "  </thead>\n",
       "  <tbody>\n",
       "    <tr>\n",
       "      <th>0</th>\n",
       "      <td>TransactionId_1</td>\n",
       "      <td>BatchId_11</td>\n",
       "      <td>AccountId_111</td>\n",
       "      <td>SubscriptionId_1111</td>\n",
       "      <td>CustomerId_11111</td>\n",
       "      <td>AMZ</td>\n",
       "      <td>ProviderId_1</td>\n",
       "      <td>ProductId_11</td>\n",
       "      <td>A</td>\n",
       "      <td>ChannelId_11</td>\n",
       "      <td>100</td>\n",
       "      <td>100</td>\n",
       "      <td>2023-01-01</td>\n",
       "      <td>1</td>\n",
       "      <td>0</td>\n",
       "    </tr>\n",
       "    <tr>\n",
       "      <th>1</th>\n",
       "      <td>TransactionId_2</td>\n",
       "      <td>BatchId_22</td>\n",
       "      <td>AccountId_222</td>\n",
       "      <td>SubscriptionId_2222</td>\n",
       "      <td>CustomerId_22222</td>\n",
       "      <td>AMZ</td>\n",
       "      <td>ProviderId_2</td>\n",
       "      <td>ProductId_12</td>\n",
       "      <td>A</td>\n",
       "      <td>ChannelId_12</td>\n",
       "      <td>100</td>\n",
       "      <td>100</td>\n",
       "      <td>2023-01-02</td>\n",
       "      <td>2</td>\n",
       "      <td>1</td>\n",
       "    </tr>\n",
       "    <tr>\n",
       "      <th>2</th>\n",
       "      <td>TransactionId_3</td>\n",
       "      <td>BatchId_33</td>\n",
       "      <td>AccountId_333</td>\n",
       "      <td>SubscriptionId_3333</td>\n",
       "      <td>CustomerId_33333</td>\n",
       "      <td>AMZ</td>\n",
       "      <td>ProviderId_3</td>\n",
       "      <td>ProductId_13</td>\n",
       "      <td>A</td>\n",
       "      <td>ChannelId_13</td>\n",
       "      <td>200</td>\n",
       "      <td>200</td>\n",
       "      <td>2023-01-03</td>\n",
       "      <td>3</td>\n",
       "      <td>1</td>\n",
       "    </tr>\n",
       "    <tr>\n",
       "      <th>3</th>\n",
       "      <td>TransactionId_4</td>\n",
       "      <td>BatchId_44</td>\n",
       "      <td>AccountId_444</td>\n",
       "      <td>SubscriptionId_4444</td>\n",
       "      <td>CustomerId_44444</td>\n",
       "      <td>AMZ</td>\n",
       "      <td>ProviderId_4</td>\n",
       "      <td>ProductId_14</td>\n",
       "      <td>A</td>\n",
       "      <td>ChannelId_14</td>\n",
       "      <td>-1000</td>\n",
       "      <td>1000</td>\n",
       "      <td>2023-01-04</td>\n",
       "      <td>3</td>\n",
       "      <td>0</td>\n",
       "    </tr>\n",
       "    <tr>\n",
       "      <th>4</th>\n",
       "      <td>TransactionId_5</td>\n",
       "      <td>BatchId_55</td>\n",
       "      <td>AccountId_555</td>\n",
       "      <td>SubscriptionId_5555</td>\n",
       "      <td>CustomerId_55555</td>\n",
       "      <td>AMZ</td>\n",
       "      <td>ProviderId_5</td>\n",
       "      <td>ProductId_15</td>\n",
       "      <td>A</td>\n",
       "      <td>ChannelId_15</td>\n",
       "      <td>18</td>\n",
       "      <td>20</td>\n",
       "      <td>2023-01-05</td>\n",
       "      <td>2</td>\n",
       "      <td>1</td>\n",
       "    </tr>\n",
       "  </tbody>\n",
       "</table>\n",
       "</div>"
      ],
      "text/plain": [
       "     TransactionId     BatchId      AccountId       SubscriptionId  \\\n",
       "0  TransactionId_1  BatchId_11  AccountId_111  SubscriptionId_1111   \n",
       "1  TransactionId_2  BatchId_22  AccountId_222  SubscriptionId_2222   \n",
       "2  TransactionId_3  BatchId_33  AccountId_333  SubscriptionId_3333   \n",
       "3  TransactionId_4  BatchId_44  AccountId_444  SubscriptionId_4444   \n",
       "4  TransactionId_5  BatchId_55  AccountId_555  SubscriptionId_5555   \n",
       "\n",
       "         CustomerId CountryCode    ProviderId     ProductId ProductCategory  \\\n",
       "0  CustomerId_11111         AMZ  ProviderId_1  ProductId_11               A   \n",
       "1  CustomerId_22222         AMZ  ProviderId_2  ProductId_12               A   \n",
       "2  CustomerId_33333         AMZ  ProviderId_3  ProductId_13               A   \n",
       "3  CustomerId_44444         AMZ  ProviderId_4  ProductId_14               A   \n",
       "4  CustomerId_55555         AMZ  ProviderId_5  ProductId_15               A   \n",
       "\n",
       "      ChannelId  Amount  Value TransactionStartTime  PricingStrategy  \\\n",
       "0  ChannelId_11     100    100           2023-01-01                1   \n",
       "1  ChannelId_12     100    100           2023-01-02                2   \n",
       "2  ChannelId_13     200    200           2023-01-03                3   \n",
       "3  ChannelId_14   -1000   1000           2023-01-04                3   \n",
       "4  ChannelId_15      18     20           2023-01-05                2   \n",
       "\n",
       "   FraudResult  \n",
       "0            0  \n",
       "1            1  \n",
       "2            1  \n",
       "3            0  \n",
       "4            1  "
      ]
     },
     "metadata": {},
     "output_type": "display_data"
    },
    {
     "name": "stdout",
     "output_type": "stream",
     "text": [
      "\n",
      "DataFrame shape:\n"
     ]
    },
    {
     "data": {
      "text/plain": [
       "(10, 15)"
      ]
     },
     "metadata": {},
     "output_type": "display_data"
    },
    {
     "name": "stdout",
     "output_type": "stream",
     "text": [
      "\n",
      "DataFrame columns:\n"
     ]
    },
    {
     "data": {
      "text/plain": [
       "Index(['TransactionId', 'BatchId', 'AccountId', 'SubscriptionId', 'CustomerId',\n",
       "       'CountryCode', 'ProviderId', 'ProductId', 'ProductCategory',\n",
       "       'ChannelId', 'Amount', 'Value', 'TransactionStartTime',\n",
       "       'PricingStrategy', 'FraudResult'],\n",
       "      dtype='object')"
      ]
     },
     "metadata": {},
     "output_type": "display_data"
    },
    {
     "name": "stderr",
     "output_type": "stream",
     "text": [
      "ok\n",
      "test_missing_values (__main__.TestEDA.test_missing_values)\n",
      "Test the missing_values method. ... "
     ]
    },
    {
     "name": "stdout",
     "output_type": "stream",
     "text": [
      "\n",
      "DataFrame summary:\n",
      "<class 'pandas.core.frame.DataFrame'>\n",
      "RangeIndex: 10 entries, 0 to 9\n",
      "Data columns (total 15 columns):\n",
      " #   Column                Non-Null Count  Dtype         \n",
      "---  ------                --------------  -----         \n",
      " 0   TransactionId         10 non-null     object        \n",
      " 1   BatchId               10 non-null     object        \n",
      " 2   AccountId             10 non-null     object        \n",
      " 3   SubscriptionId        10 non-null     object        \n",
      " 4   CustomerId            10 non-null     object        \n",
      " 5   CountryCode           10 non-null     object        \n",
      " 6   ProviderId            10 non-null     object        \n",
      " 7   ProductId             10 non-null     object        \n",
      " 8   ProductCategory       10 non-null     object        \n",
      " 9   ChannelId             10 non-null     object        \n",
      " 10  Amount                10 non-null     int64         \n",
      " 11  Value                 10 non-null     int64         \n",
      " 12  TransactionStartTime  10 non-null     datetime64[ns]\n",
      " 13  PricingStrategy       10 non-null     int64         \n",
      " 14  FraudResult           10 non-null     int64         \n",
      "dtypes: datetime64[ns](1), int64(4), object(10)\n",
      "memory usage: 1.3+ KB\n",
      "There are no columns with missing values\n",
      "DataFrame loaded successfully from test_data.csv\n",
      "\n",
      "DataFrame head:\n"
     ]
    },
    {
     "data": {
      "application/vnd.microsoft.datawrangler.viewer.v0+json": {
       "columns": [
        {
         "name": "index",
         "rawType": "int64",
         "type": "integer"
        },
        {
         "name": "TransactionId",
         "rawType": "object",
         "type": "string"
        },
        {
         "name": "BatchId",
         "rawType": "object",
         "type": "string"
        },
        {
         "name": "AccountId",
         "rawType": "object",
         "type": "string"
        },
        {
         "name": "SubscriptionId",
         "rawType": "object",
         "type": "string"
        },
        {
         "name": "CustomerId",
         "rawType": "object",
         "type": "string"
        },
        {
         "name": "CountryCode",
         "rawType": "object",
         "type": "string"
        },
        {
         "name": "ProviderId",
         "rawType": "object",
         "type": "string"
        },
        {
         "name": "ProductId",
         "rawType": "object",
         "type": "string"
        },
        {
         "name": "ProductCategory",
         "rawType": "object",
         "type": "string"
        },
        {
         "name": "ChannelId",
         "rawType": "object",
         "type": "string"
        },
        {
         "name": "Amount",
         "rawType": "int64",
         "type": "integer"
        },
        {
         "name": "Value",
         "rawType": "int64",
         "type": "integer"
        },
        {
         "name": "TransactionStartTime",
         "rawType": "datetime64[ns]",
         "type": "datetime"
        },
        {
         "name": "PricingStrategy",
         "rawType": "int64",
         "type": "integer"
        },
        {
         "name": "FraudResult",
         "rawType": "int64",
         "type": "integer"
        }
       ],
       "ref": "7abfb54a-9037-4bf2-9478-627e733ef78f",
       "rows": [
        [
         "0",
         "TransactionId_1",
         "BatchId_11",
         "AccountId_111",
         "SubscriptionId_1111",
         "CustomerId_11111",
         "AMZ",
         "ProviderId_1",
         "ProductId_11",
         "A",
         "ChannelId_11",
         "100",
         "100",
         "2023-01-01 00:00:00",
         "1",
         "0"
        ],
        [
         "1",
         "TransactionId_2",
         "BatchId_22",
         "AccountId_222",
         "SubscriptionId_2222",
         "CustomerId_22222",
         "AMZ",
         "ProviderId_2",
         "ProductId_12",
         "A",
         "ChannelId_12",
         "100",
         "100",
         "2023-01-02 00:00:00",
         "2",
         "1"
        ],
        [
         "2",
         "TransactionId_3",
         "BatchId_33",
         "AccountId_333",
         "SubscriptionId_3333",
         "CustomerId_33333",
         "AMZ",
         "ProviderId_3",
         "ProductId_13",
         "A",
         "ChannelId_13",
         "200",
         "200",
         "2023-01-03 00:00:00",
         "3",
         "1"
        ],
        [
         "3",
         "TransactionId_4",
         "BatchId_44",
         "AccountId_444",
         "SubscriptionId_4444",
         "CustomerId_44444",
         "AMZ",
         "ProviderId_4",
         "ProductId_14",
         "A",
         "ChannelId_14",
         "-1000",
         "1000",
         "2023-01-04 00:00:00",
         "3",
         "0"
        ],
        [
         "4",
         "TransactionId_5",
         "BatchId_55",
         "AccountId_555",
         "SubscriptionId_5555",
         "CustomerId_55555",
         "AMZ",
         "ProviderId_5",
         "ProductId_15",
         "A",
         "ChannelId_15",
         "18",
         "20",
         "2023-01-05 00:00:00",
         "2",
         "1"
        ]
       ],
       "shape": {
        "columns": 15,
        "rows": 5
       }
      },
      "text/html": [
       "<div>\n",
       "<style scoped>\n",
       "    .dataframe tbody tr th:only-of-type {\n",
       "        vertical-align: middle;\n",
       "    }\n",
       "\n",
       "    .dataframe tbody tr th {\n",
       "        vertical-align: top;\n",
       "    }\n",
       "\n",
       "    .dataframe thead th {\n",
       "        text-align: right;\n",
       "    }\n",
       "</style>\n",
       "<table border=\"1\" class=\"dataframe\">\n",
       "  <thead>\n",
       "    <tr style=\"text-align: right;\">\n",
       "      <th></th>\n",
       "      <th>TransactionId</th>\n",
       "      <th>BatchId</th>\n",
       "      <th>AccountId</th>\n",
       "      <th>SubscriptionId</th>\n",
       "      <th>CustomerId</th>\n",
       "      <th>CountryCode</th>\n",
       "      <th>ProviderId</th>\n",
       "      <th>ProductId</th>\n",
       "      <th>ProductCategory</th>\n",
       "      <th>ChannelId</th>\n",
       "      <th>Amount</th>\n",
       "      <th>Value</th>\n",
       "      <th>TransactionStartTime</th>\n",
       "      <th>PricingStrategy</th>\n",
       "      <th>FraudResult</th>\n",
       "    </tr>\n",
       "  </thead>\n",
       "  <tbody>\n",
       "    <tr>\n",
       "      <th>0</th>\n",
       "      <td>TransactionId_1</td>\n",
       "      <td>BatchId_11</td>\n",
       "      <td>AccountId_111</td>\n",
       "      <td>SubscriptionId_1111</td>\n",
       "      <td>CustomerId_11111</td>\n",
       "      <td>AMZ</td>\n",
       "      <td>ProviderId_1</td>\n",
       "      <td>ProductId_11</td>\n",
       "      <td>A</td>\n",
       "      <td>ChannelId_11</td>\n",
       "      <td>100</td>\n",
       "      <td>100</td>\n",
       "      <td>2023-01-01</td>\n",
       "      <td>1</td>\n",
       "      <td>0</td>\n",
       "    </tr>\n",
       "    <tr>\n",
       "      <th>1</th>\n",
       "      <td>TransactionId_2</td>\n",
       "      <td>BatchId_22</td>\n",
       "      <td>AccountId_222</td>\n",
       "      <td>SubscriptionId_2222</td>\n",
       "      <td>CustomerId_22222</td>\n",
       "      <td>AMZ</td>\n",
       "      <td>ProviderId_2</td>\n",
       "      <td>ProductId_12</td>\n",
       "      <td>A</td>\n",
       "      <td>ChannelId_12</td>\n",
       "      <td>100</td>\n",
       "      <td>100</td>\n",
       "      <td>2023-01-02</td>\n",
       "      <td>2</td>\n",
       "      <td>1</td>\n",
       "    </tr>\n",
       "    <tr>\n",
       "      <th>2</th>\n",
       "      <td>TransactionId_3</td>\n",
       "      <td>BatchId_33</td>\n",
       "      <td>AccountId_333</td>\n",
       "      <td>SubscriptionId_3333</td>\n",
       "      <td>CustomerId_33333</td>\n",
       "      <td>AMZ</td>\n",
       "      <td>ProviderId_3</td>\n",
       "      <td>ProductId_13</td>\n",
       "      <td>A</td>\n",
       "      <td>ChannelId_13</td>\n",
       "      <td>200</td>\n",
       "      <td>200</td>\n",
       "      <td>2023-01-03</td>\n",
       "      <td>3</td>\n",
       "      <td>1</td>\n",
       "    </tr>\n",
       "    <tr>\n",
       "      <th>3</th>\n",
       "      <td>TransactionId_4</td>\n",
       "      <td>BatchId_44</td>\n",
       "      <td>AccountId_444</td>\n",
       "      <td>SubscriptionId_4444</td>\n",
       "      <td>CustomerId_44444</td>\n",
       "      <td>AMZ</td>\n",
       "      <td>ProviderId_4</td>\n",
       "      <td>ProductId_14</td>\n",
       "      <td>A</td>\n",
       "      <td>ChannelId_14</td>\n",
       "      <td>-1000</td>\n",
       "      <td>1000</td>\n",
       "      <td>2023-01-04</td>\n",
       "      <td>3</td>\n",
       "      <td>0</td>\n",
       "    </tr>\n",
       "    <tr>\n",
       "      <th>4</th>\n",
       "      <td>TransactionId_5</td>\n",
       "      <td>BatchId_55</td>\n",
       "      <td>AccountId_555</td>\n",
       "      <td>SubscriptionId_5555</td>\n",
       "      <td>CustomerId_55555</td>\n",
       "      <td>AMZ</td>\n",
       "      <td>ProviderId_5</td>\n",
       "      <td>ProductId_15</td>\n",
       "      <td>A</td>\n",
       "      <td>ChannelId_15</td>\n",
       "      <td>18</td>\n",
       "      <td>20</td>\n",
       "      <td>2023-01-05</td>\n",
       "      <td>2</td>\n",
       "      <td>1</td>\n",
       "    </tr>\n",
       "  </tbody>\n",
       "</table>\n",
       "</div>"
      ],
      "text/plain": [
       "     TransactionId     BatchId      AccountId       SubscriptionId  \\\n",
       "0  TransactionId_1  BatchId_11  AccountId_111  SubscriptionId_1111   \n",
       "1  TransactionId_2  BatchId_22  AccountId_222  SubscriptionId_2222   \n",
       "2  TransactionId_3  BatchId_33  AccountId_333  SubscriptionId_3333   \n",
       "3  TransactionId_4  BatchId_44  AccountId_444  SubscriptionId_4444   \n",
       "4  TransactionId_5  BatchId_55  AccountId_555  SubscriptionId_5555   \n",
       "\n",
       "         CustomerId CountryCode    ProviderId     ProductId ProductCategory  \\\n",
       "0  CustomerId_11111         AMZ  ProviderId_1  ProductId_11               A   \n",
       "1  CustomerId_22222         AMZ  ProviderId_2  ProductId_12               A   \n",
       "2  CustomerId_33333         AMZ  ProviderId_3  ProductId_13               A   \n",
       "3  CustomerId_44444         AMZ  ProviderId_4  ProductId_14               A   \n",
       "4  CustomerId_55555         AMZ  ProviderId_5  ProductId_15               A   \n",
       "\n",
       "      ChannelId  Amount  Value TransactionStartTime  PricingStrategy  \\\n",
       "0  ChannelId_11     100    100           2023-01-01                1   \n",
       "1  ChannelId_12     100    100           2023-01-02                2   \n",
       "2  ChannelId_13     200    200           2023-01-03                3   \n",
       "3  ChannelId_14   -1000   1000           2023-01-04                3   \n",
       "4  ChannelId_15      18     20           2023-01-05                2   \n",
       "\n",
       "   FraudResult  \n",
       "0            0  \n",
       "1            1  \n",
       "2            1  \n",
       "3            0  \n",
       "4            1  "
      ]
     },
     "metadata": {},
     "output_type": "display_data"
    },
    {
     "name": "stdout",
     "output_type": "stream",
     "text": [
      "\n",
      "DataFrame shape:\n"
     ]
    },
    {
     "data": {
      "text/plain": [
       "(10, 15)"
      ]
     },
     "metadata": {},
     "output_type": "display_data"
    },
    {
     "name": "stdout",
     "output_type": "stream",
     "text": [
      "\n",
      "DataFrame columns:\n"
     ]
    },
    {
     "data": {
      "text/plain": [
       "Index(['TransactionId', 'BatchId', 'AccountId', 'SubscriptionId', 'CustomerId',\n",
       "       'CountryCode', 'ProviderId', 'ProductId', 'ProductCategory',\n",
       "       'ChannelId', 'Amount', 'Value', 'TransactionStartTime',\n",
       "       'PricingStrategy', 'FraudResult'],\n",
       "      dtype='object')"
      ]
     },
     "metadata": {},
     "output_type": "display_data"
    },
    {
     "name": "stderr",
     "output_type": "stream",
     "text": [
      "ok\n",
      "test_remove_outliers_iqr_zscore (__main__.TestEDA.test_remove_outliers_iqr_zscore)\n",
      "Test the remove_outliers_iqr_zscore method. ... "
     ]
    },
    {
     "name": "stdout",
     "output_type": "stream",
     "text": [
      "\n",
      "DataFrame summary:\n",
      "<class 'pandas.core.frame.DataFrame'>\n",
      "RangeIndex: 10 entries, 0 to 9\n",
      "Data columns (total 15 columns):\n",
      " #   Column                Non-Null Count  Dtype         \n",
      "---  ------                --------------  -----         \n",
      " 0   TransactionId         10 non-null     object        \n",
      " 1   BatchId               10 non-null     object        \n",
      " 2   AccountId             10 non-null     object        \n",
      " 3   SubscriptionId        10 non-null     object        \n",
      " 4   CustomerId            10 non-null     object        \n",
      " 5   CountryCode           10 non-null     object        \n",
      " 6   ProviderId            10 non-null     object        \n",
      " 7   ProductId             10 non-null     object        \n",
      " 8   ProductCategory       10 non-null     object        \n",
      " 9   ChannelId             10 non-null     object        \n",
      " 10  Amount                10 non-null     int64         \n",
      " 11  Value                 10 non-null     int64         \n",
      " 12  TransactionStartTime  10 non-null     datetime64[ns]\n",
      " 13  PricingStrategy       10 non-null     int64         \n",
      " 14  FraudResult           10 non-null     int64         \n",
      "dtypes: datetime64[ns](1), int64(4), object(10)\n",
      "memory usage: 1.3+ KB\n",
      "There are no columns with missing values\n",
      "DataFrame loaded successfully from test_data.csv\n",
      "\n",
      "DataFrame head:\n"
     ]
    },
    {
     "data": {
      "application/vnd.microsoft.datawrangler.viewer.v0+json": {
       "columns": [
        {
         "name": "index",
         "rawType": "int64",
         "type": "integer"
        },
        {
         "name": "TransactionId",
         "rawType": "object",
         "type": "string"
        },
        {
         "name": "BatchId",
         "rawType": "object",
         "type": "string"
        },
        {
         "name": "AccountId",
         "rawType": "object",
         "type": "string"
        },
        {
         "name": "SubscriptionId",
         "rawType": "object",
         "type": "string"
        },
        {
         "name": "CustomerId",
         "rawType": "object",
         "type": "string"
        },
        {
         "name": "CountryCode",
         "rawType": "object",
         "type": "string"
        },
        {
         "name": "ProviderId",
         "rawType": "object",
         "type": "string"
        },
        {
         "name": "ProductId",
         "rawType": "object",
         "type": "string"
        },
        {
         "name": "ProductCategory",
         "rawType": "object",
         "type": "string"
        },
        {
         "name": "ChannelId",
         "rawType": "object",
         "type": "string"
        },
        {
         "name": "Amount",
         "rawType": "int64",
         "type": "integer"
        },
        {
         "name": "Value",
         "rawType": "int64",
         "type": "integer"
        },
        {
         "name": "TransactionStartTime",
         "rawType": "datetime64[ns]",
         "type": "datetime"
        },
        {
         "name": "PricingStrategy",
         "rawType": "int64",
         "type": "integer"
        },
        {
         "name": "FraudResult",
         "rawType": "int64",
         "type": "integer"
        }
       ],
       "ref": "d0b285fb-ab61-44fe-8a8d-26f6eae8177f",
       "rows": [
        [
         "0",
         "TransactionId_1",
         "BatchId_11",
         "AccountId_111",
         "SubscriptionId_1111",
         "CustomerId_11111",
         "AMZ",
         "ProviderId_1",
         "ProductId_11",
         "A",
         "ChannelId_11",
         "100",
         "100",
         "2023-01-01 00:00:00",
         "1",
         "0"
        ],
        [
         "1",
         "TransactionId_2",
         "BatchId_22",
         "AccountId_222",
         "SubscriptionId_2222",
         "CustomerId_22222",
         "AMZ",
         "ProviderId_2",
         "ProductId_12",
         "A",
         "ChannelId_12",
         "100",
         "100",
         "2023-01-02 00:00:00",
         "2",
         "1"
        ],
        [
         "2",
         "TransactionId_3",
         "BatchId_33",
         "AccountId_333",
         "SubscriptionId_3333",
         "CustomerId_33333",
         "AMZ",
         "ProviderId_3",
         "ProductId_13",
         "A",
         "ChannelId_13",
         "200",
         "200",
         "2023-01-03 00:00:00",
         "3",
         "1"
        ],
        [
         "3",
         "TransactionId_4",
         "BatchId_44",
         "AccountId_444",
         "SubscriptionId_4444",
         "CustomerId_44444",
         "AMZ",
         "ProviderId_4",
         "ProductId_14",
         "A",
         "ChannelId_14",
         "-1000",
         "1000",
         "2023-01-04 00:00:00",
         "3",
         "0"
        ],
        [
         "4",
         "TransactionId_5",
         "BatchId_55",
         "AccountId_555",
         "SubscriptionId_5555",
         "CustomerId_55555",
         "AMZ",
         "ProviderId_5",
         "ProductId_15",
         "A",
         "ChannelId_15",
         "18",
         "20",
         "2023-01-05 00:00:00",
         "2",
         "1"
        ]
       ],
       "shape": {
        "columns": 15,
        "rows": 5
       }
      },
      "text/html": [
       "<div>\n",
       "<style scoped>\n",
       "    .dataframe tbody tr th:only-of-type {\n",
       "        vertical-align: middle;\n",
       "    }\n",
       "\n",
       "    .dataframe tbody tr th {\n",
       "        vertical-align: top;\n",
       "    }\n",
       "\n",
       "    .dataframe thead th {\n",
       "        text-align: right;\n",
       "    }\n",
       "</style>\n",
       "<table border=\"1\" class=\"dataframe\">\n",
       "  <thead>\n",
       "    <tr style=\"text-align: right;\">\n",
       "      <th></th>\n",
       "      <th>TransactionId</th>\n",
       "      <th>BatchId</th>\n",
       "      <th>AccountId</th>\n",
       "      <th>SubscriptionId</th>\n",
       "      <th>CustomerId</th>\n",
       "      <th>CountryCode</th>\n",
       "      <th>ProviderId</th>\n",
       "      <th>ProductId</th>\n",
       "      <th>ProductCategory</th>\n",
       "      <th>ChannelId</th>\n",
       "      <th>Amount</th>\n",
       "      <th>Value</th>\n",
       "      <th>TransactionStartTime</th>\n",
       "      <th>PricingStrategy</th>\n",
       "      <th>FraudResult</th>\n",
       "    </tr>\n",
       "  </thead>\n",
       "  <tbody>\n",
       "    <tr>\n",
       "      <th>0</th>\n",
       "      <td>TransactionId_1</td>\n",
       "      <td>BatchId_11</td>\n",
       "      <td>AccountId_111</td>\n",
       "      <td>SubscriptionId_1111</td>\n",
       "      <td>CustomerId_11111</td>\n",
       "      <td>AMZ</td>\n",
       "      <td>ProviderId_1</td>\n",
       "      <td>ProductId_11</td>\n",
       "      <td>A</td>\n",
       "      <td>ChannelId_11</td>\n",
       "      <td>100</td>\n",
       "      <td>100</td>\n",
       "      <td>2023-01-01</td>\n",
       "      <td>1</td>\n",
       "      <td>0</td>\n",
       "    </tr>\n",
       "    <tr>\n",
       "      <th>1</th>\n",
       "      <td>TransactionId_2</td>\n",
       "      <td>BatchId_22</td>\n",
       "      <td>AccountId_222</td>\n",
       "      <td>SubscriptionId_2222</td>\n",
       "      <td>CustomerId_22222</td>\n",
       "      <td>AMZ</td>\n",
       "      <td>ProviderId_2</td>\n",
       "      <td>ProductId_12</td>\n",
       "      <td>A</td>\n",
       "      <td>ChannelId_12</td>\n",
       "      <td>100</td>\n",
       "      <td>100</td>\n",
       "      <td>2023-01-02</td>\n",
       "      <td>2</td>\n",
       "      <td>1</td>\n",
       "    </tr>\n",
       "    <tr>\n",
       "      <th>2</th>\n",
       "      <td>TransactionId_3</td>\n",
       "      <td>BatchId_33</td>\n",
       "      <td>AccountId_333</td>\n",
       "      <td>SubscriptionId_3333</td>\n",
       "      <td>CustomerId_33333</td>\n",
       "      <td>AMZ</td>\n",
       "      <td>ProviderId_3</td>\n",
       "      <td>ProductId_13</td>\n",
       "      <td>A</td>\n",
       "      <td>ChannelId_13</td>\n",
       "      <td>200</td>\n",
       "      <td>200</td>\n",
       "      <td>2023-01-03</td>\n",
       "      <td>3</td>\n",
       "      <td>1</td>\n",
       "    </tr>\n",
       "    <tr>\n",
       "      <th>3</th>\n",
       "      <td>TransactionId_4</td>\n",
       "      <td>BatchId_44</td>\n",
       "      <td>AccountId_444</td>\n",
       "      <td>SubscriptionId_4444</td>\n",
       "      <td>CustomerId_44444</td>\n",
       "      <td>AMZ</td>\n",
       "      <td>ProviderId_4</td>\n",
       "      <td>ProductId_14</td>\n",
       "      <td>A</td>\n",
       "      <td>ChannelId_14</td>\n",
       "      <td>-1000</td>\n",
       "      <td>1000</td>\n",
       "      <td>2023-01-04</td>\n",
       "      <td>3</td>\n",
       "      <td>0</td>\n",
       "    </tr>\n",
       "    <tr>\n",
       "      <th>4</th>\n",
       "      <td>TransactionId_5</td>\n",
       "      <td>BatchId_55</td>\n",
       "      <td>AccountId_555</td>\n",
       "      <td>SubscriptionId_5555</td>\n",
       "      <td>CustomerId_55555</td>\n",
       "      <td>AMZ</td>\n",
       "      <td>ProviderId_5</td>\n",
       "      <td>ProductId_15</td>\n",
       "      <td>A</td>\n",
       "      <td>ChannelId_15</td>\n",
       "      <td>18</td>\n",
       "      <td>20</td>\n",
       "      <td>2023-01-05</td>\n",
       "      <td>2</td>\n",
       "      <td>1</td>\n",
       "    </tr>\n",
       "  </tbody>\n",
       "</table>\n",
       "</div>"
      ],
      "text/plain": [
       "     TransactionId     BatchId      AccountId       SubscriptionId  \\\n",
       "0  TransactionId_1  BatchId_11  AccountId_111  SubscriptionId_1111   \n",
       "1  TransactionId_2  BatchId_22  AccountId_222  SubscriptionId_2222   \n",
       "2  TransactionId_3  BatchId_33  AccountId_333  SubscriptionId_3333   \n",
       "3  TransactionId_4  BatchId_44  AccountId_444  SubscriptionId_4444   \n",
       "4  TransactionId_5  BatchId_55  AccountId_555  SubscriptionId_5555   \n",
       "\n",
       "         CustomerId CountryCode    ProviderId     ProductId ProductCategory  \\\n",
       "0  CustomerId_11111         AMZ  ProviderId_1  ProductId_11               A   \n",
       "1  CustomerId_22222         AMZ  ProviderId_2  ProductId_12               A   \n",
       "2  CustomerId_33333         AMZ  ProviderId_3  ProductId_13               A   \n",
       "3  CustomerId_44444         AMZ  ProviderId_4  ProductId_14               A   \n",
       "4  CustomerId_55555         AMZ  ProviderId_5  ProductId_15               A   \n",
       "\n",
       "      ChannelId  Amount  Value TransactionStartTime  PricingStrategy  \\\n",
       "0  ChannelId_11     100    100           2023-01-01                1   \n",
       "1  ChannelId_12     100    100           2023-01-02                2   \n",
       "2  ChannelId_13     200    200           2023-01-03                3   \n",
       "3  ChannelId_14   -1000   1000           2023-01-04                3   \n",
       "4  ChannelId_15      18     20           2023-01-05                2   \n",
       "\n",
       "   FraudResult  \n",
       "0            0  \n",
       "1            1  \n",
       "2            1  \n",
       "3            0  \n",
       "4            1  "
      ]
     },
     "metadata": {},
     "output_type": "display_data"
    },
    {
     "name": "stdout",
     "output_type": "stream",
     "text": [
      "\n",
      "DataFrame shape:\n"
     ]
    },
    {
     "data": {
      "text/plain": [
       "(10, 15)"
      ]
     },
     "metadata": {},
     "output_type": "display_data"
    },
    {
     "name": "stdout",
     "output_type": "stream",
     "text": [
      "\n",
      "DataFrame columns:\n"
     ]
    },
    {
     "data": {
      "text/plain": [
       "Index(['TransactionId', 'BatchId', 'AccountId', 'SubscriptionId', 'CustomerId',\n",
       "       'CountryCode', 'ProviderId', 'ProductId', 'ProductCategory',\n",
       "       'ChannelId', 'Amount', 'Value', 'TransactionStartTime',\n",
       "       'PricingStrategy', 'FraudResult'],\n",
       "      dtype='object')"
      ]
     },
     "metadata": {},
     "output_type": "display_data"
    },
    {
     "name": "stderr",
     "output_type": "stream",
     "text": [
      "ok\n",
      "test_save_df (__main__.TestEDA.test_save_df)\n",
      "Test the save_df method. ... "
     ]
    },
    {
     "name": "stdout",
     "output_type": "stream",
     "text": [
      "\n",
      "DataFrame summary:\n",
      "<class 'pandas.core.frame.DataFrame'>\n",
      "RangeIndex: 10 entries, 0 to 9\n",
      "Data columns (total 15 columns):\n",
      " #   Column                Non-Null Count  Dtype         \n",
      "---  ------                --------------  -----         \n",
      " 0   TransactionId         10 non-null     object        \n",
      " 1   BatchId               10 non-null     object        \n",
      " 2   AccountId             10 non-null     object        \n",
      " 3   SubscriptionId        10 non-null     object        \n",
      " 4   CustomerId            10 non-null     object        \n",
      " 5   CountryCode           10 non-null     object        \n",
      " 6   ProviderId            10 non-null     object        \n",
      " 7   ProductId             10 non-null     object        \n",
      " 8   ProductCategory       10 non-null     object        \n",
      " 9   ChannelId             10 non-null     object        \n",
      " 10  Amount                10 non-null     int64         \n",
      " 11  Value                 10 non-null     int64         \n",
      " 12  TransactionStartTime  10 non-null     datetime64[ns]\n",
      " 13  PricingStrategy       10 non-null     int64         \n",
      " 14  FraudResult           10 non-null     int64         \n",
      "dtypes: datetime64[ns](1), int64(4), object(10)\n",
      "memory usage: 1.3+ KB\n",
      "There are no columns with missing values\n",
      "DataFrame loaded successfully from test_data.csv\n",
      "\n",
      "DataFrame head:\n"
     ]
    },
    {
     "data": {
      "application/vnd.microsoft.datawrangler.viewer.v0+json": {
       "columns": [
        {
         "name": "index",
         "rawType": "int64",
         "type": "integer"
        },
        {
         "name": "TransactionId",
         "rawType": "object",
         "type": "string"
        },
        {
         "name": "BatchId",
         "rawType": "object",
         "type": "string"
        },
        {
         "name": "AccountId",
         "rawType": "object",
         "type": "string"
        },
        {
         "name": "SubscriptionId",
         "rawType": "object",
         "type": "string"
        },
        {
         "name": "CustomerId",
         "rawType": "object",
         "type": "string"
        },
        {
         "name": "CountryCode",
         "rawType": "object",
         "type": "string"
        },
        {
         "name": "ProviderId",
         "rawType": "object",
         "type": "string"
        },
        {
         "name": "ProductId",
         "rawType": "object",
         "type": "string"
        },
        {
         "name": "ProductCategory",
         "rawType": "object",
         "type": "string"
        },
        {
         "name": "ChannelId",
         "rawType": "object",
         "type": "string"
        },
        {
         "name": "Amount",
         "rawType": "int64",
         "type": "integer"
        },
        {
         "name": "Value",
         "rawType": "int64",
         "type": "integer"
        },
        {
         "name": "TransactionStartTime",
         "rawType": "datetime64[ns]",
         "type": "datetime"
        },
        {
         "name": "PricingStrategy",
         "rawType": "int64",
         "type": "integer"
        },
        {
         "name": "FraudResult",
         "rawType": "int64",
         "type": "integer"
        }
       ],
       "ref": "8cc86222-c488-4975-aac3-97b33aaeaefa",
       "rows": [
        [
         "0",
         "TransactionId_1",
         "BatchId_11",
         "AccountId_111",
         "SubscriptionId_1111",
         "CustomerId_11111",
         "AMZ",
         "ProviderId_1",
         "ProductId_11",
         "A",
         "ChannelId_11",
         "100",
         "100",
         "2023-01-01 00:00:00",
         "1",
         "0"
        ],
        [
         "1",
         "TransactionId_2",
         "BatchId_22",
         "AccountId_222",
         "SubscriptionId_2222",
         "CustomerId_22222",
         "AMZ",
         "ProviderId_2",
         "ProductId_12",
         "A",
         "ChannelId_12",
         "100",
         "100",
         "2023-01-02 00:00:00",
         "2",
         "1"
        ],
        [
         "2",
         "TransactionId_3",
         "BatchId_33",
         "AccountId_333",
         "SubscriptionId_3333",
         "CustomerId_33333",
         "AMZ",
         "ProviderId_3",
         "ProductId_13",
         "A",
         "ChannelId_13",
         "200",
         "200",
         "2023-01-03 00:00:00",
         "3",
         "1"
        ],
        [
         "3",
         "TransactionId_4",
         "BatchId_44",
         "AccountId_444",
         "SubscriptionId_4444",
         "CustomerId_44444",
         "AMZ",
         "ProviderId_4",
         "ProductId_14",
         "A",
         "ChannelId_14",
         "-1000",
         "1000",
         "2023-01-04 00:00:00",
         "3",
         "0"
        ],
        [
         "4",
         "TransactionId_5",
         "BatchId_55",
         "AccountId_555",
         "SubscriptionId_5555",
         "CustomerId_55555",
         "AMZ",
         "ProviderId_5",
         "ProductId_15",
         "A",
         "ChannelId_15",
         "18",
         "20",
         "2023-01-05 00:00:00",
         "2",
         "1"
        ]
       ],
       "shape": {
        "columns": 15,
        "rows": 5
       }
      },
      "text/html": [
       "<div>\n",
       "<style scoped>\n",
       "    .dataframe tbody tr th:only-of-type {\n",
       "        vertical-align: middle;\n",
       "    }\n",
       "\n",
       "    .dataframe tbody tr th {\n",
       "        vertical-align: top;\n",
       "    }\n",
       "\n",
       "    .dataframe thead th {\n",
       "        text-align: right;\n",
       "    }\n",
       "</style>\n",
       "<table border=\"1\" class=\"dataframe\">\n",
       "  <thead>\n",
       "    <tr style=\"text-align: right;\">\n",
       "      <th></th>\n",
       "      <th>TransactionId</th>\n",
       "      <th>BatchId</th>\n",
       "      <th>AccountId</th>\n",
       "      <th>SubscriptionId</th>\n",
       "      <th>CustomerId</th>\n",
       "      <th>CountryCode</th>\n",
       "      <th>ProviderId</th>\n",
       "      <th>ProductId</th>\n",
       "      <th>ProductCategory</th>\n",
       "      <th>ChannelId</th>\n",
       "      <th>Amount</th>\n",
       "      <th>Value</th>\n",
       "      <th>TransactionStartTime</th>\n",
       "      <th>PricingStrategy</th>\n",
       "      <th>FraudResult</th>\n",
       "    </tr>\n",
       "  </thead>\n",
       "  <tbody>\n",
       "    <tr>\n",
       "      <th>0</th>\n",
       "      <td>TransactionId_1</td>\n",
       "      <td>BatchId_11</td>\n",
       "      <td>AccountId_111</td>\n",
       "      <td>SubscriptionId_1111</td>\n",
       "      <td>CustomerId_11111</td>\n",
       "      <td>AMZ</td>\n",
       "      <td>ProviderId_1</td>\n",
       "      <td>ProductId_11</td>\n",
       "      <td>A</td>\n",
       "      <td>ChannelId_11</td>\n",
       "      <td>100</td>\n",
       "      <td>100</td>\n",
       "      <td>2023-01-01</td>\n",
       "      <td>1</td>\n",
       "      <td>0</td>\n",
       "    </tr>\n",
       "    <tr>\n",
       "      <th>1</th>\n",
       "      <td>TransactionId_2</td>\n",
       "      <td>BatchId_22</td>\n",
       "      <td>AccountId_222</td>\n",
       "      <td>SubscriptionId_2222</td>\n",
       "      <td>CustomerId_22222</td>\n",
       "      <td>AMZ</td>\n",
       "      <td>ProviderId_2</td>\n",
       "      <td>ProductId_12</td>\n",
       "      <td>A</td>\n",
       "      <td>ChannelId_12</td>\n",
       "      <td>100</td>\n",
       "      <td>100</td>\n",
       "      <td>2023-01-02</td>\n",
       "      <td>2</td>\n",
       "      <td>1</td>\n",
       "    </tr>\n",
       "    <tr>\n",
       "      <th>2</th>\n",
       "      <td>TransactionId_3</td>\n",
       "      <td>BatchId_33</td>\n",
       "      <td>AccountId_333</td>\n",
       "      <td>SubscriptionId_3333</td>\n",
       "      <td>CustomerId_33333</td>\n",
       "      <td>AMZ</td>\n",
       "      <td>ProviderId_3</td>\n",
       "      <td>ProductId_13</td>\n",
       "      <td>A</td>\n",
       "      <td>ChannelId_13</td>\n",
       "      <td>200</td>\n",
       "      <td>200</td>\n",
       "      <td>2023-01-03</td>\n",
       "      <td>3</td>\n",
       "      <td>1</td>\n",
       "    </tr>\n",
       "    <tr>\n",
       "      <th>3</th>\n",
       "      <td>TransactionId_4</td>\n",
       "      <td>BatchId_44</td>\n",
       "      <td>AccountId_444</td>\n",
       "      <td>SubscriptionId_4444</td>\n",
       "      <td>CustomerId_44444</td>\n",
       "      <td>AMZ</td>\n",
       "      <td>ProviderId_4</td>\n",
       "      <td>ProductId_14</td>\n",
       "      <td>A</td>\n",
       "      <td>ChannelId_14</td>\n",
       "      <td>-1000</td>\n",
       "      <td>1000</td>\n",
       "      <td>2023-01-04</td>\n",
       "      <td>3</td>\n",
       "      <td>0</td>\n",
       "    </tr>\n",
       "    <tr>\n",
       "      <th>4</th>\n",
       "      <td>TransactionId_5</td>\n",
       "      <td>BatchId_55</td>\n",
       "      <td>AccountId_555</td>\n",
       "      <td>SubscriptionId_5555</td>\n",
       "      <td>CustomerId_55555</td>\n",
       "      <td>AMZ</td>\n",
       "      <td>ProviderId_5</td>\n",
       "      <td>ProductId_15</td>\n",
       "      <td>A</td>\n",
       "      <td>ChannelId_15</td>\n",
       "      <td>18</td>\n",
       "      <td>20</td>\n",
       "      <td>2023-01-05</td>\n",
       "      <td>2</td>\n",
       "      <td>1</td>\n",
       "    </tr>\n",
       "  </tbody>\n",
       "</table>\n",
       "</div>"
      ],
      "text/plain": [
       "     TransactionId     BatchId      AccountId       SubscriptionId  \\\n",
       "0  TransactionId_1  BatchId_11  AccountId_111  SubscriptionId_1111   \n",
       "1  TransactionId_2  BatchId_22  AccountId_222  SubscriptionId_2222   \n",
       "2  TransactionId_3  BatchId_33  AccountId_333  SubscriptionId_3333   \n",
       "3  TransactionId_4  BatchId_44  AccountId_444  SubscriptionId_4444   \n",
       "4  TransactionId_5  BatchId_55  AccountId_555  SubscriptionId_5555   \n",
       "\n",
       "         CustomerId CountryCode    ProviderId     ProductId ProductCategory  \\\n",
       "0  CustomerId_11111         AMZ  ProviderId_1  ProductId_11               A   \n",
       "1  CustomerId_22222         AMZ  ProviderId_2  ProductId_12               A   \n",
       "2  CustomerId_33333         AMZ  ProviderId_3  ProductId_13               A   \n",
       "3  CustomerId_44444         AMZ  ProviderId_4  ProductId_14               A   \n",
       "4  CustomerId_55555         AMZ  ProviderId_5  ProductId_15               A   \n",
       "\n",
       "      ChannelId  Amount  Value TransactionStartTime  PricingStrategy  \\\n",
       "0  ChannelId_11     100    100           2023-01-01                1   \n",
       "1  ChannelId_12     100    100           2023-01-02                2   \n",
       "2  ChannelId_13     200    200           2023-01-03                3   \n",
       "3  ChannelId_14   -1000   1000           2023-01-04                3   \n",
       "4  ChannelId_15      18     20           2023-01-05                2   \n",
       "\n",
       "   FraudResult  \n",
       "0            0  \n",
       "1            1  \n",
       "2            1  \n",
       "3            0  \n",
       "4            1  "
      ]
     },
     "metadata": {},
     "output_type": "display_data"
    },
    {
     "name": "stdout",
     "output_type": "stream",
     "text": [
      "\n",
      "DataFrame shape:\n"
     ]
    },
    {
     "data": {
      "text/plain": [
       "(10, 15)"
      ]
     },
     "metadata": {},
     "output_type": "display_data"
    },
    {
     "name": "stdout",
     "output_type": "stream",
     "text": [
      "\n",
      "DataFrame columns:\n"
     ]
    },
    {
     "data": {
      "text/plain": [
       "Index(['TransactionId', 'BatchId', 'AccountId', 'SubscriptionId', 'CustomerId',\n",
       "       'CountryCode', 'ProviderId', 'ProductId', 'ProductCategory',\n",
       "       'ChannelId', 'Amount', 'Value', 'TransactionStartTime',\n",
       "       'PricingStrategy', 'FraudResult'],\n",
       "      dtype='object')"
      ]
     },
     "metadata": {},
     "output_type": "display_data"
    },
    {
     "name": "stdout",
     "output_type": "stream",
     "text": [
      "\n",
      "DataFrame summary:\n",
      "<class 'pandas.core.frame.DataFrame'>\n",
      "RangeIndex: 10 entries, 0 to 9\n",
      "Data columns (total 15 columns):\n",
      " #   Column                Non-Null Count  Dtype         \n",
      "---  ------                --------------  -----         \n",
      " 0   TransactionId         10 non-null     object        \n",
      " 1   BatchId               10 non-null     object        \n",
      " 2   AccountId             10 non-null     object        \n",
      " 3   SubscriptionId        10 non-null     object        \n",
      " 4   CustomerId            10 non-null     object        \n",
      " 5   CountryCode           10 non-null     object        \n",
      " 6   ProviderId            10 non-null     object        \n",
      " 7   ProductId             10 non-null     object        \n",
      " 8   ProductCategory       10 non-null     object        \n",
      " 9   ChannelId             10 non-null     object        \n",
      " 10  Amount                10 non-null     int64         \n",
      " 11  Value                 10 non-null     int64         \n",
      " 12  TransactionStartTime  10 non-null     datetime64[ns]\n",
      " 13  PricingStrategy       10 non-null     int64         \n",
      " 14  FraudResult           10 non-null     int64         \n",
      "dtypes: datetime64[ns](1), int64(4), object(10)\n",
      "memory usage: 1.3+ KB\n",
      "There are no columns with missing values\n",
      "\n",
      "Processed DataFrame saved to: test_processed_data\\processed_test_data.csv\n",
      "\n",
      "DataFrame Head:\n"
     ]
    },
    {
     "data": {
      "application/vnd.microsoft.datawrangler.viewer.v0+json": {
       "columns": [
        {
         "name": "index",
         "rawType": "int64",
         "type": "integer"
        },
        {
         "name": "TransactionId",
         "rawType": "object",
         "type": "string"
        },
        {
         "name": "BatchId",
         "rawType": "object",
         "type": "string"
        },
        {
         "name": "AccountId",
         "rawType": "object",
         "type": "string"
        },
        {
         "name": "SubscriptionId",
         "rawType": "object",
         "type": "string"
        },
        {
         "name": "CustomerId",
         "rawType": "object",
         "type": "string"
        },
        {
         "name": "CountryCode",
         "rawType": "object",
         "type": "string"
        },
        {
         "name": "ProviderId",
         "rawType": "object",
         "type": "string"
        },
        {
         "name": "ProductId",
         "rawType": "object",
         "type": "string"
        },
        {
         "name": "ProductCategory",
         "rawType": "object",
         "type": "string"
        },
        {
         "name": "ChannelId",
         "rawType": "object",
         "type": "string"
        },
        {
         "name": "Amount",
         "rawType": "int64",
         "type": "integer"
        },
        {
         "name": "Value",
         "rawType": "int64",
         "type": "integer"
        },
        {
         "name": "TransactionStartTime",
         "rawType": "datetime64[ns]",
         "type": "datetime"
        },
        {
         "name": "PricingStrategy",
         "rawType": "int64",
         "type": "integer"
        },
        {
         "name": "FraudResult",
         "rawType": "int64",
         "type": "integer"
        }
       ],
       "ref": "9a1ea77c-8a71-4977-a8b5-262b0e48e71a",
       "rows": [
        [
         "0",
         "TransactionId_1",
         "BatchId_11",
         "AccountId_111",
         "SubscriptionId_1111",
         "CustomerId_11111",
         "AMZ",
         "ProviderId_1",
         "ProductId_11",
         "A",
         "ChannelId_11",
         "100",
         "100",
         "2023-01-01 00:00:00",
         "1",
         "0"
        ],
        [
         "1",
         "TransactionId_2",
         "BatchId_22",
         "AccountId_222",
         "SubscriptionId_2222",
         "CustomerId_22222",
         "AMZ",
         "ProviderId_2",
         "ProductId_12",
         "A",
         "ChannelId_12",
         "100",
         "100",
         "2023-01-02 00:00:00",
         "2",
         "1"
        ],
        [
         "2",
         "TransactionId_3",
         "BatchId_33",
         "AccountId_333",
         "SubscriptionId_3333",
         "CustomerId_33333",
         "AMZ",
         "ProviderId_3",
         "ProductId_13",
         "A",
         "ChannelId_13",
         "200",
         "200",
         "2023-01-03 00:00:00",
         "3",
         "1"
        ],
        [
         "4",
         "TransactionId_5",
         "BatchId_55",
         "AccountId_555",
         "SubscriptionId_5555",
         "CustomerId_55555",
         "AMZ",
         "ProviderId_5",
         "ProductId_15",
         "A",
         "ChannelId_15",
         "18",
         "20",
         "2023-01-05 00:00:00",
         "2",
         "1"
        ],
        [
         "5",
         "TransactionId_6",
         "BatchId_66",
         "AccountId_666",
         "SubscriptionId_6666",
         "CustomerId_66666",
         "AMZ",
         "ProviderId_1",
         "ProductId_11",
         "A",
         "ChannelId_11",
         "0",
         "0",
         "2023-01-06 00:00:00",
         "1",
         "0"
        ]
       ],
       "shape": {
        "columns": 15,
        "rows": 5
       }
      },
      "text/html": [
       "<div>\n",
       "<style scoped>\n",
       "    .dataframe tbody tr th:only-of-type {\n",
       "        vertical-align: middle;\n",
       "    }\n",
       "\n",
       "    .dataframe tbody tr th {\n",
       "        vertical-align: top;\n",
       "    }\n",
       "\n",
       "    .dataframe thead th {\n",
       "        text-align: right;\n",
       "    }\n",
       "</style>\n",
       "<table border=\"1\" class=\"dataframe\">\n",
       "  <thead>\n",
       "    <tr style=\"text-align: right;\">\n",
       "      <th></th>\n",
       "      <th>TransactionId</th>\n",
       "      <th>BatchId</th>\n",
       "      <th>AccountId</th>\n",
       "      <th>SubscriptionId</th>\n",
       "      <th>CustomerId</th>\n",
       "      <th>CountryCode</th>\n",
       "      <th>ProviderId</th>\n",
       "      <th>ProductId</th>\n",
       "      <th>ProductCategory</th>\n",
       "      <th>ChannelId</th>\n",
       "      <th>Amount</th>\n",
       "      <th>Value</th>\n",
       "      <th>TransactionStartTime</th>\n",
       "      <th>PricingStrategy</th>\n",
       "      <th>FraudResult</th>\n",
       "    </tr>\n",
       "  </thead>\n",
       "  <tbody>\n",
       "    <tr>\n",
       "      <th>0</th>\n",
       "      <td>TransactionId_1</td>\n",
       "      <td>BatchId_11</td>\n",
       "      <td>AccountId_111</td>\n",
       "      <td>SubscriptionId_1111</td>\n",
       "      <td>CustomerId_11111</td>\n",
       "      <td>AMZ</td>\n",
       "      <td>ProviderId_1</td>\n",
       "      <td>ProductId_11</td>\n",
       "      <td>A</td>\n",
       "      <td>ChannelId_11</td>\n",
       "      <td>100</td>\n",
       "      <td>100</td>\n",
       "      <td>2023-01-01</td>\n",
       "      <td>1</td>\n",
       "      <td>0</td>\n",
       "    </tr>\n",
       "    <tr>\n",
       "      <th>1</th>\n",
       "      <td>TransactionId_2</td>\n",
       "      <td>BatchId_22</td>\n",
       "      <td>AccountId_222</td>\n",
       "      <td>SubscriptionId_2222</td>\n",
       "      <td>CustomerId_22222</td>\n",
       "      <td>AMZ</td>\n",
       "      <td>ProviderId_2</td>\n",
       "      <td>ProductId_12</td>\n",
       "      <td>A</td>\n",
       "      <td>ChannelId_12</td>\n",
       "      <td>100</td>\n",
       "      <td>100</td>\n",
       "      <td>2023-01-02</td>\n",
       "      <td>2</td>\n",
       "      <td>1</td>\n",
       "    </tr>\n",
       "    <tr>\n",
       "      <th>2</th>\n",
       "      <td>TransactionId_3</td>\n",
       "      <td>BatchId_33</td>\n",
       "      <td>AccountId_333</td>\n",
       "      <td>SubscriptionId_3333</td>\n",
       "      <td>CustomerId_33333</td>\n",
       "      <td>AMZ</td>\n",
       "      <td>ProviderId_3</td>\n",
       "      <td>ProductId_13</td>\n",
       "      <td>A</td>\n",
       "      <td>ChannelId_13</td>\n",
       "      <td>200</td>\n",
       "      <td>200</td>\n",
       "      <td>2023-01-03</td>\n",
       "      <td>3</td>\n",
       "      <td>1</td>\n",
       "    </tr>\n",
       "    <tr>\n",
       "      <th>4</th>\n",
       "      <td>TransactionId_5</td>\n",
       "      <td>BatchId_55</td>\n",
       "      <td>AccountId_555</td>\n",
       "      <td>SubscriptionId_5555</td>\n",
       "      <td>CustomerId_55555</td>\n",
       "      <td>AMZ</td>\n",
       "      <td>ProviderId_5</td>\n",
       "      <td>ProductId_15</td>\n",
       "      <td>A</td>\n",
       "      <td>ChannelId_15</td>\n",
       "      <td>18</td>\n",
       "      <td>20</td>\n",
       "      <td>2023-01-05</td>\n",
       "      <td>2</td>\n",
       "      <td>1</td>\n",
       "    </tr>\n",
       "    <tr>\n",
       "      <th>5</th>\n",
       "      <td>TransactionId_6</td>\n",
       "      <td>BatchId_66</td>\n",
       "      <td>AccountId_666</td>\n",
       "      <td>SubscriptionId_6666</td>\n",
       "      <td>CustomerId_66666</td>\n",
       "      <td>AMZ</td>\n",
       "      <td>ProviderId_1</td>\n",
       "      <td>ProductId_11</td>\n",
       "      <td>A</td>\n",
       "      <td>ChannelId_11</td>\n",
       "      <td>0</td>\n",
       "      <td>0</td>\n",
       "      <td>2023-01-06</td>\n",
       "      <td>1</td>\n",
       "      <td>0</td>\n",
       "    </tr>\n",
       "  </tbody>\n",
       "</table>\n",
       "</div>"
      ],
      "text/plain": [
       "     TransactionId     BatchId      AccountId       SubscriptionId  \\\n",
       "0  TransactionId_1  BatchId_11  AccountId_111  SubscriptionId_1111   \n",
       "1  TransactionId_2  BatchId_22  AccountId_222  SubscriptionId_2222   \n",
       "2  TransactionId_3  BatchId_33  AccountId_333  SubscriptionId_3333   \n",
       "4  TransactionId_5  BatchId_55  AccountId_555  SubscriptionId_5555   \n",
       "5  TransactionId_6  BatchId_66  AccountId_666  SubscriptionId_6666   \n",
       "\n",
       "         CustomerId CountryCode    ProviderId     ProductId ProductCategory  \\\n",
       "0  CustomerId_11111         AMZ  ProviderId_1  ProductId_11               A   \n",
       "1  CustomerId_22222         AMZ  ProviderId_2  ProductId_12               A   \n",
       "2  CustomerId_33333         AMZ  ProviderId_3  ProductId_13               A   \n",
       "4  CustomerId_55555         AMZ  ProviderId_5  ProductId_15               A   \n",
       "5  CustomerId_66666         AMZ  ProviderId_1  ProductId_11               A   \n",
       "\n",
       "      ChannelId  Amount  Value TransactionStartTime  PricingStrategy  \\\n",
       "0  ChannelId_11     100    100           2023-01-01                1   \n",
       "1  ChannelId_12     100    100           2023-01-02                2   \n",
       "2  ChannelId_13     200    200           2023-01-03                3   \n",
       "4  ChannelId_15      18     20           2023-01-05                2   \n",
       "5  ChannelId_11       0      0           2023-01-06                1   \n",
       "\n",
       "   FraudResult  \n",
       "0            0  \n",
       "1            1  \n",
       "2            1  \n",
       "4            1  \n",
       "5            0  "
      ]
     },
     "metadata": {},
     "output_type": "display_data"
    },
    {
     "name": "stdout",
     "output_type": "stream",
     "text": [
      "\n",
      "DataFrame Info:\n",
      "<class 'pandas.core.frame.DataFrame'>\n",
      "Index: 8 entries, 0 to 9\n",
      "Data columns (total 15 columns):\n",
      " #   Column                Non-Null Count  Dtype         \n",
      "---  ------                --------------  -----         \n",
      " 0   TransactionId         8 non-null      object        \n",
      " 1   BatchId               8 non-null      object        \n",
      " 2   AccountId             8 non-null      object        \n",
      " 3   SubscriptionId        8 non-null      object        \n",
      " 4   CustomerId            8 non-null      object        \n",
      " 5   CountryCode           8 non-null      object        \n",
      " 6   ProviderId            8 non-null      object        \n",
      " 7   ProductId             8 non-null      object        \n",
      " 8   ProductCategory       8 non-null      object        \n",
      " 9   ChannelId             8 non-null      object        \n",
      " 10  Amount                8 non-null      int64         \n",
      " 11  Value                 8 non-null      int64         \n",
      " 12  TransactionStartTime  8 non-null      datetime64[ns]\n",
      " 13  PricingStrategy       8 non-null      int64         \n",
      " 14  FraudResult           8 non-null      int64         \n",
      "dtypes: datetime64[ns](1), int64(4), object(10)\n",
      "memory usage: 1.0+ KB\n",
      "\n",
      "DataFrame Shape:\n"
     ]
    },
    {
     "data": {
      "text/plain": [
       "(8, 15)"
      ]
     },
     "metadata": {},
     "output_type": "display_data"
    },
    {
     "name": "stdout",
     "output_type": "stream",
     "text": [
      "\n",
      "DataFrame summary:\n",
      "<class 'pandas.core.frame.DataFrame'>\n",
      "Index: 8 entries, 0 to 9\n",
      "Data columns (total 15 columns):\n",
      " #   Column                Non-Null Count  Dtype         \n",
      "---  ------                --------------  -----         \n",
      " 0   TransactionId         8 non-null      object        \n",
      " 1   BatchId               8 non-null      object        \n",
      " 2   AccountId             8 non-null      object        \n",
      " 3   SubscriptionId        8 non-null      object        \n",
      " 4   CustomerId            8 non-null      object        \n",
      " 5   CountryCode           8 non-null      object        \n",
      " 6   ProviderId            8 non-null      object        \n",
      " 7   ProductId             8 non-null      object        \n",
      " 8   ProductCategory       8 non-null      object        \n",
      " 9   ChannelId             8 non-null      object        \n",
      " 10  Amount                8 non-null      int64         \n",
      " 11  Value                 8 non-null      int64         \n",
      " 12  TransactionStartTime  8 non-null      datetime64[ns]\n",
      " 13  PricingStrategy       8 non-null      int64         \n",
      " 14  FraudResult           8 non-null      int64         \n",
      "dtypes: datetime64[ns](1), int64(4), object(10)\n",
      "memory usage: 1.0+ KB\n",
      "\n",
      "DataFrame Description:\n"
     ]
    },
    {
     "data": {
      "application/vnd.microsoft.datawrangler.viewer.v0+json": {
       "columns": [
        {
         "name": "index",
         "rawType": "object",
         "type": "string"
        },
        {
         "name": "Amount",
         "rawType": "float64",
         "type": "float"
        },
        {
         "name": "Value",
         "rawType": "float64",
         "type": "float"
        }
       ],
       "ref": "b672d044-97d6-40da-aecb-bcf5b371de2e",
       "rows": [
        [
         "count",
         "8.0",
         "8.0"
        ],
        [
         "mean",
         "226.0",
         "228.75"
        ],
        [
         "std",
         "318.88555940964153",
         "316.65382179462614"
        ],
        [
         "min",
         "-10.0",
         "0.0"
        ],
        [
         "25%",
         "13.5",
         "17.5"
        ],
        [
         "50%",
         "100.0",
         "100.0"
        ],
        [
         "75%",
         "275.0",
         "275.0"
        ],
        [
         "max",
         "900.0",
         "900.0"
        ]
       ],
       "shape": {
        "columns": 2,
        "rows": 8
       }
      },
      "text/html": [
       "<div>\n",
       "<style scoped>\n",
       "    .dataframe tbody tr th:only-of-type {\n",
       "        vertical-align: middle;\n",
       "    }\n",
       "\n",
       "    .dataframe tbody tr th {\n",
       "        vertical-align: top;\n",
       "    }\n",
       "\n",
       "    .dataframe thead th {\n",
       "        text-align: right;\n",
       "    }\n",
       "</style>\n",
       "<table border=\"1\" class=\"dataframe\">\n",
       "  <thead>\n",
       "    <tr style=\"text-align: right;\">\n",
       "      <th></th>\n",
       "      <th>Amount</th>\n",
       "      <th>Value</th>\n",
       "    </tr>\n",
       "  </thead>\n",
       "  <tbody>\n",
       "    <tr>\n",
       "      <th>count</th>\n",
       "      <td>8.000000</td>\n",
       "      <td>8.000000</td>\n",
       "    </tr>\n",
       "    <tr>\n",
       "      <th>mean</th>\n",
       "      <td>226.000000</td>\n",
       "      <td>228.750000</td>\n",
       "    </tr>\n",
       "    <tr>\n",
       "      <th>std</th>\n",
       "      <td>318.885559</td>\n",
       "      <td>316.653822</td>\n",
       "    </tr>\n",
       "    <tr>\n",
       "      <th>min</th>\n",
       "      <td>-10.000000</td>\n",
       "      <td>0.000000</td>\n",
       "    </tr>\n",
       "    <tr>\n",
       "      <th>25%</th>\n",
       "      <td>13.500000</td>\n",
       "      <td>17.500000</td>\n",
       "    </tr>\n",
       "    <tr>\n",
       "      <th>50%</th>\n",
       "      <td>100.000000</td>\n",
       "      <td>100.000000</td>\n",
       "    </tr>\n",
       "    <tr>\n",
       "      <th>75%</th>\n",
       "      <td>275.000000</td>\n",
       "      <td>275.000000</td>\n",
       "    </tr>\n",
       "    <tr>\n",
       "      <th>max</th>\n",
       "      <td>900.000000</td>\n",
       "      <td>900.000000</td>\n",
       "    </tr>\n",
       "  </tbody>\n",
       "</table>\n",
       "</div>"
      ],
      "text/plain": [
       "           Amount       Value\n",
       "count    8.000000    8.000000\n",
       "mean   226.000000  228.750000\n",
       "std    318.885559  316.653822\n",
       "min    -10.000000    0.000000\n",
       "25%     13.500000   17.500000\n",
       "50%    100.000000  100.000000\n",
       "75%    275.000000  275.000000\n",
       "max    900.000000  900.000000"
      ]
     },
     "metadata": {},
     "output_type": "display_data"
    },
    {
     "name": "stderr",
     "output_type": "stream",
     "text": [
      "ok\n",
      "test_save_plot (__main__.TestEDA.test_save_plot)\n",
      "Test the save_plot method. ... "
     ]
    },
    {
     "name": "stdout",
     "output_type": "stream",
     "text": [
      "DataFrame loaded successfully from test_data.csv\n",
      "\n",
      "DataFrame head:\n"
     ]
    },
    {
     "data": {
      "application/vnd.microsoft.datawrangler.viewer.v0+json": {
       "columns": [
        {
         "name": "index",
         "rawType": "int64",
         "type": "integer"
        },
        {
         "name": "TransactionId",
         "rawType": "object",
         "type": "string"
        },
        {
         "name": "BatchId",
         "rawType": "object",
         "type": "string"
        },
        {
         "name": "AccountId",
         "rawType": "object",
         "type": "string"
        },
        {
         "name": "SubscriptionId",
         "rawType": "object",
         "type": "string"
        },
        {
         "name": "CustomerId",
         "rawType": "object",
         "type": "string"
        },
        {
         "name": "CountryCode",
         "rawType": "object",
         "type": "string"
        },
        {
         "name": "ProviderId",
         "rawType": "object",
         "type": "string"
        },
        {
         "name": "ProductId",
         "rawType": "object",
         "type": "string"
        },
        {
         "name": "ProductCategory",
         "rawType": "object",
         "type": "string"
        },
        {
         "name": "ChannelId",
         "rawType": "object",
         "type": "string"
        },
        {
         "name": "Amount",
         "rawType": "int64",
         "type": "integer"
        },
        {
         "name": "Value",
         "rawType": "int64",
         "type": "integer"
        },
        {
         "name": "TransactionStartTime",
         "rawType": "datetime64[ns]",
         "type": "datetime"
        },
        {
         "name": "PricingStrategy",
         "rawType": "int64",
         "type": "integer"
        },
        {
         "name": "FraudResult",
         "rawType": "int64",
         "type": "integer"
        }
       ],
       "ref": "d3667a18-6174-4146-b5ca-0d96fe6ae021",
       "rows": [
        [
         "0",
         "TransactionId_1",
         "BatchId_11",
         "AccountId_111",
         "SubscriptionId_1111",
         "CustomerId_11111",
         "AMZ",
         "ProviderId_1",
         "ProductId_11",
         "A",
         "ChannelId_11",
         "100",
         "100",
         "2023-01-01 00:00:00",
         "1",
         "0"
        ],
        [
         "1",
         "TransactionId_2",
         "BatchId_22",
         "AccountId_222",
         "SubscriptionId_2222",
         "CustomerId_22222",
         "AMZ",
         "ProviderId_2",
         "ProductId_12",
         "A",
         "ChannelId_12",
         "100",
         "100",
         "2023-01-02 00:00:00",
         "2",
         "1"
        ],
        [
         "2",
         "TransactionId_3",
         "BatchId_33",
         "AccountId_333",
         "SubscriptionId_3333",
         "CustomerId_33333",
         "AMZ",
         "ProviderId_3",
         "ProductId_13",
         "A",
         "ChannelId_13",
         "200",
         "200",
         "2023-01-03 00:00:00",
         "3",
         "1"
        ],
        [
         "3",
         "TransactionId_4",
         "BatchId_44",
         "AccountId_444",
         "SubscriptionId_4444",
         "CustomerId_44444",
         "AMZ",
         "ProviderId_4",
         "ProductId_14",
         "A",
         "ChannelId_14",
         "-1000",
         "1000",
         "2023-01-04 00:00:00",
         "3",
         "0"
        ],
        [
         "4",
         "TransactionId_5",
         "BatchId_55",
         "AccountId_555",
         "SubscriptionId_5555",
         "CustomerId_55555",
         "AMZ",
         "ProviderId_5",
         "ProductId_15",
         "A",
         "ChannelId_15",
         "18",
         "20",
         "2023-01-05 00:00:00",
         "2",
         "1"
        ]
       ],
       "shape": {
        "columns": 15,
        "rows": 5
       }
      },
      "text/html": [
       "<div>\n",
       "<style scoped>\n",
       "    .dataframe tbody tr th:only-of-type {\n",
       "        vertical-align: middle;\n",
       "    }\n",
       "\n",
       "    .dataframe tbody tr th {\n",
       "        vertical-align: top;\n",
       "    }\n",
       "\n",
       "    .dataframe thead th {\n",
       "        text-align: right;\n",
       "    }\n",
       "</style>\n",
       "<table border=\"1\" class=\"dataframe\">\n",
       "  <thead>\n",
       "    <tr style=\"text-align: right;\">\n",
       "      <th></th>\n",
       "      <th>TransactionId</th>\n",
       "      <th>BatchId</th>\n",
       "      <th>AccountId</th>\n",
       "      <th>SubscriptionId</th>\n",
       "      <th>CustomerId</th>\n",
       "      <th>CountryCode</th>\n",
       "      <th>ProviderId</th>\n",
       "      <th>ProductId</th>\n",
       "      <th>ProductCategory</th>\n",
       "      <th>ChannelId</th>\n",
       "      <th>Amount</th>\n",
       "      <th>Value</th>\n",
       "      <th>TransactionStartTime</th>\n",
       "      <th>PricingStrategy</th>\n",
       "      <th>FraudResult</th>\n",
       "    </tr>\n",
       "  </thead>\n",
       "  <tbody>\n",
       "    <tr>\n",
       "      <th>0</th>\n",
       "      <td>TransactionId_1</td>\n",
       "      <td>BatchId_11</td>\n",
       "      <td>AccountId_111</td>\n",
       "      <td>SubscriptionId_1111</td>\n",
       "      <td>CustomerId_11111</td>\n",
       "      <td>AMZ</td>\n",
       "      <td>ProviderId_1</td>\n",
       "      <td>ProductId_11</td>\n",
       "      <td>A</td>\n",
       "      <td>ChannelId_11</td>\n",
       "      <td>100</td>\n",
       "      <td>100</td>\n",
       "      <td>2023-01-01</td>\n",
       "      <td>1</td>\n",
       "      <td>0</td>\n",
       "    </tr>\n",
       "    <tr>\n",
       "      <th>1</th>\n",
       "      <td>TransactionId_2</td>\n",
       "      <td>BatchId_22</td>\n",
       "      <td>AccountId_222</td>\n",
       "      <td>SubscriptionId_2222</td>\n",
       "      <td>CustomerId_22222</td>\n",
       "      <td>AMZ</td>\n",
       "      <td>ProviderId_2</td>\n",
       "      <td>ProductId_12</td>\n",
       "      <td>A</td>\n",
       "      <td>ChannelId_12</td>\n",
       "      <td>100</td>\n",
       "      <td>100</td>\n",
       "      <td>2023-01-02</td>\n",
       "      <td>2</td>\n",
       "      <td>1</td>\n",
       "    </tr>\n",
       "    <tr>\n",
       "      <th>2</th>\n",
       "      <td>TransactionId_3</td>\n",
       "      <td>BatchId_33</td>\n",
       "      <td>AccountId_333</td>\n",
       "      <td>SubscriptionId_3333</td>\n",
       "      <td>CustomerId_33333</td>\n",
       "      <td>AMZ</td>\n",
       "      <td>ProviderId_3</td>\n",
       "      <td>ProductId_13</td>\n",
       "      <td>A</td>\n",
       "      <td>ChannelId_13</td>\n",
       "      <td>200</td>\n",
       "      <td>200</td>\n",
       "      <td>2023-01-03</td>\n",
       "      <td>3</td>\n",
       "      <td>1</td>\n",
       "    </tr>\n",
       "    <tr>\n",
       "      <th>3</th>\n",
       "      <td>TransactionId_4</td>\n",
       "      <td>BatchId_44</td>\n",
       "      <td>AccountId_444</td>\n",
       "      <td>SubscriptionId_4444</td>\n",
       "      <td>CustomerId_44444</td>\n",
       "      <td>AMZ</td>\n",
       "      <td>ProviderId_4</td>\n",
       "      <td>ProductId_14</td>\n",
       "      <td>A</td>\n",
       "      <td>ChannelId_14</td>\n",
       "      <td>-1000</td>\n",
       "      <td>1000</td>\n",
       "      <td>2023-01-04</td>\n",
       "      <td>3</td>\n",
       "      <td>0</td>\n",
       "    </tr>\n",
       "    <tr>\n",
       "      <th>4</th>\n",
       "      <td>TransactionId_5</td>\n",
       "      <td>BatchId_55</td>\n",
       "      <td>AccountId_555</td>\n",
       "      <td>SubscriptionId_5555</td>\n",
       "      <td>CustomerId_55555</td>\n",
       "      <td>AMZ</td>\n",
       "      <td>ProviderId_5</td>\n",
       "      <td>ProductId_15</td>\n",
       "      <td>A</td>\n",
       "      <td>ChannelId_15</td>\n",
       "      <td>18</td>\n",
       "      <td>20</td>\n",
       "      <td>2023-01-05</td>\n",
       "      <td>2</td>\n",
       "      <td>1</td>\n",
       "    </tr>\n",
       "  </tbody>\n",
       "</table>\n",
       "</div>"
      ],
      "text/plain": [
       "     TransactionId     BatchId      AccountId       SubscriptionId  \\\n",
       "0  TransactionId_1  BatchId_11  AccountId_111  SubscriptionId_1111   \n",
       "1  TransactionId_2  BatchId_22  AccountId_222  SubscriptionId_2222   \n",
       "2  TransactionId_3  BatchId_33  AccountId_333  SubscriptionId_3333   \n",
       "3  TransactionId_4  BatchId_44  AccountId_444  SubscriptionId_4444   \n",
       "4  TransactionId_5  BatchId_55  AccountId_555  SubscriptionId_5555   \n",
       "\n",
       "         CustomerId CountryCode    ProviderId     ProductId ProductCategory  \\\n",
       "0  CustomerId_11111         AMZ  ProviderId_1  ProductId_11               A   \n",
       "1  CustomerId_22222         AMZ  ProviderId_2  ProductId_12               A   \n",
       "2  CustomerId_33333         AMZ  ProviderId_3  ProductId_13               A   \n",
       "3  CustomerId_44444         AMZ  ProviderId_4  ProductId_14               A   \n",
       "4  CustomerId_55555         AMZ  ProviderId_5  ProductId_15               A   \n",
       "\n",
       "      ChannelId  Amount  Value TransactionStartTime  PricingStrategy  \\\n",
       "0  ChannelId_11     100    100           2023-01-01                1   \n",
       "1  ChannelId_12     100    100           2023-01-02                2   \n",
       "2  ChannelId_13     200    200           2023-01-03                3   \n",
       "3  ChannelId_14   -1000   1000           2023-01-04                3   \n",
       "4  ChannelId_15      18     20           2023-01-05                2   \n",
       "\n",
       "   FraudResult  \n",
       "0            0  \n",
       "1            1  \n",
       "2            1  \n",
       "3            0  \n",
       "4            1  "
      ]
     },
     "metadata": {},
     "output_type": "display_data"
    },
    {
     "name": "stdout",
     "output_type": "stream",
     "text": [
      "\n",
      "DataFrame shape:\n"
     ]
    },
    {
     "data": {
      "text/plain": [
       "(10, 15)"
      ]
     },
     "metadata": {},
     "output_type": "display_data"
    },
    {
     "name": "stdout",
     "output_type": "stream",
     "text": [
      "\n",
      "DataFrame columns:\n"
     ]
    },
    {
     "data": {
      "text/plain": [
       "Index(['TransactionId', 'BatchId', 'AccountId', 'SubscriptionId', 'CustomerId',\n",
       "       'CountryCode', 'ProviderId', 'ProductId', 'ProductCategory',\n",
       "       'ChannelId', 'Amount', 'Value', 'TransactionStartTime',\n",
       "       'PricingStrategy', 'FraudResult'],\n",
       "      dtype='object')"
      ]
     },
     "metadata": {},
     "output_type": "display_data"
    },
    {
     "name": "stdout",
     "output_type": "stream",
     "text": [
      "\n",
      "DataFrame summary:\n",
      "<class 'pandas.core.frame.DataFrame'>\n",
      "RangeIndex: 10 entries, 0 to 9\n",
      "Data columns (total 15 columns):\n",
      " #   Column                Non-Null Count  Dtype         \n",
      "---  ------                --------------  -----         \n",
      " 0   TransactionId         10 non-null     object        \n",
      " 1   BatchId               10 non-null     object        \n",
      " 2   AccountId             10 non-null     object        \n",
      " 3   SubscriptionId        10 non-null     object        \n",
      " 4   CustomerId            10 non-null     object        \n",
      " 5   CountryCode           10 non-null     object        \n",
      " 6   ProviderId            10 non-null     object        \n",
      " 7   ProductId             10 non-null     object        \n",
      " 8   ProductCategory       10 non-null     object        \n",
      " 9   ChannelId             10 non-null     object        \n",
      " 10  Amount                10 non-null     int64         \n",
      " 11  Value                 10 non-null     int64         \n",
      " 12  TransactionStartTime  10 non-null     datetime64[ns]\n",
      " 13  PricingStrategy       10 non-null     int64         \n",
      " 14  FraudResult           10 non-null     int64         \n",
      "dtypes: datetime64[ns](1), int64(4), object(10)\n",
      "memory usage: 1.3+ KB\n",
      "There are no columns with missing values\n"
     ]
    },
    {
     "name": "stderr",
     "output_type": "stream",
     "text": [
      "ok\n",
      "test_summary_statistics (__main__.TestEDA.test_summary_statistics)\n",
      "Test the summary_statistics method. ... "
     ]
    },
    {
     "name": "stdout",
     "output_type": "stream",
     "text": [
      "\n",
      "Plot saved to test_plots\\test_plot.png\n",
      "DataFrame loaded successfully from test_data.csv\n",
      "\n",
      "DataFrame head:\n"
     ]
    },
    {
     "data": {
      "application/vnd.microsoft.datawrangler.viewer.v0+json": {
       "columns": [
        {
         "name": "index",
         "rawType": "int64",
         "type": "integer"
        },
        {
         "name": "TransactionId",
         "rawType": "object",
         "type": "string"
        },
        {
         "name": "BatchId",
         "rawType": "object",
         "type": "string"
        },
        {
         "name": "AccountId",
         "rawType": "object",
         "type": "string"
        },
        {
         "name": "SubscriptionId",
         "rawType": "object",
         "type": "string"
        },
        {
         "name": "CustomerId",
         "rawType": "object",
         "type": "string"
        },
        {
         "name": "CountryCode",
         "rawType": "object",
         "type": "string"
        },
        {
         "name": "ProviderId",
         "rawType": "object",
         "type": "string"
        },
        {
         "name": "ProductId",
         "rawType": "object",
         "type": "string"
        },
        {
         "name": "ProductCategory",
         "rawType": "object",
         "type": "string"
        },
        {
         "name": "ChannelId",
         "rawType": "object",
         "type": "string"
        },
        {
         "name": "Amount",
         "rawType": "int64",
         "type": "integer"
        },
        {
         "name": "Value",
         "rawType": "int64",
         "type": "integer"
        },
        {
         "name": "TransactionStartTime",
         "rawType": "datetime64[ns]",
         "type": "datetime"
        },
        {
         "name": "PricingStrategy",
         "rawType": "int64",
         "type": "integer"
        },
        {
         "name": "FraudResult",
         "rawType": "int64",
         "type": "integer"
        }
       ],
       "ref": "4abc30f9-59ff-4a24-b94b-b223fce66945",
       "rows": [
        [
         "0",
         "TransactionId_1",
         "BatchId_11",
         "AccountId_111",
         "SubscriptionId_1111",
         "CustomerId_11111",
         "AMZ",
         "ProviderId_1",
         "ProductId_11",
         "A",
         "ChannelId_11",
         "100",
         "100",
         "2023-01-01 00:00:00",
         "1",
         "0"
        ],
        [
         "1",
         "TransactionId_2",
         "BatchId_22",
         "AccountId_222",
         "SubscriptionId_2222",
         "CustomerId_22222",
         "AMZ",
         "ProviderId_2",
         "ProductId_12",
         "A",
         "ChannelId_12",
         "100",
         "100",
         "2023-01-02 00:00:00",
         "2",
         "1"
        ],
        [
         "2",
         "TransactionId_3",
         "BatchId_33",
         "AccountId_333",
         "SubscriptionId_3333",
         "CustomerId_33333",
         "AMZ",
         "ProviderId_3",
         "ProductId_13",
         "A",
         "ChannelId_13",
         "200",
         "200",
         "2023-01-03 00:00:00",
         "3",
         "1"
        ],
        [
         "3",
         "TransactionId_4",
         "BatchId_44",
         "AccountId_444",
         "SubscriptionId_4444",
         "CustomerId_44444",
         "AMZ",
         "ProviderId_4",
         "ProductId_14",
         "A",
         "ChannelId_14",
         "-1000",
         "1000",
         "2023-01-04 00:00:00",
         "3",
         "0"
        ],
        [
         "4",
         "TransactionId_5",
         "BatchId_55",
         "AccountId_555",
         "SubscriptionId_5555",
         "CustomerId_55555",
         "AMZ",
         "ProviderId_5",
         "ProductId_15",
         "A",
         "ChannelId_15",
         "18",
         "20",
         "2023-01-05 00:00:00",
         "2",
         "1"
        ]
       ],
       "shape": {
        "columns": 15,
        "rows": 5
       }
      },
      "text/html": [
       "<div>\n",
       "<style scoped>\n",
       "    .dataframe tbody tr th:only-of-type {\n",
       "        vertical-align: middle;\n",
       "    }\n",
       "\n",
       "    .dataframe tbody tr th {\n",
       "        vertical-align: top;\n",
       "    }\n",
       "\n",
       "    .dataframe thead th {\n",
       "        text-align: right;\n",
       "    }\n",
       "</style>\n",
       "<table border=\"1\" class=\"dataframe\">\n",
       "  <thead>\n",
       "    <tr style=\"text-align: right;\">\n",
       "      <th></th>\n",
       "      <th>TransactionId</th>\n",
       "      <th>BatchId</th>\n",
       "      <th>AccountId</th>\n",
       "      <th>SubscriptionId</th>\n",
       "      <th>CustomerId</th>\n",
       "      <th>CountryCode</th>\n",
       "      <th>ProviderId</th>\n",
       "      <th>ProductId</th>\n",
       "      <th>ProductCategory</th>\n",
       "      <th>ChannelId</th>\n",
       "      <th>Amount</th>\n",
       "      <th>Value</th>\n",
       "      <th>TransactionStartTime</th>\n",
       "      <th>PricingStrategy</th>\n",
       "      <th>FraudResult</th>\n",
       "    </tr>\n",
       "  </thead>\n",
       "  <tbody>\n",
       "    <tr>\n",
       "      <th>0</th>\n",
       "      <td>TransactionId_1</td>\n",
       "      <td>BatchId_11</td>\n",
       "      <td>AccountId_111</td>\n",
       "      <td>SubscriptionId_1111</td>\n",
       "      <td>CustomerId_11111</td>\n",
       "      <td>AMZ</td>\n",
       "      <td>ProviderId_1</td>\n",
       "      <td>ProductId_11</td>\n",
       "      <td>A</td>\n",
       "      <td>ChannelId_11</td>\n",
       "      <td>100</td>\n",
       "      <td>100</td>\n",
       "      <td>2023-01-01</td>\n",
       "      <td>1</td>\n",
       "      <td>0</td>\n",
       "    </tr>\n",
       "    <tr>\n",
       "      <th>1</th>\n",
       "      <td>TransactionId_2</td>\n",
       "      <td>BatchId_22</td>\n",
       "      <td>AccountId_222</td>\n",
       "      <td>SubscriptionId_2222</td>\n",
       "      <td>CustomerId_22222</td>\n",
       "      <td>AMZ</td>\n",
       "      <td>ProviderId_2</td>\n",
       "      <td>ProductId_12</td>\n",
       "      <td>A</td>\n",
       "      <td>ChannelId_12</td>\n",
       "      <td>100</td>\n",
       "      <td>100</td>\n",
       "      <td>2023-01-02</td>\n",
       "      <td>2</td>\n",
       "      <td>1</td>\n",
       "    </tr>\n",
       "    <tr>\n",
       "      <th>2</th>\n",
       "      <td>TransactionId_3</td>\n",
       "      <td>BatchId_33</td>\n",
       "      <td>AccountId_333</td>\n",
       "      <td>SubscriptionId_3333</td>\n",
       "      <td>CustomerId_33333</td>\n",
       "      <td>AMZ</td>\n",
       "      <td>ProviderId_3</td>\n",
       "      <td>ProductId_13</td>\n",
       "      <td>A</td>\n",
       "      <td>ChannelId_13</td>\n",
       "      <td>200</td>\n",
       "      <td>200</td>\n",
       "      <td>2023-01-03</td>\n",
       "      <td>3</td>\n",
       "      <td>1</td>\n",
       "    </tr>\n",
       "    <tr>\n",
       "      <th>3</th>\n",
       "      <td>TransactionId_4</td>\n",
       "      <td>BatchId_44</td>\n",
       "      <td>AccountId_444</td>\n",
       "      <td>SubscriptionId_4444</td>\n",
       "      <td>CustomerId_44444</td>\n",
       "      <td>AMZ</td>\n",
       "      <td>ProviderId_4</td>\n",
       "      <td>ProductId_14</td>\n",
       "      <td>A</td>\n",
       "      <td>ChannelId_14</td>\n",
       "      <td>-1000</td>\n",
       "      <td>1000</td>\n",
       "      <td>2023-01-04</td>\n",
       "      <td>3</td>\n",
       "      <td>0</td>\n",
       "    </tr>\n",
       "    <tr>\n",
       "      <th>4</th>\n",
       "      <td>TransactionId_5</td>\n",
       "      <td>BatchId_55</td>\n",
       "      <td>AccountId_555</td>\n",
       "      <td>SubscriptionId_5555</td>\n",
       "      <td>CustomerId_55555</td>\n",
       "      <td>AMZ</td>\n",
       "      <td>ProviderId_5</td>\n",
       "      <td>ProductId_15</td>\n",
       "      <td>A</td>\n",
       "      <td>ChannelId_15</td>\n",
       "      <td>18</td>\n",
       "      <td>20</td>\n",
       "      <td>2023-01-05</td>\n",
       "      <td>2</td>\n",
       "      <td>1</td>\n",
       "    </tr>\n",
       "  </tbody>\n",
       "</table>\n",
       "</div>"
      ],
      "text/plain": [
       "     TransactionId     BatchId      AccountId       SubscriptionId  \\\n",
       "0  TransactionId_1  BatchId_11  AccountId_111  SubscriptionId_1111   \n",
       "1  TransactionId_2  BatchId_22  AccountId_222  SubscriptionId_2222   \n",
       "2  TransactionId_3  BatchId_33  AccountId_333  SubscriptionId_3333   \n",
       "3  TransactionId_4  BatchId_44  AccountId_444  SubscriptionId_4444   \n",
       "4  TransactionId_5  BatchId_55  AccountId_555  SubscriptionId_5555   \n",
       "\n",
       "         CustomerId CountryCode    ProviderId     ProductId ProductCategory  \\\n",
       "0  CustomerId_11111         AMZ  ProviderId_1  ProductId_11               A   \n",
       "1  CustomerId_22222         AMZ  ProviderId_2  ProductId_12               A   \n",
       "2  CustomerId_33333         AMZ  ProviderId_3  ProductId_13               A   \n",
       "3  CustomerId_44444         AMZ  ProviderId_4  ProductId_14               A   \n",
       "4  CustomerId_55555         AMZ  ProviderId_5  ProductId_15               A   \n",
       "\n",
       "      ChannelId  Amount  Value TransactionStartTime  PricingStrategy  \\\n",
       "0  ChannelId_11     100    100           2023-01-01                1   \n",
       "1  ChannelId_12     100    100           2023-01-02                2   \n",
       "2  ChannelId_13     200    200           2023-01-03                3   \n",
       "3  ChannelId_14   -1000   1000           2023-01-04                3   \n",
       "4  ChannelId_15      18     20           2023-01-05                2   \n",
       "\n",
       "   FraudResult  \n",
       "0            0  \n",
       "1            1  \n",
       "2            1  \n",
       "3            0  \n",
       "4            1  "
      ]
     },
     "metadata": {},
     "output_type": "display_data"
    },
    {
     "name": "stdout",
     "output_type": "stream",
     "text": [
      "\n",
      "DataFrame shape:\n"
     ]
    },
    {
     "data": {
      "text/plain": [
       "(10, 15)"
      ]
     },
     "metadata": {},
     "output_type": "display_data"
    },
    {
     "name": "stdout",
     "output_type": "stream",
     "text": [
      "\n",
      "DataFrame columns:\n"
     ]
    },
    {
     "data": {
      "text/plain": [
       "Index(['TransactionId', 'BatchId', 'AccountId', 'SubscriptionId', 'CustomerId',\n",
       "       'CountryCode', 'ProviderId', 'ProductId', 'ProductCategory',\n",
       "       'ChannelId', 'Amount', 'Value', 'TransactionStartTime',\n",
       "       'PricingStrategy', 'FraudResult'],\n",
       "      dtype='object')"
      ]
     },
     "metadata": {},
     "output_type": "display_data"
    },
    {
     "name": "stdout",
     "output_type": "stream",
     "text": [
      "\n",
      "DataFrame summary:\n",
      "<class 'pandas.core.frame.DataFrame'>\n",
      "RangeIndex: 10 entries, 0 to 9\n",
      "Data columns (total 15 columns):\n",
      " #   Column                Non-Null Count  Dtype         \n",
      "---  ------                --------------  -----         \n",
      " 0   TransactionId         10 non-null     object        \n",
      " 1   BatchId               10 non-null     object        \n",
      " 2   AccountId             10 non-null     object        \n",
      " 3   SubscriptionId        10 non-null     object        \n",
      " 4   CustomerId            10 non-null     object        \n",
      " 5   CountryCode           10 non-null     object        \n",
      " 6   ProviderId            10 non-null     object        \n",
      " 7   ProductId             10 non-null     object        \n",
      " 8   ProductCategory       10 non-null     object        \n",
      " 9   ChannelId             10 non-null     object        \n",
      " 10  Amount                10 non-null     int64         \n",
      " 11  Value                 10 non-null     int64         \n",
      " 12  TransactionStartTime  10 non-null     datetime64[ns]\n",
      " 13  PricingStrategy       10 non-null     int64         \n",
      " 14  FraudResult           10 non-null     int64         \n",
      "dtypes: datetime64[ns](1), int64(4), object(10)\n",
      "memory usage: 1.3+ KB\n",
      "There are no columns with missing values\n",
      "Summary statistics for numerical features (excluding 'CountryCode' and 'PricingStrategy'):\n"
     ]
    },
    {
     "data": {
      "application/vnd.microsoft.datawrangler.viewer.v0+json": {
       "columns": [
        {
         "name": "index",
         "rawType": "object",
         "type": "string"
        },
        {
         "name": "Amount",
         "rawType": "float64",
         "type": "float"
        },
        {
         "name": "Value",
         "rawType": "float64",
         "type": "float"
        }
       ],
       "ref": "f2f4750d-a6eb-4ed1-8f67-4b876619c008",
       "rows": [
        [
         "count",
         "10.0",
         "10.0"
        ],
        [
         "mean",
         "280.8",
         "483.0"
        ],
        [
         "std",
         "769.6996239515198",
         "648.726102107473"
        ],
        [
         "min",
         "-1000.0",
         "0.0"
        ],
        [
         "25%",
         "4.5",
         "40.0"
        ],
        [
         "50%",
         "100.0",
         "150.0"
        ],
        [
         "75%",
         "425.0",
         "800.0"
        ],
        [
         "max",
         "2000.0",
         "2000.0"
        ]
       ],
       "shape": {
        "columns": 2,
        "rows": 8
       }
      },
      "text/html": [
       "<div>\n",
       "<style scoped>\n",
       "    .dataframe tbody tr th:only-of-type {\n",
       "        vertical-align: middle;\n",
       "    }\n",
       "\n",
       "    .dataframe tbody tr th {\n",
       "        vertical-align: top;\n",
       "    }\n",
       "\n",
       "    .dataframe thead th {\n",
       "        text-align: right;\n",
       "    }\n",
       "</style>\n",
       "<table border=\"1\" class=\"dataframe\">\n",
       "  <thead>\n",
       "    <tr style=\"text-align: right;\">\n",
       "      <th></th>\n",
       "      <th>Amount</th>\n",
       "      <th>Value</th>\n",
       "    </tr>\n",
       "  </thead>\n",
       "  <tbody>\n",
       "    <tr>\n",
       "      <th>count</th>\n",
       "      <td>10.000000</td>\n",
       "      <td>10.000000</td>\n",
       "    </tr>\n",
       "    <tr>\n",
       "      <th>mean</th>\n",
       "      <td>280.800000</td>\n",
       "      <td>483.000000</td>\n",
       "    </tr>\n",
       "    <tr>\n",
       "      <th>std</th>\n",
       "      <td>769.699624</td>\n",
       "      <td>648.726102</td>\n",
       "    </tr>\n",
       "    <tr>\n",
       "      <th>min</th>\n",
       "      <td>-1000.000000</td>\n",
       "      <td>0.000000</td>\n",
       "    </tr>\n",
       "    <tr>\n",
       "      <th>25%</th>\n",
       "      <td>4.500000</td>\n",
       "      <td>40.000000</td>\n",
       "    </tr>\n",
       "    <tr>\n",
       "      <th>50%</th>\n",
       "      <td>100.000000</td>\n",
       "      <td>150.000000</td>\n",
       "    </tr>\n",
       "    <tr>\n",
       "      <th>75%</th>\n",
       "      <td>425.000000</td>\n",
       "      <td>800.000000</td>\n",
       "    </tr>\n",
       "    <tr>\n",
       "      <th>max</th>\n",
       "      <td>2000.000000</td>\n",
       "      <td>2000.000000</td>\n",
       "    </tr>\n",
       "  </tbody>\n",
       "</table>\n",
       "</div>"
      ],
      "text/plain": [
       "            Amount        Value\n",
       "count    10.000000    10.000000\n",
       "mean    280.800000   483.000000\n",
       "std     769.699624   648.726102\n",
       "min   -1000.000000     0.000000\n",
       "25%       4.500000    40.000000\n",
       "50%     100.000000   150.000000\n",
       "75%     425.000000   800.000000\n",
       "max    2000.000000  2000.000000"
      ]
     },
     "metadata": {},
     "output_type": "display_data"
    },
    {
     "name": "stderr",
     "output_type": "stream",
     "text": [
      "ok\n",
      "test_visualise_distribution (__main__.TestEDA.test_visualise_distribution)\n",
      "Test the visualise_distribution method. ... "
     ]
    },
    {
     "name": "stdout",
     "output_type": "stream",
     "text": [
      "DataFrame loaded successfully from test_data.csv\n",
      "\n",
      "DataFrame head:\n"
     ]
    },
    {
     "data": {
      "application/vnd.microsoft.datawrangler.viewer.v0+json": {
       "columns": [
        {
         "name": "index",
         "rawType": "int64",
         "type": "integer"
        },
        {
         "name": "TransactionId",
         "rawType": "object",
         "type": "string"
        },
        {
         "name": "BatchId",
         "rawType": "object",
         "type": "string"
        },
        {
         "name": "AccountId",
         "rawType": "object",
         "type": "string"
        },
        {
         "name": "SubscriptionId",
         "rawType": "object",
         "type": "string"
        },
        {
         "name": "CustomerId",
         "rawType": "object",
         "type": "string"
        },
        {
         "name": "CountryCode",
         "rawType": "object",
         "type": "string"
        },
        {
         "name": "ProviderId",
         "rawType": "object",
         "type": "string"
        },
        {
         "name": "ProductId",
         "rawType": "object",
         "type": "string"
        },
        {
         "name": "ProductCategory",
         "rawType": "object",
         "type": "string"
        },
        {
         "name": "ChannelId",
         "rawType": "object",
         "type": "string"
        },
        {
         "name": "Amount",
         "rawType": "int64",
         "type": "integer"
        },
        {
         "name": "Value",
         "rawType": "int64",
         "type": "integer"
        },
        {
         "name": "TransactionStartTime",
         "rawType": "datetime64[ns]",
         "type": "datetime"
        },
        {
         "name": "PricingStrategy",
         "rawType": "int64",
         "type": "integer"
        },
        {
         "name": "FraudResult",
         "rawType": "int64",
         "type": "integer"
        }
       ],
       "ref": "057f46a6-c328-47b8-86c8-d96a220fbe51",
       "rows": [
        [
         "0",
         "TransactionId_1",
         "BatchId_11",
         "AccountId_111",
         "SubscriptionId_1111",
         "CustomerId_11111",
         "AMZ",
         "ProviderId_1",
         "ProductId_11",
         "A",
         "ChannelId_11",
         "100",
         "100",
         "2023-01-01 00:00:00",
         "1",
         "0"
        ],
        [
         "1",
         "TransactionId_2",
         "BatchId_22",
         "AccountId_222",
         "SubscriptionId_2222",
         "CustomerId_22222",
         "AMZ",
         "ProviderId_2",
         "ProductId_12",
         "A",
         "ChannelId_12",
         "100",
         "100",
         "2023-01-02 00:00:00",
         "2",
         "1"
        ],
        [
         "2",
         "TransactionId_3",
         "BatchId_33",
         "AccountId_333",
         "SubscriptionId_3333",
         "CustomerId_33333",
         "AMZ",
         "ProviderId_3",
         "ProductId_13",
         "A",
         "ChannelId_13",
         "200",
         "200",
         "2023-01-03 00:00:00",
         "3",
         "1"
        ],
        [
         "3",
         "TransactionId_4",
         "BatchId_44",
         "AccountId_444",
         "SubscriptionId_4444",
         "CustomerId_44444",
         "AMZ",
         "ProviderId_4",
         "ProductId_14",
         "A",
         "ChannelId_14",
         "-1000",
         "1000",
         "2023-01-04 00:00:00",
         "3",
         "0"
        ],
        [
         "4",
         "TransactionId_5",
         "BatchId_55",
         "AccountId_555",
         "SubscriptionId_5555",
         "CustomerId_55555",
         "AMZ",
         "ProviderId_5",
         "ProductId_15",
         "A",
         "ChannelId_15",
         "18",
         "20",
         "2023-01-05 00:00:00",
         "2",
         "1"
        ]
       ],
       "shape": {
        "columns": 15,
        "rows": 5
       }
      },
      "text/html": [
       "<div>\n",
       "<style scoped>\n",
       "    .dataframe tbody tr th:only-of-type {\n",
       "        vertical-align: middle;\n",
       "    }\n",
       "\n",
       "    .dataframe tbody tr th {\n",
       "        vertical-align: top;\n",
       "    }\n",
       "\n",
       "    .dataframe thead th {\n",
       "        text-align: right;\n",
       "    }\n",
       "</style>\n",
       "<table border=\"1\" class=\"dataframe\">\n",
       "  <thead>\n",
       "    <tr style=\"text-align: right;\">\n",
       "      <th></th>\n",
       "      <th>TransactionId</th>\n",
       "      <th>BatchId</th>\n",
       "      <th>AccountId</th>\n",
       "      <th>SubscriptionId</th>\n",
       "      <th>CustomerId</th>\n",
       "      <th>CountryCode</th>\n",
       "      <th>ProviderId</th>\n",
       "      <th>ProductId</th>\n",
       "      <th>ProductCategory</th>\n",
       "      <th>ChannelId</th>\n",
       "      <th>Amount</th>\n",
       "      <th>Value</th>\n",
       "      <th>TransactionStartTime</th>\n",
       "      <th>PricingStrategy</th>\n",
       "      <th>FraudResult</th>\n",
       "    </tr>\n",
       "  </thead>\n",
       "  <tbody>\n",
       "    <tr>\n",
       "      <th>0</th>\n",
       "      <td>TransactionId_1</td>\n",
       "      <td>BatchId_11</td>\n",
       "      <td>AccountId_111</td>\n",
       "      <td>SubscriptionId_1111</td>\n",
       "      <td>CustomerId_11111</td>\n",
       "      <td>AMZ</td>\n",
       "      <td>ProviderId_1</td>\n",
       "      <td>ProductId_11</td>\n",
       "      <td>A</td>\n",
       "      <td>ChannelId_11</td>\n",
       "      <td>100</td>\n",
       "      <td>100</td>\n",
       "      <td>2023-01-01</td>\n",
       "      <td>1</td>\n",
       "      <td>0</td>\n",
       "    </tr>\n",
       "    <tr>\n",
       "      <th>1</th>\n",
       "      <td>TransactionId_2</td>\n",
       "      <td>BatchId_22</td>\n",
       "      <td>AccountId_222</td>\n",
       "      <td>SubscriptionId_2222</td>\n",
       "      <td>CustomerId_22222</td>\n",
       "      <td>AMZ</td>\n",
       "      <td>ProviderId_2</td>\n",
       "      <td>ProductId_12</td>\n",
       "      <td>A</td>\n",
       "      <td>ChannelId_12</td>\n",
       "      <td>100</td>\n",
       "      <td>100</td>\n",
       "      <td>2023-01-02</td>\n",
       "      <td>2</td>\n",
       "      <td>1</td>\n",
       "    </tr>\n",
       "    <tr>\n",
       "      <th>2</th>\n",
       "      <td>TransactionId_3</td>\n",
       "      <td>BatchId_33</td>\n",
       "      <td>AccountId_333</td>\n",
       "      <td>SubscriptionId_3333</td>\n",
       "      <td>CustomerId_33333</td>\n",
       "      <td>AMZ</td>\n",
       "      <td>ProviderId_3</td>\n",
       "      <td>ProductId_13</td>\n",
       "      <td>A</td>\n",
       "      <td>ChannelId_13</td>\n",
       "      <td>200</td>\n",
       "      <td>200</td>\n",
       "      <td>2023-01-03</td>\n",
       "      <td>3</td>\n",
       "      <td>1</td>\n",
       "    </tr>\n",
       "    <tr>\n",
       "      <th>3</th>\n",
       "      <td>TransactionId_4</td>\n",
       "      <td>BatchId_44</td>\n",
       "      <td>AccountId_444</td>\n",
       "      <td>SubscriptionId_4444</td>\n",
       "      <td>CustomerId_44444</td>\n",
       "      <td>AMZ</td>\n",
       "      <td>ProviderId_4</td>\n",
       "      <td>ProductId_14</td>\n",
       "      <td>A</td>\n",
       "      <td>ChannelId_14</td>\n",
       "      <td>-1000</td>\n",
       "      <td>1000</td>\n",
       "      <td>2023-01-04</td>\n",
       "      <td>3</td>\n",
       "      <td>0</td>\n",
       "    </tr>\n",
       "    <tr>\n",
       "      <th>4</th>\n",
       "      <td>TransactionId_5</td>\n",
       "      <td>BatchId_55</td>\n",
       "      <td>AccountId_555</td>\n",
       "      <td>SubscriptionId_5555</td>\n",
       "      <td>CustomerId_55555</td>\n",
       "      <td>AMZ</td>\n",
       "      <td>ProviderId_5</td>\n",
       "      <td>ProductId_15</td>\n",
       "      <td>A</td>\n",
       "      <td>ChannelId_15</td>\n",
       "      <td>18</td>\n",
       "      <td>20</td>\n",
       "      <td>2023-01-05</td>\n",
       "      <td>2</td>\n",
       "      <td>1</td>\n",
       "    </tr>\n",
       "  </tbody>\n",
       "</table>\n",
       "</div>"
      ],
      "text/plain": [
       "     TransactionId     BatchId      AccountId       SubscriptionId  \\\n",
       "0  TransactionId_1  BatchId_11  AccountId_111  SubscriptionId_1111   \n",
       "1  TransactionId_2  BatchId_22  AccountId_222  SubscriptionId_2222   \n",
       "2  TransactionId_3  BatchId_33  AccountId_333  SubscriptionId_3333   \n",
       "3  TransactionId_4  BatchId_44  AccountId_444  SubscriptionId_4444   \n",
       "4  TransactionId_5  BatchId_55  AccountId_555  SubscriptionId_5555   \n",
       "\n",
       "         CustomerId CountryCode    ProviderId     ProductId ProductCategory  \\\n",
       "0  CustomerId_11111         AMZ  ProviderId_1  ProductId_11               A   \n",
       "1  CustomerId_22222         AMZ  ProviderId_2  ProductId_12               A   \n",
       "2  CustomerId_33333         AMZ  ProviderId_3  ProductId_13               A   \n",
       "3  CustomerId_44444         AMZ  ProviderId_4  ProductId_14               A   \n",
       "4  CustomerId_55555         AMZ  ProviderId_5  ProductId_15               A   \n",
       "\n",
       "      ChannelId  Amount  Value TransactionStartTime  PricingStrategy  \\\n",
       "0  ChannelId_11     100    100           2023-01-01                1   \n",
       "1  ChannelId_12     100    100           2023-01-02                2   \n",
       "2  ChannelId_13     200    200           2023-01-03                3   \n",
       "3  ChannelId_14   -1000   1000           2023-01-04                3   \n",
       "4  ChannelId_15      18     20           2023-01-05                2   \n",
       "\n",
       "   FraudResult  \n",
       "0            0  \n",
       "1            1  \n",
       "2            1  \n",
       "3            0  \n",
       "4            1  "
      ]
     },
     "metadata": {},
     "output_type": "display_data"
    },
    {
     "name": "stdout",
     "output_type": "stream",
     "text": [
      "\n",
      "DataFrame shape:\n"
     ]
    },
    {
     "data": {
      "text/plain": [
       "(10, 15)"
      ]
     },
     "metadata": {},
     "output_type": "display_data"
    },
    {
     "name": "stdout",
     "output_type": "stream",
     "text": [
      "\n",
      "DataFrame columns:\n"
     ]
    },
    {
     "data": {
      "text/plain": [
       "Index(['TransactionId', 'BatchId', 'AccountId', 'SubscriptionId', 'CustomerId',\n",
       "       'CountryCode', 'ProviderId', 'ProductId', 'ProductCategory',\n",
       "       'ChannelId', 'Amount', 'Value', 'TransactionStartTime',\n",
       "       'PricingStrategy', 'FraudResult'],\n",
       "      dtype='object')"
      ]
     },
     "metadata": {},
     "output_type": "display_data"
    },
    {
     "name": "stdout",
     "output_type": "stream",
     "text": [
      "\n",
      "DataFrame summary:\n",
      "<class 'pandas.core.frame.DataFrame'>\n",
      "RangeIndex: 10 entries, 0 to 9\n",
      "Data columns (total 15 columns):\n",
      " #   Column                Non-Null Count  Dtype         \n",
      "---  ------                --------------  -----         \n",
      " 0   TransactionId         10 non-null     object        \n",
      " 1   BatchId               10 non-null     object        \n",
      " 2   AccountId             10 non-null     object        \n",
      " 3   SubscriptionId        10 non-null     object        \n",
      " 4   CustomerId            10 non-null     object        \n",
      " 5   CountryCode           10 non-null     object        \n",
      " 6   ProviderId            10 non-null     object        \n",
      " 7   ProductId             10 non-null     object        \n",
      " 8   ProductCategory       10 non-null     object        \n",
      " 9   ChannelId             10 non-null     object        \n",
      " 10  Amount                10 non-null     int64         \n",
      " 11  Value                 10 non-null     int64         \n",
      " 12  TransactionStartTime  10 non-null     datetime64[ns]\n",
      " 13  PricingStrategy       10 non-null     int64         \n",
      " 14  FraudResult           10 non-null     int64         \n",
      "dtypes: datetime64[ns](1), int64(4), object(10)\n",
      "memory usage: 1.3+ KB\n",
      "There are no columns with missing values\n",
      "Visualising distribution of numerical features ...\n",
      "\n",
      "\n",
      "Plot saved to test_plots\\Distribution of Amount.png\n"
     ]
    },
    {
     "data": {
      "image/png": "[encoded data removed]",
      "text/plain": [
       "<Figure size 800x400 with 1 Axes>"
      ]
     },
     "metadata": {},
     "output_type": "display_data"
    },
    {
     "name": "stdout",
     "output_type": "stream",
     "text": [
      "\n",
      "Plot saved to test_plots\\Distribution of Value.png\n"
     ]
    },
    {
     "data": {
      "image/png": "[encoded data removed]",
      "text/plain": [
       "<Figure size 800x400 with 1 Axes>"
      ]
     },
     "metadata": {},
     "output_type": "display_data"
    },
    {
     "name": "stderr",
     "output_type": "stream",
     "text": [
      "ok\n",
      "test_visualise_value_count (__main__.TestEDA.test_visualise_value_count)\n",
      "Test the visualise_value_count method. ... "
     ]
    },
    {
     "name": "stdout",
     "output_type": "stream",
     "text": [
      "DataFrame loaded successfully from test_data.csv\n",
      "\n",
      "DataFrame head:\n"
     ]
    },
    {
     "data": {
      "application/vnd.microsoft.datawrangler.viewer.v0+json": {
       "columns": [
        {
         "name": "index",
         "rawType": "int64",
         "type": "integer"
        },
        {
         "name": "TransactionId",
         "rawType": "object",
         "type": "string"
        },
        {
         "name": "BatchId",
         "rawType": "object",
         "type": "string"
        },
        {
         "name": "AccountId",
         "rawType": "object",
         "type": "string"
        },
        {
         "name": "SubscriptionId",
         "rawType": "object",
         "type": "string"
        },
        {
         "name": "CustomerId",
         "rawType": "object",
         "type": "string"
        },
        {
         "name": "CountryCode",
         "rawType": "object",
         "type": "string"
        },
        {
         "name": "ProviderId",
         "rawType": "object",
         "type": "string"
        },
        {
         "name": "ProductId",
         "rawType": "object",
         "type": "string"
        },
        {
         "name": "ProductCategory",
         "rawType": "object",
         "type": "string"
        },
        {
         "name": "ChannelId",
         "rawType": "object",
         "type": "string"
        },
        {
         "name": "Amount",
         "rawType": "int64",
         "type": "integer"
        },
        {
         "name": "Value",
         "rawType": "int64",
         "type": "integer"
        },
        {
         "name": "TransactionStartTime",
         "rawType": "datetime64[ns]",
         "type": "datetime"
        },
        {
         "name": "PricingStrategy",
         "rawType": "int64",
         "type": "integer"
        },
        {
         "name": "FraudResult",
         "rawType": "int64",
         "type": "integer"
        }
       ],
       "ref": "c2433a60-aa9b-47b1-b265-f009a5f1e222",
       "rows": [
        [
         "0",
         "TransactionId_1",
         "BatchId_11",
         "AccountId_111",
         "SubscriptionId_1111",
         "CustomerId_11111",
         "AMZ",
         "ProviderId_1",
         "ProductId_11",
         "A",
         "ChannelId_11",
         "100",
         "100",
         "2023-01-01 00:00:00",
         "1",
         "0"
        ],
        [
         "1",
         "TransactionId_2",
         "BatchId_22",
         "AccountId_222",
         "SubscriptionId_2222",
         "CustomerId_22222",
         "AMZ",
         "ProviderId_2",
         "ProductId_12",
         "A",
         "ChannelId_12",
         "100",
         "100",
         "2023-01-02 00:00:00",
         "2",
         "1"
        ],
        [
         "2",
         "TransactionId_3",
         "BatchId_33",
         "AccountId_333",
         "SubscriptionId_3333",
         "CustomerId_33333",
         "AMZ",
         "ProviderId_3",
         "ProductId_13",
         "A",
         "ChannelId_13",
         "200",
         "200",
         "2023-01-03 00:00:00",
         "3",
         "1"
        ],
        [
         "3",
         "TransactionId_4",
         "BatchId_44",
         "AccountId_444",
         "SubscriptionId_4444",
         "CustomerId_44444",
         "AMZ",
         "ProviderId_4",
         "ProductId_14",
         "A",
         "ChannelId_14",
         "-1000",
         "1000",
         "2023-01-04 00:00:00",
         "3",
         "0"
        ],
        [
         "4",
         "TransactionId_5",
         "BatchId_55",
         "AccountId_555",
         "SubscriptionId_5555",
         "CustomerId_55555",
         "AMZ",
         "ProviderId_5",
         "ProductId_15",
         "A",
         "ChannelId_15",
         "18",
         "20",
         "2023-01-05 00:00:00",
         "2",
         "1"
        ]
       ],
       "shape": {
        "columns": 15,
        "rows": 5
       }
      },
      "text/html": [
       "<div>\n",
       "<style scoped>\n",
       "    .dataframe tbody tr th:only-of-type {\n",
       "        vertical-align: middle;\n",
       "    }\n",
       "\n",
       "    .dataframe tbody tr th {\n",
       "        vertical-align: top;\n",
       "    }\n",
       "\n",
       "    .dataframe thead th {\n",
       "        text-align: right;\n",
       "    }\n",
       "</style>\n",
       "<table border=\"1\" class=\"dataframe\">\n",
       "  <thead>\n",
       "    <tr style=\"text-align: right;\">\n",
       "      <th></th>\n",
       "      <th>TransactionId</th>\n",
       "      <th>BatchId</th>\n",
       "      <th>AccountId</th>\n",
       "      <th>SubscriptionId</th>\n",
       "      <th>CustomerId</th>\n",
       "      <th>CountryCode</th>\n",
       "      <th>ProviderId</th>\n",
       "      <th>ProductId</th>\n",
       "      <th>ProductCategory</th>\n",
       "      <th>ChannelId</th>\n",
       "      <th>Amount</th>\n",
       "      <th>Value</th>\n",
       "      <th>TransactionStartTime</th>\n",
       "      <th>PricingStrategy</th>\n",
       "      <th>FraudResult</th>\n",
       "    </tr>\n",
       "  </thead>\n",
       "  <tbody>\n",
       "    <tr>\n",
       "      <th>0</th>\n",
       "      <td>TransactionId_1</td>\n",
       "      <td>BatchId_11</td>\n",
       "      <td>AccountId_111</td>\n",
       "      <td>SubscriptionId_1111</td>\n",
       "      <td>CustomerId_11111</td>\n",
       "      <td>AMZ</td>\n",
       "      <td>ProviderId_1</td>\n",
       "      <td>ProductId_11</td>\n",
       "      <td>A</td>\n",
       "      <td>ChannelId_11</td>\n",
       "      <td>100</td>\n",
       "      <td>100</td>\n",
       "      <td>2023-01-01</td>\n",
       "      <td>1</td>\n",
       "      <td>0</td>\n",
       "    </tr>\n",
       "    <tr>\n",
       "      <th>1</th>\n",
       "      <td>TransactionId_2</td>\n",
       "      <td>BatchId_22</td>\n",
       "      <td>AccountId_222</td>\n",
       "      <td>SubscriptionId_2222</td>\n",
       "      <td>CustomerId_22222</td>\n",
       "      <td>AMZ</td>\n",
       "      <td>ProviderId_2</td>\n",
       "      <td>ProductId_12</td>\n",
       "      <td>A</td>\n",
       "      <td>ChannelId_12</td>\n",
       "      <td>100</td>\n",
       "      <td>100</td>\n",
       "      <td>2023-01-02</td>\n",
       "      <td>2</td>\n",
       "      <td>1</td>\n",
       "    </tr>\n",
       "    <tr>\n",
       "      <th>2</th>\n",
       "      <td>TransactionId_3</td>\n",
       "      <td>BatchId_33</td>\n",
       "      <td>AccountId_333</td>\n",
       "      <td>SubscriptionId_3333</td>\n",
       "      <td>CustomerId_33333</td>\n",
       "      <td>AMZ</td>\n",
       "      <td>ProviderId_3</td>\n",
       "      <td>ProductId_13</td>\n",
       "      <td>A</td>\n",
       "      <td>ChannelId_13</td>\n",
       "      <td>200</td>\n",
       "      <td>200</td>\n",
       "      <td>2023-01-03</td>\n",
       "      <td>3</td>\n",
       "      <td>1</td>\n",
       "    </tr>\n",
       "    <tr>\n",
       "      <th>3</th>\n",
       "      <td>TransactionId_4</td>\n",
       "      <td>BatchId_44</td>\n",
       "      <td>AccountId_444</td>\n",
       "      <td>SubscriptionId_4444</td>\n",
       "      <td>CustomerId_44444</td>\n",
       "      <td>AMZ</td>\n",
       "      <td>ProviderId_4</td>\n",
       "      <td>ProductId_14</td>\n",
       "      <td>A</td>\n",
       "      <td>ChannelId_14</td>\n",
       "      <td>-1000</td>\n",
       "      <td>1000</td>\n",
       "      <td>2023-01-04</td>\n",
       "      <td>3</td>\n",
       "      <td>0</td>\n",
       "    </tr>\n",
       "    <tr>\n",
       "      <th>4</th>\n",
       "      <td>TransactionId_5</td>\n",
       "      <td>BatchId_55</td>\n",
       "      <td>AccountId_555</td>\n",
       "      <td>SubscriptionId_5555</td>\n",
       "      <td>CustomerId_55555</td>\n",
       "      <td>AMZ</td>\n",
       "      <td>ProviderId_5</td>\n",
       "      <td>ProductId_15</td>\n",
       "      <td>A</td>\n",
       "      <td>ChannelId_15</td>\n",
       "      <td>18</td>\n",
       "      <td>20</td>\n",
       "      <td>2023-01-05</td>\n",
       "      <td>2</td>\n",
       "      <td>1</td>\n",
       "    </tr>\n",
       "  </tbody>\n",
       "</table>\n",
       "</div>"
      ],
      "text/plain": [
       "     TransactionId     BatchId      AccountId       SubscriptionId  \\\n",
       "0  TransactionId_1  BatchId_11  AccountId_111  SubscriptionId_1111   \n",
       "1  TransactionId_2  BatchId_22  AccountId_222  SubscriptionId_2222   \n",
       "2  TransactionId_3  BatchId_33  AccountId_333  SubscriptionId_3333   \n",
       "3  TransactionId_4  BatchId_44  AccountId_444  SubscriptionId_4444   \n",
       "4  TransactionId_5  BatchId_55  AccountId_555  SubscriptionId_5555   \n",
       "\n",
       "         CustomerId CountryCode    ProviderId     ProductId ProductCategory  \\\n",
       "0  CustomerId_11111         AMZ  ProviderId_1  ProductId_11               A   \n",
       "1  CustomerId_22222         AMZ  ProviderId_2  ProductId_12               A   \n",
       "2  CustomerId_33333         AMZ  ProviderId_3  ProductId_13               A   \n",
       "3  CustomerId_44444         AMZ  ProviderId_4  ProductId_14               A   \n",
       "4  CustomerId_55555         AMZ  ProviderId_5  ProductId_15               A   \n",
       "\n",
       "      ChannelId  Amount  Value TransactionStartTime  PricingStrategy  \\\n",
       "0  ChannelId_11     100    100           2023-01-01                1   \n",
       "1  ChannelId_12     100    100           2023-01-02                2   \n",
       "2  ChannelId_13     200    200           2023-01-03                3   \n",
       "3  ChannelId_14   -1000   1000           2023-01-04                3   \n",
       "4  ChannelId_15      18     20           2023-01-05                2   \n",
       "\n",
       "   FraudResult  \n",
       "0            0  \n",
       "1            1  \n",
       "2            1  \n",
       "3            0  \n",
       "4            1  "
      ]
     },
     "metadata": {},
     "output_type": "display_data"
    },
    {
     "name": "stdout",
     "output_type": "stream",
     "text": [
      "\n",
      "DataFrame shape:\n"
     ]
    },
    {
     "data": {
      "text/plain": [
       "(10, 15)"
      ]
     },
     "metadata": {},
     "output_type": "display_data"
    },
    {
     "name": "stdout",
     "output_type": "stream",
     "text": [
      "\n",
      "DataFrame columns:\n"
     ]
    },
    {
     "data": {
      "text/plain": [
       "Index(['TransactionId', 'BatchId', 'AccountId', 'SubscriptionId', 'CustomerId',\n",
       "       'CountryCode', 'ProviderId', 'ProductId', 'ProductCategory',\n",
       "       'ChannelId', 'Amount', 'Value', 'TransactionStartTime',\n",
       "       'PricingStrategy', 'FraudResult'],\n",
       "      dtype='object')"
      ]
     },
     "metadata": {},
     "output_type": "display_data"
    },
    {
     "name": "stdout",
     "output_type": "stream",
     "text": [
      "\n",
      "DataFrame summary:\n",
      "<class 'pandas.core.frame.DataFrame'>\n",
      "RangeIndex: 10 entries, 0 to 9\n",
      "Data columns (total 15 columns):\n",
      " #   Column                Non-Null Count  Dtype         \n",
      "---  ------                --------------  -----         \n",
      " 0   TransactionId         10 non-null     object        \n",
      " 1   BatchId               10 non-null     object        \n",
      " 2   AccountId             10 non-null     object        \n",
      " 3   SubscriptionId        10 non-null     object        \n",
      " 4   CustomerId            10 non-null     object        \n",
      " 5   CountryCode           10 non-null     object        \n",
      " 6   ProviderId            10 non-null     object        \n",
      " 7   ProductId             10 non-null     object        \n",
      " 8   ProductCategory       10 non-null     object        \n",
      " 9   ChannelId             10 non-null     object        \n",
      " 10  Amount                10 non-null     int64         \n",
      " 11  Value                 10 non-null     int64         \n",
      " 12  TransactionStartTime  10 non-null     datetime64[ns]\n",
      " 13  PricingStrategy       10 non-null     int64         \n",
      " 14  FraudResult           10 non-null     int64         \n",
      "dtypes: datetime64[ns](1), int64(4), object(10)\n",
      "memory usage: 1.3+ KB\n",
      "There are no columns with missing values\n",
      "Visualising value count for categorical features ...\n",
      "\n",
      "\n",
      "Plot saved to test_plots\\Frequency Distribution of 'FraudResult'.png\n"
     ]
    },
    {
     "data": {
      "image/png": "[encoded data removed]",
      "text/plain": [
       "<Figure size 900x600 with 1 Axes>"
      ]
     },
     "metadata": {},
     "output_type": "display_data"
    },
    {
     "name": "stdout",
     "output_type": "stream",
     "text": [
      "\n",
      "Plot saved to test_plots\\Frequency Distribution of 'PricingStrategy'.png\n"
     ]
    },
    {
     "data": {
      "image/png": "[encoded data removed]",
      "text/plain": [
       "<Figure size 900x600 with 1 Axes>"
      ]
     },
     "metadata": {},
     "output_type": "display_data"
    },
    {
     "name": "stderr",
     "output_type": "stream",
     "text": [
      "ok\n",
      "\n",
      "======================================================================\n",
      "FAIL: test_classify_columns (__main__.TestEDA.test_classify_columns)\n",
      "Test the classify_columns method.\n",
      "----------------------------------------------------------------------\n",
      "Traceback (most recent call last):\n",
      "  File \"C:\\Users\\nuhamin\\AppData\\Local\\Temp\\ipykernel_19916\\816991685.py\", line 91, in test_classify_columns\n",
      "    self.assertIn('ProductCategory', self.eda.cat_cols) # Use actual column name\n",
      "    ~~~~~~~~~~~~~^^^^^^^^^^^^^^^^^^^^^^^^^^^^^^^^^^^^^^\n",
      "AssertionError: 'ProductCategory' not found in ['CountryCode', 'FraudResult', 'PricingStrategy']\n",
      "\n",
      "----------------------------------------------------------------------\n",
      "Ran 11 tests in 2.011s\n",
      "\n",
      "FAILED (failures=1)\n"
     ]
    }
   ],
   "source": [
    "import unittest\n",
    "import os, sys\n",
    "import pandas as pd\n",
    "import numpy as np\n",
    "import matplotlib.pyplot as plt\n",
    "import seaborn as sns\n",
    "\n",
    "# Define path\n",
    "sys.path.append(os.path.abspath(os.path.join('..')))\n",
    "\n",
    "# Import custom modules\n",
    "from scripts._01_EDA import EDA\n",
    "\n",
    "class TestEDA(unittest.TestCase):\n",
    "\n",
    "    def setUp(self):\n",
    "        \"\"\"Set up test environment before each test method.\"\"\"\n",
    "        # Create a dummy CSV file for testing\n",
    "        self.dummy_data = {\n",
    "            'TransactionId': ['TransactionId_1', 'TransactionId_2', 'TransactionId_3',\n",
    "                            'TransactionId_4', 'TransactionId_5', 'TransactionId_6', 'TransactionId_7',\n",
    "                            'TransactionId_8', 'TransactionId_9', 'TransactionId_10'],\n",
    "            'BatchId': ['BatchId_11', 'BatchId_22', 'BatchId_33', 'BatchId_44', 'BatchId_55',\n",
    "                        'BatchId_66', 'BatchId_77', 'BatchId_88', 'BatchId_99', 'BatchId_1010'],\n",
    "            'AccountId': ['AccountId_111', 'AccountId_222', 'AccountId_333',\n",
    "                            'AccountId_444', 'AccountId_555', 'AccountId_666',\n",
    "                            'AccountId_777', 'AccountId_888', 'AccountId_999', 'AccountId_101010'],\n",
    "            'SubscriptionId': ['SubscriptionId_1111', 'SubscriptionId_2222', 'SubscriptionId_3333',\n",
    "                            'SubscriptionId_4444', 'SubscriptionId_5555', 'SubscriptionId_6666',\n",
    "                            'SubscriptionId_7777', 'SubscriptionId_8888', 'SubscriptionId_9999', 'SubscriptionId_10101010'],\n",
    "            'CustomerId': ['CustomerId_11111', 'CustomerId_22222', 'CustomerId_33333',\n",
    "                            'CustomerId_44444', 'CustomerId_55555', 'CustomerId_66666',\n",
    "                            'CustomerId_77777', 'CustomerId_88888', 'CustomerId_99999', 'CustomerId_1010101010'],\n",
    "            'CountryCode': ['AMZ']*10,\n",
    "            'ProviderId': ['ProviderId_1','ProviderId_2', 'ProviderId_3', 'ProviderId_4', 'ProviderId_5',\n",
    "                            'ProviderId_1','ProviderId_2', 'ProviderId_3', 'ProviderId_4', 'ProviderId_5'],\n",
    "            'ProductId': ['ProductId_11','ProductId_12', 'ProductId_13', 'ProductId_14', 'ProductId_15',\n",
    "                            'ProductId_11','ProductId_12', 'ProductId_13', 'ProductId_14', 'ProductId_15'],\n",
    "            'ProductCategory': ['A'] * 10,\n",
    "            'ChannelId': ['ChannelId_11','ChannelId_12', 'ChannelId_13', 'ChannelId_14', 'ChannelId_15',\n",
    "                            'ChannelId_11','ChannelId_12', 'ChannelId_13', 'ChannelId_14', 'ChannelId_15'],\n",
    "            'Amount': [100, 100, 200, -1000, 18, 0, 500, 900, 2000, -10],\n",
    "            'Value': [100, 100, 200, 1000, 20, 0, 500, 900, 2000, 10],\n",
    "            'TransactionStartTime': pd.to_datetime(['2023-01-01', '2023-01-02','2023-01-03', '2023-01-04', '2023-01-05',\n",
    "                                                    '2023-01-06', '2023-01-07', '2023-01-08', '2023-01-09', '2023-01-10']),\n",
    "            'PricingStrategy': [1, 2, 3, 3, 2, 1, 1, 2, 3, 1],\n",
    "            'FraudResult': [0, 1, 1, 0, 1, 0, 1, 1, 0, 0]\n",
    "        }\n",
    "        self.dummy_df = pd.DataFrame(self.dummy_data)\n",
    "        self.dummy_file_path = 'test_data.csv'\n",
    "        self.dummy_df.to_csv(self.dummy_file_path, index=False)\n",
    "\n",
    "        self.output_folder = 'test_output'\n",
    "        os.makedirs(self.output_folder, exist_ok=True)\n",
    "\n",
    "        self.eda = EDA(self.dummy_file_path, plot_path='test_plots', df_dir='test_processed_data')\n",
    "        self.eda.missing_values() # Clean missing values as a prerequisite for other tests\n",
    "\n",
    "    def tearDown(self):\n",
    "        \"\"\"Clean up test environment after each test method.\"\"\"\n",
    "        # Remove dummy CSV file\n",
    "        if os.path.exists(self.dummy_file_path):\n",
    "            os.remove(self.dummy_file_path)\n",
    "\n",
    "        # Remove plot directory if it exists and is empty\n",
    "        if os.path.exists('test_plots'):\n",
    "            # If not empty, remove contents and then directory\n",
    "            for file in os.listdir('test_plots'):\n",
    "                os.remove(os.path.join('test_plots', file))\n",
    "            os.rmdir('test_plots')\n",
    "\n",
    "        # Remove processed data directory if it exists and is empty\n",
    "        if os.path.exists('test_processed_data'):\n",
    "            # If not empty, remove contents and then directory\n",
    "            for file in os.listdir('test_processed_data'):\n",
    "                os.remove(os.path.join('test_processed_data', file))\n",
    "            os.rmdir('test_processed_data')\n",
    "\n",
    "    def test_load_df(self):\n",
    "        \"\"\"Test the load_df method.\"\"\"\n",
    "        self.assertIsNotNone(self.eda.df_raw)\n",
    "        self.assertIsInstance(self.eda.df_raw, pd.DataFrame)\n",
    "        self.assertEqual(self.eda.df_raw.shape, (10, 15)) # Check the shape of the loaded DataFrame\n",
    "\n",
    "    def test_classify_columns(self):\n",
    "        \"\"\"Test the classify_columns method.\"\"\"\n",
    "        self.eda.classify_columns()\n",
    "        self.assertIsInstance(self.eda.num_cols, list)\n",
    "        self.assertIsInstance(self.eda.cat_cols, list)\n",
    "        self.assertIn('Amount', self.eda.num_cols) # Use actual column name\n",
    "        self.assertIn('ProductCategory', self.eda.cat_cols) # Use actual column name\n",
    "        self.assertIn('CountryCode', self.eda.cat_cols) # CountryCode is treated as categorical\n",
    "\n",
    "    def test_missing_values(self):\n",
    "        \"\"\"Test the missing_values method.\"\"\"\n",
    "        # missing_values is already called in setUp\n",
    "        self.assertEqual(self.eda.df.isnull().sum().sum(), 0)\n",
    "\n",
    "    def test_summary_statistics(self):\n",
    "        \"\"\"Test the summary_statistics method.\"\"\"\n",
    "        # Capturing print output is complex, assert that the method runs without error\n",
    "        try:\n",
    "            self.eda.summary_statistics()\n",
    "            method_ran = True\n",
    "        except Exception as e:\n",
    "            method_ran = False\n",
    "            print(f\"Error during summary_statistics test: {e}\")\n",
    "        self.assertTrue(method_ran)\n",
    "\n",
    "    def test_save_plot(self):\n",
    "        \"\"\"Test the save_plot method.\"\"\"\n",
    "        plt.figure()\n",
    "        plt.plot([1, 2, 3], [4, 5, 6])\n",
    "        self.eda.save_plot('test_plot.png')\n",
    "        self.assertTrue(os.path.exists('test_plots/test_plot.png'))\n",
    "        plt.close() # Close the figure to free up memory\n",
    "\n",
    "    def test_remove_outliers_iqr_zscore(self):\n",
    "        \"\"\"Test the remove_outliers_iqr_zscore method.\"\"\"\n",
    "        # Introduce an outlier for testing\n",
    "        outlier_df = self.eda.df.copy()\n",
    "        outlier_df.loc[0, 'Amount'] = 10000 # Use actual column name\n",
    "        self.eda.df = outlier_df # Temporarily replace the df with one containing an outlier\n",
    "        df_after_outlier_removal = self.eda.remove_outliers_iqr_zscore('Amount') # Use actual column name\n",
    "        self.assertLess(df_after_outlier_removal.shape[0], self.eda.df.shape[0])\n",
    "        self.eda.df = self.eda.df_raw.copy() # Restore the original df\n",
    "\n",
    "    def test_visualise_distribution(self):\n",
    "        \"\"\"Test the visualise_distribution method.\"\"\"\n",
    "        # Ensure num_cols is populated before visualizing\n",
    "        self.eda.classify_columns()\n",
    "        self.eda.visualise_distribution()\n",
    "        for col in self.eda.num_cols:\n",
    "            self.assertTrue(os.path.exists(f'test_plots/Distribution of {col}.png'))\n",
    "\n",
    "    def test_visualise_value_count(self):\n",
    "        \"\"\"Test the visualise_value_count method.\"\"\"\n",
    "        # Ensure cat_cols is populated before visualizing\n",
    "        self.eda.classify_columns()\n",
    "        self.eda.visualise_value_count()\n",
    "        valid_cat_cols = [col for col in self.eda.cat_cols if self.eda.df[col].nunique() > 1]\n",
    "        for col in valid_cat_cols:\n",
    "            self.assertTrue(os.path.exists(f\"test_plots/Frequency Distribution of '{col}'.png\"))\n",
    "\n",
    "    def test_correlation_analysis(self):\n",
    "        \"\"\"Test the correlation_analysis method.\"\"\"\n",
    "        # Ensure num_cols is populated before correlation analysis\n",
    "        self.eda.classify_columns()\n",
    "        self.eda.correlation_analysis()\n",
    "        self.assertTrue(os.path.exists('test_plots/Correlation Matrix of Numerical Features.png'))\n",
    "\n",
    "    def test_detect_outliers(self):\n",
    "        \"\"\"Test the detect_outliers method.\"\"\"\n",
    "        # Ensure num_cols is populated before outlier detection\n",
    "        self.eda.classify_columns()\n",
    "        self.eda.detect_outliers()\n",
    "        for col in self.eda.num_cols:\n",
    "            self.assertTrue(os.path.exists(f'test_plots/Outlier Detection for {col}.png'))\n",
    "            self.assertTrue(os.path.exists(f'test_plots/Post-Outlier Distribution of {col}.png'))\n",
    "\n",
    "    def test_save_df(self):\n",
    "        \"\"\"Test the save_df method.\"\"\"\n",
    "        # Need a df_out to save, simulate outlier removal\n",
    "        self.eda.classify_columns()\n",
    "        if 'Amount' in self.eda.num_cols:\n",
    "            self.eda.df_out = self.eda.remove_outliers_iqr_zscore('Amount') # Use actual column name\n",
    "            self.eda.save_df('processed_test_data.csv')\n",
    "            self.assertTrue(os.path.exists('test_processed_data/processed_test_data.csv'))\n",
    "            # Verify it's a valid CSV\n",
    "            try:\n",
    "                pd.read_csv('test_processed_data/processed_test_data.csv')\n",
    "                is_valid_csv = True\n",
    "            except Exception as e:\n",
    "                is_valid_csv = False\n",
    "                print(f\"Error reading saved CSV: {e}\")\n",
    "            self.assertTrue(is_valid_csv)\n",
    "        else:\n",
    "            print(\"Skipping test_save_df as 'Amount' is not in numerical columns.\")\n",
    "\n",
    "# Run class\n",
    "if __name__ == '__main__':\n",
    "    unittest.main(argv=['first-arg-is-ignored'], exit=False, verbosity=2)"
   ]
  }
 ],
 "metadata": {
  "kernelspec": {
   "display_name": ".credvenv",
   "language": "python",
   "name": "python3"
  },
  "language_info": {
   "codemirror_mode": {
    "name": "ipython",
    "version": 3
   },
   "file_extension": ".py",
   "mimetype": "text/x-python",
   "name": "python",
   "nbconvert_exporter": "python",
   "pygments_lexer": "ipython3",
   "version": "3.13.3"
  }
 },
 "nbformat": 4,
 "nbformat_minor": 5
}
