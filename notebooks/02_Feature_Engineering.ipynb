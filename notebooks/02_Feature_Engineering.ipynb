{
 "cells": [
  {
   "cell_type": "markdown",
   "id": "8b12d89a",
   "metadata": {},
   "source": [
    "# **Import Modules**"
   ]
  },
  {
   "cell_type": "markdown",
   "id": "c395279d",
   "metadata": {},
   "source": [
    "## *python*"
   ]
  },
  {
   "cell_type": "code",
   "execution_count": 1,
   "id": "894bfd26",
   "metadata": {},
   "outputs": [],
   "source": [
    "# Import python modules\n",
    "import os,sys\n",
    "import pandas as pd"
   ]
  },
  {
   "cell_type": "markdown",
   "id": "ed587e6b",
   "metadata": {},
   "source": [
    "## *custom*"
   ]
  },
  {
   "cell_type": "code",
   "execution_count": 2,
   "id": "20901803",
   "metadata": {},
   "outputs": [],
   "source": [
    "# Import customised modules\n",
    "\n",
    "# Define path\n",
    "sys.path.append(os.path.abspath(os.path.join('..')))\n",
    "\n",
    "##import relevant modules\n",
    "try:\n",
    "    from scripts._02_Feature_Engineering import FraudDetectionPipeline\n",
    "\n",
    "except ImportError:\n",
    "    print('Could not import module from `scripts/`.')"
   ]
  },
  {
   "cell_type": "markdown",
   "id": "afca0389",
   "metadata": {},
   "source": [
    "# **Feature Engineering and Fraud Detection Pipeline**"
   ]
  },
  {
   "cell_type": "code",
   "execution_count": 3,
   "id": "12323afa",
   "metadata": {},
   "outputs": [],
   "source": [
    "# Define DataFrame path\n",
    "df_path = os.path.join(os.path.dirname(os.getcwd()), 'data/processed/processed_data.csv')\n",
    "plot_path = os.path.join(os.path.dirname(os.getcwd()), 'plots/featureengineering')\n",
    "df_dir = os.path.join(os.path.dirname(os.getcwd()), 'data','processed')\n",
    "mdl_dir = os.path.join(os.path.dirname(os.getcwd()), 'models')"
   ]
  },
  {
   "cell_type": "code",
   "execution_count": 4,
   "id": "66586e39",
   "metadata": {},
   "outputs": [
    {
     "name": "stdout",
     "output_type": "stream",
     "text": [
      "Data loaded, split, aggregated, and categorical NAs filled.\n",
      "\n",
      "Processed DataFrame saved to: ..\\data\\processed\\feature_engineering_data.csv\n",
      "\n",
      "DataFrame Head:\n"
     ]
    },
    {
     "data": {
      "application/vnd.microsoft.datawrangler.viewer.v0+json": {
       "columns": [
        {
         "name": "index",
         "rawType": "int64",
         "type": "integer"
        },
        {
         "name": "ProviderId",
         "rawType": "object",
         "type": "string"
        },
        {
         "name": "ProductId",
         "rawType": "object",
         "type": "string"
        },
        {
         "name": "ProductCategory",
         "rawType": "object",
         "type": "string"
        },
        {
         "name": "ChannelId",
         "rawType": "object",
         "type": "string"
        },
        {
         "name": "Amount",
         "rawType": "float64",
         "type": "float"
        },
        {
         "name": "Value",
         "rawType": "int64",
         "type": "integer"
        },
        {
         "name": "PricingStrategy",
         "rawType": "int64",
         "type": "integer"
        },
        {
         "name": "FraudResult",
         "rawType": "int64",
         "type": "integer"
        },
        {
         "name": "txn_hour",
         "rawType": "int32",
         "type": "integer"
        },
        {
         "name": "txn_day",
         "rawType": "int32",
         "type": "integer"
        },
        {
         "name": "txn_month",
         "rawType": "int32",
         "type": "integer"
        },
        {
         "name": "txn_year",
         "rawType": "int32",
         "type": "integer"
        },
        {
         "name": "total_txn_amount",
         "rawType": "float64",
         "type": "float"
        },
        {
         "name": "avg_txn_amount",
         "rawType": "float64",
         "type": "float"
        },
        {
         "name": "txn_count",
         "rawType": "int64",
         "type": "integer"
        },
        {
         "name": "std_txn_amount",
         "rawType": "float64",
         "type": "float"
        }
       ],
       "ref": "7fbde2a2-9503-42a4-9367-d4631cea9633",
       "rows": [
        [
         "0",
         "ProviderId_6",
         "ProductId_10",
         "airtime",
         "ChannelId_3",
         "1000.0",
         "1000",
         "2",
         "0",
         "2",
         "15",
         "11",
         "2018",
         "109921.75",
         "923.7121848739496",
         "119",
         "3042.2942512284867"
        ],
        [
         "1",
         "ProviderId_4",
         "ProductId_6",
         "financial_services",
         "ChannelId_2",
         "-20.0",
         "20",
         "2",
         "0",
         "2",
         "15",
         "11",
         "2018",
         "109921.75",
         "923.7121848739496",
         "119",
         "3042.2942512284867"
        ],
        [
         "2",
         "ProviderId_6",
         "ProductId_1",
         "airtime",
         "ChannelId_3",
         "500.0",
         "500",
         "2",
         "0",
         "2",
         "15",
         "11",
         "2018",
         "1000.0",
         "500.0",
         "2",
         "0.0"
        ],
        [
         "3",
         "ProviderId_1",
         "ProductId_21",
         "utility_bill",
         "ChannelId_3",
         "20000.0",
         "1000",
         "2",
         "0",
         "3",
         "15",
         "11",
         "2018",
         "228727.2",
         "6019.136842105264",
         "38",
         "17169.241609853503"
        ],
        [
         "4",
         "ProviderId_4",
         "ProductId_6",
         "financial_services",
         "ChannelId_2",
         "-644.0",
         "644",
         "2",
         "0",
         "3",
         "15",
         "11",
         "2018",
         "228727.2",
         "6019.136842105264",
         "38",
         "17169.241609853503"
        ]
       ],
       "shape": {
        "columns": 16,
        "rows": 5
       }
      },
      "text/html": [
       "<div>\n",
       "<style scoped>\n",
       "    .dataframe tbody tr th:only-of-type {\n",
       "        vertical-align: middle;\n",
       "    }\n",
       "\n",
       "    .dataframe tbody tr th {\n",
       "        vertical-align: top;\n",
       "    }\n",
       "\n",
       "    .dataframe thead th {\n",
       "        text-align: right;\n",
       "    }\n",
       "</style>\n",
       "<table border=\"1\" class=\"dataframe\">\n",
       "  <thead>\n",
       "    <tr style=\"text-align: right;\">\n",
       "      <th></th>\n",
       "      <th>ProviderId</th>\n",
       "      <th>ProductId</th>\n",
       "      <th>ProductCategory</th>\n",
       "      <th>ChannelId</th>\n",
       "      <th>Amount</th>\n",
       "      <th>Value</th>\n",
       "      <th>PricingStrategy</th>\n",
       "      <th>FraudResult</th>\n",
       "      <th>txn_hour</th>\n",
       "      <th>txn_day</th>\n",
       "      <th>txn_month</th>\n",
       "      <th>txn_year</th>\n",
       "      <th>total_txn_amount</th>\n",
       "      <th>avg_txn_amount</th>\n",
       "      <th>txn_count</th>\n",
       "      <th>std_txn_amount</th>\n",
       "    </tr>\n",
       "  </thead>\n",
       "  <tbody>\n",
       "    <tr>\n",
       "      <th>0</th>\n",
       "      <td>ProviderId_6</td>\n",
       "      <td>ProductId_10</td>\n",
       "      <td>airtime</td>\n",
       "      <td>ChannelId_3</td>\n",
       "      <td>1000.0</td>\n",
       "      <td>1000</td>\n",
       "      <td>2</td>\n",
       "      <td>0</td>\n",
       "      <td>2</td>\n",
       "      <td>15</td>\n",
       "      <td>11</td>\n",
       "      <td>2018</td>\n",
       "      <td>109921.75</td>\n",
       "      <td>923.712185</td>\n",
       "      <td>119</td>\n",
       "      <td>3042.294251</td>\n",
       "    </tr>\n",
       "    <tr>\n",
       "      <th>1</th>\n",
       "      <td>ProviderId_4</td>\n",
       "      <td>ProductId_6</td>\n",
       "      <td>financial_services</td>\n",
       "      <td>ChannelId_2</td>\n",
       "      <td>-20.0</td>\n",
       "      <td>20</td>\n",
       "      <td>2</td>\n",
       "      <td>0</td>\n",
       "      <td>2</td>\n",
       "      <td>15</td>\n",
       "      <td>11</td>\n",
       "      <td>2018</td>\n",
       "      <td>109921.75</td>\n",
       "      <td>923.712185</td>\n",
       "      <td>119</td>\n",
       "      <td>3042.294251</td>\n",
       "    </tr>\n",
       "    <tr>\n",
       "      <th>2</th>\n",
       "      <td>ProviderId_6</td>\n",
       "      <td>ProductId_1</td>\n",
       "      <td>airtime</td>\n",
       "      <td>ChannelId_3</td>\n",
       "      <td>500.0</td>\n",
       "      <td>500</td>\n",
       "      <td>2</td>\n",
       "      <td>0</td>\n",
       "      <td>2</td>\n",
       "      <td>15</td>\n",
       "      <td>11</td>\n",
       "      <td>2018</td>\n",
       "      <td>1000.00</td>\n",
       "      <td>500.000000</td>\n",
       "      <td>2</td>\n",
       "      <td>0.000000</td>\n",
       "    </tr>\n",
       "    <tr>\n",
       "      <th>3</th>\n",
       "      <td>ProviderId_1</td>\n",
       "      <td>ProductId_21</td>\n",
       "      <td>utility_bill</td>\n",
       "      <td>ChannelId_3</td>\n",
       "      <td>20000.0</td>\n",
       "      <td>1000</td>\n",
       "      <td>2</td>\n",
       "      <td>0</td>\n",
       "      <td>3</td>\n",
       "      <td>15</td>\n",
       "      <td>11</td>\n",
       "      <td>2018</td>\n",
       "      <td>228727.20</td>\n",
       "      <td>6019.136842</td>\n",
       "      <td>38</td>\n",
       "      <td>17169.241610</td>\n",
       "    </tr>\n",
       "    <tr>\n",
       "      <th>4</th>\n",
       "      <td>ProviderId_4</td>\n",
       "      <td>ProductId_6</td>\n",
       "      <td>financial_services</td>\n",
       "      <td>ChannelId_2</td>\n",
       "      <td>-644.0</td>\n",
       "      <td>644</td>\n",
       "      <td>2</td>\n",
       "      <td>0</td>\n",
       "      <td>3</td>\n",
       "      <td>15</td>\n",
       "      <td>11</td>\n",
       "      <td>2018</td>\n",
       "      <td>228727.20</td>\n",
       "      <td>6019.136842</td>\n",
       "      <td>38</td>\n",
       "      <td>17169.241610</td>\n",
       "    </tr>\n",
       "  </tbody>\n",
       "</table>\n",
       "</div>"
      ],
      "text/plain": [
       "     ProviderId     ProductId     ProductCategory    ChannelId   Amount  Value  PricingStrategy  FraudResult  txn_hour  txn_day  txn_month  txn_year  total_txn_amount  avg_txn_amount  txn_count  std_txn_amount\n",
       "0  ProviderId_6  ProductId_10             airtime  ChannelId_3   1000.0   1000                2            0         2       15         11      2018         109921.75      923.712185        119     3042.294251\n",
       "1  ProviderId_4   ProductId_6  financial_services  ChannelId_2    -20.0     20                2            0         2       15         11      2018         109921.75      923.712185        119     3042.294251\n",
       "2  ProviderId_6   ProductId_1             airtime  ChannelId_3    500.0    500                2            0         2       15         11      2018           1000.00      500.000000          2        0.000000\n",
       "3  ProviderId_1  ProductId_21        utility_bill  ChannelId_3  20000.0   1000                2            0         3       15         11      2018         228727.20     6019.136842         38    17169.241610\n",
       "4  ProviderId_4   ProductId_6  financial_services  ChannelId_2   -644.0    644                2            0         3       15         11      2018         228727.20     6019.136842         38    17169.241610"
      ]
     },
     "metadata": {},
     "output_type": "display_data"
    },
    {
     "name": "stdout",
     "output_type": "stream",
     "text": [
      "\n",
      "DataFrame Description:\n"
     ]
    },
    {
     "data": {
      "application/vnd.microsoft.datawrangler.viewer.v0+json": {
       "columns": [
        {
         "name": "index",
         "rawType": "object",
         "type": "string"
        },
        {
         "name": "Amount",
         "rawType": "float64",
         "type": "float"
        },
        {
         "name": "Value",
         "rawType": "float64",
         "type": "float"
        },
        {
         "name": "PricingStrategy",
         "rawType": "float64",
         "type": "float"
        },
        {
         "name": "FraudResult",
         "rawType": "float64",
         "type": "float"
        },
        {
         "name": "txn_hour",
         "rawType": "float64",
         "type": "float"
        },
        {
         "name": "txn_day",
         "rawType": "float64",
         "type": "float"
        },
        {
         "name": "txn_month",
         "rawType": "float64",
         "type": "float"
        },
        {
         "name": "txn_year",
         "rawType": "float64",
         "type": "float"
        },
        {
         "name": "total_txn_amount",
         "rawType": "float64",
         "type": "float"
        },
        {
         "name": "avg_txn_amount",
         "rawType": "float64",
         "type": "float"
        },
        {
         "name": "txn_count",
         "rawType": "float64",
         "type": "float"
        },
        {
         "name": "std_txn_amount",
         "rawType": "float64",
         "type": "float"
        }
       ],
       "ref": "4fa2ce75-970c-4138-9ccf-90424e144f35",
       "rows": [
        [
         "count",
         "95662.0",
         "95662.0",
         "95662.0",
         "95662.0",
         "95662.0",
         "95662.0",
         "95662.0",
         "95662.0",
         "95662.0",
         "95662.0",
         "95662.0",
         "94950.0"
        ],
        [
         "mean",
         "6717.846433275491",
         "2358.107524408856",
         "2.25597415901821",
         "0.00201752001839811",
         "12.447722188538814",
         "15.902897702326943",
         "6.566233196044406",
         "2018.497114841839",
         "-3599090.254259163",
         "6717.846433275491",
         "392.9829817482386",
         "18036.958256229096"
        ],
        [
         "std",
         "123306.79716433848",
         "3116.8395238494936",
         "0.7329241094855721",
         "0.04487171357472356",
         "4.846964479171279",
         "8.96282230185375",
         "5.224310476667348",
         "0.4999942891379733",
         "21802706.284769423",
         "85683.52488527559",
         "878.6310716354266",
         "89295.7048645468"
        ],
        [
         "min",
         "-1000000.0",
         "2.0",
         "0.0",
         "0.0",
         "0.0",
         "1.0",
         "1.0",
         "2018.0",
         "-104900000.0",
         "-425000.0",
         "1.0",
         "0.0"
        ],
        [
         "25%",
         "-50.0",
         "275.0",
         "2.0",
         "0.0",
         "8.0",
         "8.0",
         "1.0",
         "2018.0",
         "60000.0",
         "1260.8119904076739",
         "32.0",
         "3206.5632617289157"
        ],
        [
         "50%",
         "1000.0",
         "1000.0",
         "2.0",
         "0.0",
         "13.0",
         "16.0",
         "11.0",
         "2018.0",
         "201511.3",
         "2272.9505141388177",
         "93.0",
         "5896.326540030383"
        ],
        [
         "75%",
         "2800.0",
         "3000.0",
         "2.0",
         "0.0",
         "17.0",
         "24.0",
         "12.0",
         "2019.0",
         "708936.0",
         "4080.46357615894",
         "273.0",
         "10382.687289481062"
        ],
        [
         "max",
         "9880000.0",
         "12050.0",
         "4.0",
         "1.0",
         "23.0",
         "31.0",
         "12.0",
         "2019.0",
         "83451240.0",
         "8601821.142857144",
         "4091.0",
         "3309916.123615392"
        ]
       ],
       "shape": {
        "columns": 12,
        "rows": 8
       }
      },
      "text/html": [
       "<div>\n",
       "<style scoped>\n",
       "    .dataframe tbody tr th:only-of-type {\n",
       "        vertical-align: middle;\n",
       "    }\n",
       "\n",
       "    .dataframe tbody tr th {\n",
       "        vertical-align: top;\n",
       "    }\n",
       "\n",
       "    .dataframe thead th {\n",
       "        text-align: right;\n",
       "    }\n",
       "</style>\n",
       "<table border=\"1\" class=\"dataframe\">\n",
       "  <thead>\n",
       "    <tr style=\"text-align: right;\">\n",
       "      <th></th>\n",
       "      <th>Amount</th>\n",
       "      <th>Value</th>\n",
       "      <th>PricingStrategy</th>\n",
       "      <th>FraudResult</th>\n",
       "      <th>txn_hour</th>\n",
       "      <th>txn_day</th>\n",
       "      <th>txn_month</th>\n",
       "      <th>txn_year</th>\n",
       "      <th>total_txn_amount</th>\n",
       "      <th>avg_txn_amount</th>\n",
       "      <th>txn_count</th>\n",
       "      <th>std_txn_amount</th>\n",
       "    </tr>\n",
       "  </thead>\n",
       "  <tbody>\n",
       "    <tr>\n",
       "      <th>count</th>\n",
       "      <td>9.566200e+04</td>\n",
       "      <td>95662.000000</td>\n",
       "      <td>95662.000000</td>\n",
       "      <td>95662.000000</td>\n",
       "      <td>95662.000000</td>\n",
       "      <td>95662.000000</td>\n",
       "      <td>95662.000000</td>\n",
       "      <td>95662.000000</td>\n",
       "      <td>9.566200e+04</td>\n",
       "      <td>9.566200e+04</td>\n",
       "      <td>95662.000000</td>\n",
       "      <td>9.495000e+04</td>\n",
       "    </tr>\n",
       "    <tr>\n",
       "      <th>mean</th>\n",
       "      <td>6.717846e+03</td>\n",
       "      <td>2358.107524</td>\n",
       "      <td>2.255974</td>\n",
       "      <td>0.002018</td>\n",
       "      <td>12.447722</td>\n",
       "      <td>15.902898</td>\n",
       "      <td>6.566233</td>\n",
       "      <td>2018.497115</td>\n",
       "      <td>-3.599090e+06</td>\n",
       "      <td>6.717846e+03</td>\n",
       "      <td>392.982982</td>\n",
       "      <td>1.803696e+04</td>\n",
       "    </tr>\n",
       "    <tr>\n",
       "      <th>std</th>\n",
       "      <td>1.233068e+05</td>\n",
       "      <td>3116.839524</td>\n",
       "      <td>0.732924</td>\n",
       "      <td>0.044872</td>\n",
       "      <td>4.846964</td>\n",
       "      <td>8.962822</td>\n",
       "      <td>5.224310</td>\n",
       "      <td>0.499994</td>\n",
       "      <td>2.180271e+07</td>\n",
       "      <td>8.568352e+04</td>\n",
       "      <td>878.631072</td>\n",
       "      <td>8.929570e+04</td>\n",
       "    </tr>\n",
       "    <tr>\n",
       "      <th>min</th>\n",
       "      <td>-1.000000e+06</td>\n",
       "      <td>2.000000</td>\n",
       "      <td>0.000000</td>\n",
       "      <td>0.000000</td>\n",
       "      <td>0.000000</td>\n",
       "      <td>1.000000</td>\n",
       "      <td>1.000000</td>\n",
       "      <td>2018.000000</td>\n",
       "      <td>-1.049000e+08</td>\n",
       "      <td>-4.250000e+05</td>\n",
       "      <td>1.000000</td>\n",
       "      <td>0.000000e+00</td>\n",
       "    </tr>\n",
       "    <tr>\n",
       "      <th>25%</th>\n",
       "      <td>-5.000000e+01</td>\n",
       "      <td>275.000000</td>\n",
       "      <td>2.000000</td>\n",
       "      <td>0.000000</td>\n",
       "      <td>8.000000</td>\n",
       "      <td>8.000000</td>\n",
       "      <td>1.000000</td>\n",
       "      <td>2018.000000</td>\n",
       "      <td>6.000000e+04</td>\n",
       "      <td>1.260812e+03</td>\n",
       "      <td>32.000000</td>\n",
       "      <td>3.206563e+03</td>\n",
       "    </tr>\n",
       "    <tr>\n",
       "      <th>50%</th>\n",
       "      <td>1.000000e+03</td>\n",
       "      <td>1000.000000</td>\n",
       "      <td>2.000000</td>\n",
       "      <td>0.000000</td>\n",
       "      <td>13.000000</td>\n",
       "      <td>16.000000</td>\n",
       "      <td>11.000000</td>\n",
       "      <td>2018.000000</td>\n",
       "      <td>2.015113e+05</td>\n",
       "      <td>2.272951e+03</td>\n",
       "      <td>93.000000</td>\n",
       "      <td>5.896327e+03</td>\n",
       "    </tr>\n",
       "    <tr>\n",
       "      <th>75%</th>\n",
       "      <td>2.800000e+03</td>\n",
       "      <td>3000.000000</td>\n",
       "      <td>2.000000</td>\n",
       "      <td>0.000000</td>\n",
       "      <td>17.000000</td>\n",
       "      <td>24.000000</td>\n",
       "      <td>12.000000</td>\n",
       "      <td>2019.000000</td>\n",
       "      <td>7.089360e+05</td>\n",
       "      <td>4.080464e+03</td>\n",
       "      <td>273.000000</td>\n",
       "      <td>1.038269e+04</td>\n",
       "    </tr>\n",
       "    <tr>\n",
       "      <th>max</th>\n",
       "      <td>9.880000e+06</td>\n",
       "      <td>12050.000000</td>\n",
       "      <td>4.000000</td>\n",
       "      <td>1.000000</td>\n",
       "      <td>23.000000</td>\n",
       "      <td>31.000000</td>\n",
       "      <td>12.000000</td>\n",
       "      <td>2019.000000</td>\n",
       "      <td>8.345124e+07</td>\n",
       "      <td>8.601821e+06</td>\n",
       "      <td>4091.000000</td>\n",
       "      <td>3.309916e+06</td>\n",
       "    </tr>\n",
       "  </tbody>\n",
       "</table>\n",
       "</div>"
      ],
      "text/plain": [
       "             Amount         Value  PricingStrategy   FraudResult      txn_hour       txn_day     txn_month      txn_year  total_txn_amount  avg_txn_amount     txn_count  std_txn_amount\n",
       "count  9.566200e+04  95662.000000     95662.000000  95662.000000  95662.000000  95662.000000  95662.000000  95662.000000      9.566200e+04    9.566200e+04  95662.000000    9.495000e+04\n",
       "mean   6.717846e+03   2358.107524         2.255974      0.002018     12.447722     15.902898      6.566233   2018.497115     -3.599090e+06    6.717846e+03    392.982982    1.803696e+04\n",
       "std    1.233068e+05   3116.839524         0.732924      0.044872      4.846964      8.962822      5.224310      0.499994      2.180271e+07    8.568352e+04    878.631072    8.929570e+04\n",
       "min   -1.000000e+06      2.000000         0.000000      0.000000      0.000000      1.000000      1.000000   2018.000000     -1.049000e+08   -4.250000e+05      1.000000    0.000000e+00\n",
       "25%   -5.000000e+01    275.000000         2.000000      0.000000      8.000000      8.000000      1.000000   2018.000000      6.000000e+04    1.260812e+03     32.000000    3.206563e+03\n",
       "50%    1.000000e+03   1000.000000         2.000000      0.000000     13.000000     16.000000     11.000000   2018.000000      2.015113e+05    2.272951e+03     93.000000    5.896327e+03\n",
       "75%    2.800000e+03   3000.000000         2.000000      0.000000     17.000000     24.000000     12.000000   2019.000000      7.089360e+05    4.080464e+03    273.000000    1.038269e+04\n",
       "max    9.880000e+06  12050.000000         4.000000      1.000000     23.000000     31.000000     12.000000   2019.000000      8.345124e+07    8.601821e+06   4091.000000    3.309916e+06"
      ]
     },
     "metadata": {},
     "output_type": "display_data"
    }
   ],
   "source": [
    "# Initalise pipeline\n",
    "pipeline = FraudDetectionPipeline(df_path = df_path, df_dir = df_dir,\n",
    "                                    plot_path = plot_path, mdl_dir = mdl_dir)\n",
    "\n",
    "# Load data and save processed data\n",
    "pipeline.load_and_split_data()\n",
    "pipeline.save_processed_data()"
   ]
  },
  {
   "cell_type": "code",
   "execution_count": 5,
   "id": "bc602c8f",
   "metadata": {},
   "outputs": [
    {
     "name": "stdout",
     "output_type": "stream",
     "text": [
      "\n",
      "Numeric WOE breaks computed.\n",
      "[INFO] creating woe binning ...\n",
      "[INFO] The breaks_list is saved as cat_breaks_20250702_051318.py\n",
      "\n",
      "Categorical WOE breaks computed and merged.\n",
      "[INFO] creating woe binning ...\n",
      "[INFO] converting into woe values ...\n",
      "[INFO] converting into woe values ...\n",
      "\n",
      "WOE transformation applied.\n",
      "\n",
      "Final dataset merged and cleaned.\n"
     ]
    }
   ],
   "source": [
    "# Compute breaks and apply transformation\n",
    "pipeline.compute_monotonic_breaks()\n",
    "pipeline.compute_categorical_breaks()\n",
    "pipeline.apply_woe_transformation()\n",
    "\n",
    "# Prepare and save DataFrame\n",
    "pipeline.merge_and_clean()"
   ]
  },
  {
   "cell_type": "code",
   "execution_count": 6,
   "id": "f4831553",
   "metadata": {},
   "outputs": [
    {
     "name": "stdout",
     "output_type": "stream",
     "text": [
      "IV Analysis:\n",
      "\n",
      "                variable  info_value\n",
      "21            Amount_woe    7.828734\n",
      "18                Amount    6.712406\n",
      "8     std_txn_amount_woe    5.219029\n",
      "7                  Value    5.016896\n",
      "10  total_txn_amount_woe    4.438720\n",
      "6     avg_txn_amount_woe    4.333268\n",
      "9         ProviderId_woe    3.592138\n",
      "1          ProductId_woe    3.353317\n",
      "5       total_txn_amount    1.908611\n",
      "0         avg_txn_amount    1.903049\n",
      "22        std_txn_amount    1.876843\n",
      "16         ChannelId_woe    1.457114\n",
      "17             txn_count    1.052966\n",
      "13   ProductCategory_woe    0.932981\n",
      "24               txn_day    0.681237\n",
      "2               txn_hour    0.435640\n",
      "4              txn_month    0.176962\n",
      "20          txn_hour_woe    0.149812\n",
      "15              txn_year    0.090093\n",
      "14          txn_year_woe    0.090093\n",
      "12   PricingStrategy_woe    0.083034\n",
      "19         txn_count_woe    0.071860\n",
      "3              Value_woe    0.040301\n",
      "23         txn_month_woe    0.017169\n",
      "11           txn_day_woe    0.012828\n",
      "[INFO] filtering variables ...\n",
      "\n",
      "Variables filtered based on IV and missing rate.\n"
     ]
    }
   ],
   "source": [
    "# WoE and IV transformation\n",
    "pipeline.run_iv_analysis()\n",
    "pipeline.filter_variables()"
   ]
  },
  {
   "cell_type": "code",
   "execution_count": 7,
   "id": "2ab208b5",
   "metadata": {},
   "outputs": [
    {
     "name": "stdout",
     "output_type": "stream",
     "text": [
      "Model trained.\n",
      "\n",
      "Coefficients:\n",
      "[[ 1.79523807e-07 -7.70698045e-01 -5.03576641e-02 -3.08737748e-02\n",
      "  -1.72910541e-08 -9.01661071e-04 -6.50752382e-01 -9.07661572e-01\n",
      "   0.00000000e+00  9.94008358e-01  0.00000000e+00 -1.62910536e-03\n",
      "   6.25699483e-01 -8.01052589e-03  2.38008361e-06 -1.26584166e+00\n",
      "  -1.17046347e-06  1.24845535e-03]]\n",
      "\n",
      "Train Performance:\n"
     ]
    },
    {
     "data": {
      "image/png": "[encoded data removed]",
      "text/plain": [
       "<Figure size 640x480 with 2 Axes>"
      ]
     },
     "metadata": {},
     "output_type": "display_data"
    },
    {
     "name": "stdout",
     "output_type": "stream",
     "text": [
      "Test Performance:\n"
     ]
    },
    {
     "data": {
      "image/png": "[encoded data removed]",
      "text/plain": [
       "<Figure size 640x480 with 2 Axes>"
      ]
     },
     "metadata": {},
     "output_type": "display_data"
    },
    {
     "name": "stdout",
     "output_type": "stream",
     "text": [
      "Accuracy: 0.9981184013380258\n",
      "AUC Score: 0.6205150802623199\n",
      "\n",
      "Classification Report:\n",
      "              precision    recall  f1-score   support\n",
      "\n",
      "           0       1.00      1.00      1.00     28641\n",
      "           1       0.58      0.24      0.34        58\n",
      "\n",
      "    accuracy                           1.00     28699\n",
      "   macro avg       0.79      0.62      0.67     28699\n",
      "weighted avg       1.00      1.00      1.00     28699\n",
      "\n",
      "\n",
      "Plot saved to ..\\plots\\featureengineering\\Confusion Matrix - Logistic Regression.png\n"
     ]
    },
    {
     "data": {
      "image/png": "[encoded data removed]",
      "text/plain": [
       "<Figure size 640x480 with 2 Axes>"
      ]
     },
     "metadata": {},
     "output_type": "display_data"
    }
   ],
   "source": [
    "# Model training evaluation and prediction\n",
    "pipeline.train_model()\n",
    "\n",
    "pipeline.evaluate_model()\n",
    "\n",
    "#pipeline.predict(df_new)"
   ]
  },
  {
   "cell_type": "code",
   "execution_count": 8,
   "id": "236dd6f9",
   "metadata": {},
   "outputs": [
    {
     "name": "stdout",
     "output_type": "stream",
     "text": [
      "\n",
      "Model saved to: ..\\models\\fraud_model.pkl\n"
     ]
    }
   ],
   "source": [
    "# Save the model\n",
    "pipeline.save_model()"
   ]
  },
  {
   "cell_type": "code",
   "execution_count": 9,
   "id": "3bb578ac",
   "metadata": {},
   "outputs": [
    {
     "name": "stdout",
     "output_type": "stream",
     "text": [
      "\n",
      "Model loaded from: ..\\models\\fraud_model.pkl\n"
     ]
    }
   ],
   "source": [
    "# Open saved model\n",
    "pipeline.load_model()"
   ]
  }
 ],
 "metadata": {
  "kernelspec": {
   "display_name": ".credvenv",
   "language": "python",
   "name": "python3"
  },
  "language_info": {
   "codemirror_mode": {
    "name": "ipython",
    "version": 3
   },
   "file_extension": ".py",
   "mimetype": "text/x-python",
   "name": "python",
   "nbconvert_exporter": "python",
   "pygments_lexer": "ipython3",
   "version": "3.13.3"
  }
 },
 "nbformat": 4,
 "nbformat_minor": 5
}
