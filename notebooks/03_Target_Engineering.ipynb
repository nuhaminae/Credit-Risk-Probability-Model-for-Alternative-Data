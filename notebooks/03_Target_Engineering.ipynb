{
 "cells": [
  {
   "cell_type": "markdown",
   "id": "db73a213",
   "metadata": {},
   "source": [
    "# **Import Modules**"
   ]
  },
  {
   "cell_type": "markdown",
   "id": "9d46e264",
   "metadata": {},
   "source": [
    "## *python*"
   ]
  },
  {
   "cell_type": "code",
   "execution_count": 1,
   "id": "35400a4e",
   "metadata": {},
   "outputs": [],
   "source": [
    "# Import python modules\n",
    "import os,sys\n",
    "import pandas as pd\n",
    "from IPython.display import display"
   ]
  },
  {
   "cell_type": "markdown",
   "id": "947e7c02",
   "metadata": {},
   "source": [
    "## *custom*"
   ]
  },
  {
   "cell_type": "code",
   "execution_count": 2,
   "id": "52439b7e",
   "metadata": {},
   "outputs": [],
   "source": [
    "# Import customised modules\n",
    "\n",
    "# Define path\n",
    "sys.path.append(os.path.abspath(os.path.join('..')))\n",
    "\n",
    "##import relevant modules\n",
    "try:\n",
    "    from scripts._03_Target_Engineering import RiskTargetBuilder\n",
    "    from scripts._02_Feature_Engineering import FraudDetectionPipeline\n",
    "\n",
    "except ImportError:\n",
    "    print('Could not import module from `scripts/`.')"
   ]
  },
  {
   "cell_type": "markdown",
   "id": "212d084a",
   "metadata": {},
   "source": [
    "# **Target Engineering**"
   ]
  },
  {
   "cell_type": "code",
   "execution_count": 3,
   "id": "4b93f1a8",
   "metadata": {},
   "outputs": [],
   "source": [
    "# Define DataFrame path\n",
    "df_path = os.path.join(os.path.dirname(os.getcwd()), 'data/processed/processed_data.csv')\n",
    "df_dir = os.path.join(os.path.dirname(os.getcwd()), 'data','processed')"
   ]
  },
  {
   "cell_type": "code",
   "execution_count": 4,
   "id": "ded70af8",
   "metadata": {},
   "outputs": [
    {
     "name": "stdout",
     "output_type": "stream",
     "text": [
      "Computing RFM metrics...\n",
      "\n",
      "RFM table computed.\n",
      "\n",
      "Scaling RFM features...\n",
      "\n",
      "RFM features scaled.\n",
      "\n",
      "Clustering customers into 3 segments...\n",
      "\n",
      "Clustering completed.\n",
      "\n",
      "Assigning high-risk labels...\n",
      "\n",
      "Identified high-risk cluster: 0\n",
      "\n",
      "Risk labels assigned.\n",
      "\n",
      "Proxy target variable ready.\n"
     ]
    },
    {
     "data": {
      "application/vnd.microsoft.datawrangler.viewer.v0+json": {
       "columns": [
        {
         "name": "index",
         "rawType": "int64",
         "type": "integer"
        },
        {
         "name": "CustomerId",
         "rawType": "object",
         "type": "string"
        },
        {
         "name": "is_high_risk",
         "rawType": "int64",
         "type": "integer"
        }
       ],
       "ref": "039b8bdc-4e56-4ddb-96b5-c98dcff24410",
       "rows": [
        [
         "0",
         "CustomerId_1",
         "1"
        ],
        [
         "1",
         "CustomerId_10",
         "1"
        ],
        [
         "2",
         "CustomerId_1001",
         "1"
        ],
        [
         "3",
         "CustomerId_1002",
         "0"
        ],
        [
         "4",
         "CustomerId_1003",
         "0"
        ]
       ],
       "shape": {
        "columns": 2,
        "rows": 5
       }
      },
      "text/html": [
       "<div>\n",
       "<style scoped>\n",
       "    .dataframe tbody tr th:only-of-type {\n",
       "        vertical-align: middle;\n",
       "    }\n",
       "\n",
       "    .dataframe tbody tr th {\n",
       "        vertical-align: top;\n",
       "    }\n",
       "\n",
       "    .dataframe thead th {\n",
       "        text-align: right;\n",
       "    }\n",
       "</style>\n",
       "<table border=\"1\" class=\"dataframe\">\n",
       "  <thead>\n",
       "    <tr style=\"text-align: right;\">\n",
       "      <th></th>\n",
       "      <th>CustomerId</th>\n",
       "      <th>is_high_risk</th>\n",
       "    </tr>\n",
       "  </thead>\n",
       "  <tbody>\n",
       "    <tr>\n",
       "      <th>0</th>\n",
       "      <td>CustomerId_1</td>\n",
       "      <td>1</td>\n",
       "    </tr>\n",
       "    <tr>\n",
       "      <th>1</th>\n",
       "      <td>CustomerId_10</td>\n",
       "      <td>1</td>\n",
       "    </tr>\n",
       "    <tr>\n",
       "      <th>2</th>\n",
       "      <td>CustomerId_1001</td>\n",
       "      <td>1</td>\n",
       "    </tr>\n",
       "    <tr>\n",
       "      <th>3</th>\n",
       "      <td>CustomerId_1002</td>\n",
       "      <td>0</td>\n",
       "    </tr>\n",
       "    <tr>\n",
       "      <th>4</th>\n",
       "      <td>CustomerId_1003</td>\n",
       "      <td>0</td>\n",
       "    </tr>\n",
       "  </tbody>\n",
       "</table>\n",
       "</div>"
      ],
      "text/plain": [
       "        CustomerId  is_high_risk\n",
       "0     CustomerId_1             1\n",
       "1    CustomerId_10             1\n",
       "2  CustomerId_1001             1\n",
       "3  CustomerId_1002             0\n",
       "4  CustomerId_1003             0"
      ]
     },
     "metadata": {},
     "output_type": "display_data"
    }
   ],
   "source": [
    "# Instantiate the RiskTargetBuilder class\n",
    "risk_builder = RiskTargetBuilder (df_path = df_path)\n",
    "\n",
    "# Generate the proxy target variable\n",
    "proxy_target_df = risk_builder.generate_target()\n",
    "\n",
    "# Display the generated target variable DataFrame\n",
    "display(proxy_target_df.head())"
   ]
  },
  {
   "cell_type": "markdown",
   "id": "4edcc6e7",
   "metadata": {},
   "source": [
    "# **Merge Data**"
   ]
  },
  {
   "cell_type": "code",
   "execution_count": 5,
   "id": "cf627bfe",
   "metadata": {},
   "outputs": [],
   "source": [
    "# Load feature engineering data\n",
    "df = pd.read_csv (df_path)\n",
    "\n",
    "# Merge into processed features\n",
    "df_labeled = df.merge(proxy_target_df, on=\"CustomerId\", how=\"left\")\n",
    "\n",
    "# Drop previous target variable\n",
    "if \"FraudResult\" in df_labeled.columns:\n",
    "    df_labeled = df_labeled.drop(columns=[\"FraudResult\"])\n",
    "else:\n",
    "    print(\"Column 'FraudResult' does not exist in the DataFrame.\")\n"
   ]
  },
  {
   "cell_type": "code",
   "execution_count": 6,
   "id": "1cc670de",
   "metadata": {},
   "outputs": [
    {
     "name": "stdout",
     "output_type": "stream",
     "text": [
      "\n",
      "Processed DataFrame saved to: ..\\data\\processed\\target_engineering_data.csv\n",
      "\n",
      "DataFrame Head:\n"
     ]
    },
    {
     "data": {
      "application/vnd.microsoft.datawrangler.viewer.v0+json": {
       "columns": [
        {
         "name": "index",
         "rawType": "int64",
         "type": "integer"
        },
        {
         "name": "TransactionId",
         "rawType": "object",
         "type": "string"
        },
        {
         "name": "BatchId",
         "rawType": "object",
         "type": "string"
        },
        {
         "name": "AccountId",
         "rawType": "object",
         "type": "string"
        },
        {
         "name": "SubscriptionId",
         "rawType": "object",
         "type": "string"
        },
        {
         "name": "CustomerId",
         "rawType": "object",
         "type": "string"
        },
        {
         "name": "CurrencyCode",
         "rawType": "object",
         "type": "string"
        },
        {
         "name": "CountryCode",
         "rawType": "int64",
         "type": "integer"
        },
        {
         "name": "ProviderId",
         "rawType": "object",
         "type": "string"
        },
        {
         "name": "ProductId",
         "rawType": "object",
         "type": "string"
        },
        {
         "name": "ProductCategory",
         "rawType": "object",
         "type": "string"
        },
        {
         "name": "ChannelId",
         "rawType": "object",
         "type": "string"
        },
        {
         "name": "Amount",
         "rawType": "float64",
         "type": "float"
        },
        {
         "name": "Value",
         "rawType": "int64",
         "type": "integer"
        },
        {
         "name": "TransactionStartTime",
         "rawType": "object",
         "type": "string"
        },
        {
         "name": "PricingStrategy",
         "rawType": "int64",
         "type": "integer"
        },
        {
         "name": "is_high_risk",
         "rawType": "int64",
         "type": "integer"
        }
       ],
       "ref": "e2ffa190-d30b-4806-bc65-f6bf70eed30b",
       "rows": [
        [
         "0",
         "TransactionId_76871",
         "BatchId_36123",
         "AccountId_3957",
         "SubscriptionId_887",
         "CustomerId_4406",
         "UGX",
         "256",
         "ProviderId_6",
         "ProductId_10",
         "airtime",
         "ChannelId_3",
         "1000.0",
         "1000",
         "2018-11-15 02:18:49+00:00",
         "2",
         "0"
        ],
        [
         "1",
         "TransactionId_73770",
         "BatchId_15642",
         "AccountId_4841",
         "SubscriptionId_3829",
         "CustomerId_4406",
         "UGX",
         "256",
         "ProviderId_4",
         "ProductId_6",
         "financial_services",
         "ChannelId_2",
         "-20.0",
         "20",
         "2018-11-15 02:19:08+00:00",
         "2",
         "0"
        ],
        [
         "2",
         "TransactionId_26203",
         "BatchId_53941",
         "AccountId_4229",
         "SubscriptionId_222",
         "CustomerId_4683",
         "UGX",
         "256",
         "ProviderId_6",
         "ProductId_1",
         "airtime",
         "ChannelId_3",
         "500.0",
         "500",
         "2018-11-15 02:44:21+00:00",
         "2",
         "1"
        ],
        [
         "3",
         "TransactionId_380",
         "BatchId_102363",
         "AccountId_648",
         "SubscriptionId_2185",
         "CustomerId_988",
         "UGX",
         "256",
         "ProviderId_1",
         "ProductId_21",
         "utility_bill",
         "ChannelId_3",
         "20000.0",
         "1000",
         "2018-11-15 03:32:55+00:00",
         "2",
         "0"
        ],
        [
         "4",
         "TransactionId_28195",
         "BatchId_38780",
         "AccountId_4841",
         "SubscriptionId_3829",
         "CustomerId_988",
         "UGX",
         "256",
         "ProviderId_4",
         "ProductId_6",
         "financial_services",
         "ChannelId_2",
         "-644.0",
         "644",
         "2018-11-15 03:34:21+00:00",
         "2",
         "0"
        ]
       ],
       "shape": {
        "columns": 16,
        "rows": 5
       }
      },
      "text/html": [
       "<div>\n",
       "<style scoped>\n",
       "    .dataframe tbody tr th:only-of-type {\n",
       "        vertical-align: middle;\n",
       "    }\n",
       "\n",
       "    .dataframe tbody tr th {\n",
       "        vertical-align: top;\n",
       "    }\n",
       "\n",
       "    .dataframe thead th {\n",
       "        text-align: right;\n",
       "    }\n",
       "</style>\n",
       "<table border=\"1\" class=\"dataframe\">\n",
       "  <thead>\n",
       "    <tr style=\"text-align: right;\">\n",
       "      <th></th>\n",
       "      <th>TransactionId</th>\n",
       "      <th>BatchId</th>\n",
       "      <th>AccountId</th>\n",
       "      <th>SubscriptionId</th>\n",
       "      <th>CustomerId</th>\n",
       "      <th>CurrencyCode</th>\n",
       "      <th>CountryCode</th>\n",
       "      <th>ProviderId</th>\n",
       "      <th>ProductId</th>\n",
       "      <th>ProductCategory</th>\n",
       "      <th>ChannelId</th>\n",
       "      <th>Amount</th>\n",
       "      <th>Value</th>\n",
       "      <th>TransactionStartTime</th>\n",
       "      <th>PricingStrategy</th>\n",
       "      <th>is_high_risk</th>\n",
       "    </tr>\n",
       "  </thead>\n",
       "  <tbody>\n",
       "    <tr>\n",
       "      <th>0</th>\n",
       "      <td>TransactionId_76871</td>\n",
       "      <td>BatchId_36123</td>\n",
       "      <td>AccountId_3957</td>\n",
       "      <td>SubscriptionId_887</td>\n",
       "      <td>CustomerId_4406</td>\n",
       "      <td>UGX</td>\n",
       "      <td>256</td>\n",
       "      <td>ProviderId_6</td>\n",
       "      <td>ProductId_10</td>\n",
       "      <td>airtime</td>\n",
       "      <td>ChannelId_3</td>\n",
       "      <td>1000.0</td>\n",
       "      <td>1000</td>\n",
       "      <td>2018-11-15 02:18:49+00:00</td>\n",
       "      <td>2</td>\n",
       "      <td>0</td>\n",
       "    </tr>\n",
       "    <tr>\n",
       "      <th>1</th>\n",
       "      <td>TransactionId_73770</td>\n",
       "      <td>BatchId_15642</td>\n",
       "      <td>AccountId_4841</td>\n",
       "      <td>SubscriptionId_3829</td>\n",
       "      <td>CustomerId_4406</td>\n",
       "      <td>UGX</td>\n",
       "      <td>256</td>\n",
       "      <td>ProviderId_4</td>\n",
       "      <td>ProductId_6</td>\n",
       "      <td>financial_services</td>\n",
       "      <td>ChannelId_2</td>\n",
       "      <td>-20.0</td>\n",
       "      <td>20</td>\n",
       "      <td>2018-11-15 02:19:08+00:00</td>\n",
       "      <td>2</td>\n",
       "      <td>0</td>\n",
       "    </tr>\n",
       "    <tr>\n",
       "      <th>2</th>\n",
       "      <td>TransactionId_26203</td>\n",
       "      <td>BatchId_53941</td>\n",
       "      <td>AccountId_4229</td>\n",
       "      <td>SubscriptionId_222</td>\n",
       "      <td>CustomerId_4683</td>\n",
       "      <td>UGX</td>\n",
       "      <td>256</td>\n",
       "      <td>ProviderId_6</td>\n",
       "      <td>ProductId_1</td>\n",
       "      <td>airtime</td>\n",
       "      <td>ChannelId_3</td>\n",
       "      <td>500.0</td>\n",
       "      <td>500</td>\n",
       "      <td>2018-11-15 02:44:21+00:00</td>\n",
       "      <td>2</td>\n",
       "      <td>1</td>\n",
       "    </tr>\n",
       "    <tr>\n",
       "      <th>3</th>\n",
       "      <td>TransactionId_380</td>\n",
       "      <td>BatchId_102363</td>\n",
       "      <td>AccountId_648</td>\n",
       "      <td>SubscriptionId_2185</td>\n",
       "      <td>CustomerId_988</td>\n",
       "      <td>UGX</td>\n",
       "      <td>256</td>\n",
       "      <td>ProviderId_1</td>\n",
       "      <td>ProductId_21</td>\n",
       "      <td>utility_bill</td>\n",
       "      <td>ChannelId_3</td>\n",
       "      <td>20000.0</td>\n",
       "      <td>1000</td>\n",
       "      <td>2018-11-15 03:32:55+00:00</td>\n",
       "      <td>2</td>\n",
       "      <td>0</td>\n",
       "    </tr>\n",
       "    <tr>\n",
       "      <th>4</th>\n",
       "      <td>TransactionId_28195</td>\n",
       "      <td>BatchId_38780</td>\n",
       "      <td>AccountId_4841</td>\n",
       "      <td>SubscriptionId_3829</td>\n",
       "      <td>CustomerId_988</td>\n",
       "      <td>UGX</td>\n",
       "      <td>256</td>\n",
       "      <td>ProviderId_4</td>\n",
       "      <td>ProductId_6</td>\n",
       "      <td>financial_services</td>\n",
       "      <td>ChannelId_2</td>\n",
       "      <td>-644.0</td>\n",
       "      <td>644</td>\n",
       "      <td>2018-11-15 03:34:21+00:00</td>\n",
       "      <td>2</td>\n",
       "      <td>0</td>\n",
       "    </tr>\n",
       "  </tbody>\n",
       "</table>\n",
       "</div>"
      ],
      "text/plain": [
       "         TransactionId         BatchId       AccountId       SubscriptionId       CustomerId CurrencyCode  CountryCode    ProviderId     ProductId     ProductCategory    ChannelId   Amount  Value       TransactionStartTime  PricingStrategy  is_high_risk\n",
       "0  TransactionId_76871   BatchId_36123  AccountId_3957   SubscriptionId_887  CustomerId_4406          UGX          256  ProviderId_6  ProductId_10             airtime  ChannelId_3   1000.0   1000  2018-11-15 02:18:49+00:00                2             0\n",
       "1  TransactionId_73770   BatchId_15642  AccountId_4841  SubscriptionId_3829  CustomerId_4406          UGX          256  ProviderId_4   ProductId_6  financial_services  ChannelId_2    -20.0     20  2018-11-15 02:19:08+00:00                2             0\n",
       "2  TransactionId_26203   BatchId_53941  AccountId_4229   SubscriptionId_222  CustomerId_4683          UGX          256  ProviderId_6   ProductId_1             airtime  ChannelId_3    500.0    500  2018-11-15 02:44:21+00:00                2             1\n",
       "3    TransactionId_380  BatchId_102363   AccountId_648  SubscriptionId_2185   CustomerId_988          UGX          256  ProviderId_1  ProductId_21        utility_bill  ChannelId_3  20000.0   1000  2018-11-15 03:32:55+00:00                2             0\n",
       "4  TransactionId_28195   BatchId_38780  AccountId_4841  SubscriptionId_3829   CustomerId_988          UGX          256  ProviderId_4   ProductId_6  financial_services  ChannelId_2   -644.0    644  2018-11-15 03:34:21+00:00                2             0"
      ]
     },
     "metadata": {},
     "output_type": "display_data"
    },
    {
     "name": "stdout",
     "output_type": "stream",
     "text": [
      "\n",
      "DataFrame shape:\n"
     ]
    },
    {
     "data": {
      "text/plain": [
       "(95662, 16)"
      ]
     },
     "metadata": {},
     "output_type": "display_data"
    },
    {
     "name": "stdout",
     "output_type": "stream",
     "text": [
      "\n",
      "DataFrame columns:\n"
     ]
    },
    {
     "data": {
      "text/plain": [
       "Index(['TransactionId', 'BatchId', 'AccountId', 'SubscriptionId', 'CustomerId', 'CurrencyCode', 'CountryCode', 'ProviderId', 'ProductId', 'ProductCategory', 'ChannelId', 'Amount', 'Value', 'TransactionStartTime', 'PricingStrategy', 'is_high_risk'], dtype='object')"
      ]
     },
     "metadata": {},
     "output_type": "display_data"
    },
    {
     "name": "stdout",
     "output_type": "stream",
     "text": [
      "\n",
      "DataFrame summary:\n",
      "<class 'pandas.core.frame.DataFrame'>\n",
      "RangeIndex: 95662 entries, 0 to 95661\n",
      "Data columns (total 16 columns):\n",
      " #   Column                Non-Null Count  Dtype  \n",
      "---  ------                --------------  -----  \n",
      " 0   TransactionId         95662 non-null  object \n",
      " 1   BatchId               95662 non-null  object \n",
      " 2   AccountId             95662 non-null  object \n",
      " 3   SubscriptionId        95662 non-null  object \n",
      " 4   CustomerId            95662 non-null  object \n",
      " 5   CurrencyCode          95662 non-null  object \n",
      " 6   CountryCode           95662 non-null  int64  \n",
      " 7   ProviderId            95662 non-null  object \n",
      " 8   ProductId             95662 non-null  object \n",
      " 9   ProductCategory       95662 non-null  object \n",
      " 10  ChannelId             95662 non-null  object \n",
      " 11  Amount                95662 non-null  float64\n",
      " 12  Value                 95662 non-null  int64  \n",
      " 13  TransactionStartTime  95662 non-null  object \n",
      " 14  PricingStrategy       95662 non-null  int64  \n",
      " 15  is_high_risk          95662 non-null  int64  \n",
      "dtypes: float64(1), int64(4), object(11)\n",
      "memory usage: 11.7+ MB\n",
      "\n",
      "DataFrame Description:\n"
     ]
    },
    {
     "data": {
      "application/vnd.microsoft.datawrangler.viewer.v0+json": {
       "columns": [
        {
         "name": "index",
         "rawType": "object",
         "type": "string"
        },
        {
         "name": "CountryCode",
         "rawType": "float64",
         "type": "float"
        },
        {
         "name": "Amount",
         "rawType": "float64",
         "type": "float"
        },
        {
         "name": "Value",
         "rawType": "float64",
         "type": "float"
        },
        {
         "name": "PricingStrategy",
         "rawType": "float64",
         "type": "float"
        },
        {
         "name": "is_high_risk",
         "rawType": "float64",
         "type": "float"
        }
       ],
       "ref": "019933ef-3fb6-45db-a655-ff9b151f1f29",
       "rows": [
        [
         "count",
         "95662.0",
         "95662.0",
         "95662.0",
         "95662.0",
         "95662.0"
        ],
        [
         "mean",
         "256.0",
         "6717.846433275491",
         "2358.107524408856",
         "2.25597415901821",
         "0.11525997783864021"
        ],
        [
         "std",
         "0.0",
         "123306.79716433848",
         "3116.8395238494936",
         "0.7329241094855721",
         "0.3193370967369619"
        ],
        [
         "min",
         "256.0",
         "-1000000.0",
         "2.0",
         "0.0",
         "0.0"
        ],
        [
         "25%",
         "256.0",
         "-50.0",
         "275.0",
         "2.0",
         "0.0"
        ],
        [
         "50%",
         "256.0",
         "1000.0",
         "1000.0",
         "2.0",
         "0.0"
        ],
        [
         "75%",
         "256.0",
         "2800.0",
         "3000.0",
         "2.0",
         "0.0"
        ],
        [
         "max",
         "256.0",
         "9880000.0",
         "12050.0",
         "4.0",
         "1.0"
        ]
       ],
       "shape": {
        "columns": 5,
        "rows": 8
       }
      },
      "text/html": [
       "<div>\n",
       "<style scoped>\n",
       "    .dataframe tbody tr th:only-of-type {\n",
       "        vertical-align: middle;\n",
       "    }\n",
       "\n",
       "    .dataframe tbody tr th {\n",
       "        vertical-align: top;\n",
       "    }\n",
       "\n",
       "    .dataframe thead th {\n",
       "        text-align: right;\n",
       "    }\n",
       "</style>\n",
       "<table border=\"1\" class=\"dataframe\">\n",
       "  <thead>\n",
       "    <tr style=\"text-align: right;\">\n",
       "      <th></th>\n",
       "      <th>CountryCode</th>\n",
       "      <th>Amount</th>\n",
       "      <th>Value</th>\n",
       "      <th>PricingStrategy</th>\n",
       "      <th>is_high_risk</th>\n",
       "    </tr>\n",
       "  </thead>\n",
       "  <tbody>\n",
       "    <tr>\n",
       "      <th>count</th>\n",
       "      <td>95662.0</td>\n",
       "      <td>9.566200e+04</td>\n",
       "      <td>95662.000000</td>\n",
       "      <td>95662.000000</td>\n",
       "      <td>95662.000000</td>\n",
       "    </tr>\n",
       "    <tr>\n",
       "      <th>mean</th>\n",
       "      <td>256.0</td>\n",
       "      <td>6.717846e+03</td>\n",
       "      <td>2358.107524</td>\n",
       "      <td>2.255974</td>\n",
       "      <td>0.115260</td>\n",
       "    </tr>\n",
       "    <tr>\n",
       "      <th>std</th>\n",
       "      <td>0.0</td>\n",
       "      <td>1.233068e+05</td>\n",
       "      <td>3116.839524</td>\n",
       "      <td>0.732924</td>\n",
       "      <td>0.319337</td>\n",
       "    </tr>\n",
       "    <tr>\n",
       "      <th>min</th>\n",
       "      <td>256.0</td>\n",
       "      <td>-1.000000e+06</td>\n",
       "      <td>2.000000</td>\n",
       "      <td>0.000000</td>\n",
       "      <td>0.000000</td>\n",
       "    </tr>\n",
       "    <tr>\n",
       "      <th>25%</th>\n",
       "      <td>256.0</td>\n",
       "      <td>-5.000000e+01</td>\n",
       "      <td>275.000000</td>\n",
       "      <td>2.000000</td>\n",
       "      <td>0.000000</td>\n",
       "    </tr>\n",
       "    <tr>\n",
       "      <th>50%</th>\n",
       "      <td>256.0</td>\n",
       "      <td>1.000000e+03</td>\n",
       "      <td>1000.000000</td>\n",
       "      <td>2.000000</td>\n",
       "      <td>0.000000</td>\n",
       "    </tr>\n",
       "    <tr>\n",
       "      <th>75%</th>\n",
       "      <td>256.0</td>\n",
       "      <td>2.800000e+03</td>\n",
       "      <td>3000.000000</td>\n",
       "      <td>2.000000</td>\n",
       "      <td>0.000000</td>\n",
       "    </tr>\n",
       "    <tr>\n",
       "      <th>max</th>\n",
       "      <td>256.0</td>\n",
       "      <td>9.880000e+06</td>\n",
       "      <td>12050.000000</td>\n",
       "      <td>4.000000</td>\n",
       "      <td>1.000000</td>\n",
       "    </tr>\n",
       "  </tbody>\n",
       "</table>\n",
       "</div>"
      ],
      "text/plain": [
       "       CountryCode        Amount         Value  PricingStrategy  is_high_risk\n",
       "count      95662.0  9.566200e+04  95662.000000     95662.000000  95662.000000\n",
       "mean         256.0  6.717846e+03   2358.107524         2.255974      0.115260\n",
       "std            0.0  1.233068e+05   3116.839524         0.732924      0.319337\n",
       "min          256.0 -1.000000e+06      2.000000         0.000000      0.000000\n",
       "25%          256.0 -5.000000e+01    275.000000         2.000000      0.000000\n",
       "50%          256.0  1.000000e+03   1000.000000         2.000000      0.000000\n",
       "75%          256.0  2.800000e+03   3000.000000         2.000000      0.000000\n",
       "max          256.0  9.880000e+06  12050.000000         4.000000      1.000000"
      ]
     },
     "metadata": {},
     "output_type": "display_data"
    }
   ],
   "source": [
    "# Save merged DataFrame\n",
    "# Create output folder if it doesn't exist\n",
    "if not os.path.exists(df_dir):\n",
    "    os.makedirs(df_dir)\n",
    "\n",
    "df_name = os.path.join(df_dir, 'target_engineering_data.csv')\n",
    "\n",
    "# Calculate the relative path\n",
    "current_directory = os.getcwd()\n",
    "relative_path = os.path.relpath(df_name, current_directory)\n",
    "            \n",
    "# Save processed data to CSV\n",
    "df_labeled.to_csv(df_name, index=False)\n",
    "print(f'\\nProcessed DataFrame saved to: {relative_path}')\n",
    "\n",
    "print('\\nDataFrame Head:')\n",
    "out_head=df_labeled.head()\n",
    "display (out_head)\n",
    "\n",
    "print(\"\\nDataFrame shape:\")\n",
    "display(df_labeled.shape)\n",
    "                \n",
    "print(\"\\nDataFrame columns:\")\n",
    "display(df_labeled.columns)\n",
    "                \n",
    "print(\"\\nDataFrame summary:\")\n",
    "df_labeled.info()\n",
    "        \n",
    "print('\\nDataFrame Description:')\n",
    "display(df_labeled.describe())"
   ]
  },
  {
   "cell_type": "markdown",
   "id": "7f395bc3",
   "metadata": {},
   "source": [
    "# **Modelling**"
   ]
  },
  {
   "cell_type": "code",
   "execution_count": 7,
   "id": "8310e992",
   "metadata": {},
   "outputs": [],
   "source": [
    "# Define DataFrame path\n",
    "df_path = os.path.join(os.path.dirname(os.getcwd()), 'data/processed/target_engineering_data.csv')\n",
    "plot_path = os.path.join(os.path.dirname(os.getcwd()), 'plots/targetengineering')\n",
    "df_dir = os.path.join(os.path.dirname(os.getcwd()), 'data','processed')\n",
    "mdl_dir = os.path.join(os.path.dirname(os.getcwd()), 'models')"
   ]
  },
  {
   "cell_type": "code",
   "execution_count": 8,
   "id": "c072c0d7",
   "metadata": {},
   "outputs": [
    {
     "name": "stdout",
     "output_type": "stream",
     "text": [
      "Data loaded, split, aggregated, and categorical NAs filled.\n",
      "\n",
      "Processed DataFrame saved to: ..\\data\\processed\\feature_target_engineering_data.csv\n",
      "\n",
      "DataFrame Head:\n"
     ]
    },
    {
     "data": {
      "application/vnd.microsoft.datawrangler.viewer.v0+json": {
       "columns": [
        {
         "name": "index",
         "rawType": "int64",
         "type": "integer"
        },
        {
         "name": "ProviderId",
         "rawType": "object",
         "type": "string"
        },
        {
         "name": "ProductId",
         "rawType": "object",
         "type": "string"
        },
        {
         "name": "ProductCategory",
         "rawType": "object",
         "type": "string"
        },
        {
         "name": "ChannelId",
         "rawType": "object",
         "type": "string"
        },
        {
         "name": "Amount",
         "rawType": "float64",
         "type": "float"
        },
        {
         "name": "Value",
         "rawType": "int64",
         "type": "integer"
        },
        {
         "name": "PricingStrategy",
         "rawType": "int64",
         "type": "integer"
        },
        {
         "name": "is_high_risk",
         "rawType": "int64",
         "type": "integer"
        },
        {
         "name": "txn_hour",
         "rawType": "int32",
         "type": "integer"
        },
        {
         "name": "txn_day",
         "rawType": "int32",
         "type": "integer"
        },
        {
         "name": "txn_month",
         "rawType": "int32",
         "type": "integer"
        },
        {
         "name": "txn_year",
         "rawType": "int32",
         "type": "integer"
        },
        {
         "name": "total_txn_amount",
         "rawType": "float64",
         "type": "float"
        },
        {
         "name": "avg_txn_amount",
         "rawType": "float64",
         "type": "float"
        },
        {
         "name": "txn_count",
         "rawType": "int64",
         "type": "integer"
        },
        {
         "name": "std_txn_amount",
         "rawType": "float64",
         "type": "float"
        }
       ],
       "ref": "802e07ee-62f4-4e75-a219-0a72dc10de8b",
       "rows": [
        [
         "0",
         "ProviderId_6",
         "ProductId_10",
         "airtime",
         "ChannelId_3",
         "1000.0",
         "1000",
         "2",
         "0",
         "2",
         "15",
         "11",
         "2018",
         "109921.75",
         "923.7121848739496",
         "119",
         "3042.2942512284867"
        ],
        [
         "1",
         "ProviderId_4",
         "ProductId_6",
         "financial_services",
         "ChannelId_2",
         "-20.0",
         "20",
         "2",
         "0",
         "2",
         "15",
         "11",
         "2018",
         "109921.75",
         "923.7121848739496",
         "119",
         "3042.2942512284867"
        ],
        [
         "2",
         "ProviderId_6",
         "ProductId_1",
         "airtime",
         "ChannelId_3",
         "500.0",
         "500",
         "2",
         "1",
         "2",
         "15",
         "11",
         "2018",
         "1000.0",
         "500.0",
         "2",
         "0.0"
        ],
        [
         "3",
         "ProviderId_1",
         "ProductId_21",
         "utility_bill",
         "ChannelId_3",
         "20000.0",
         "1000",
         "2",
         "0",
         "3",
         "15",
         "11",
         "2018",
         "228727.2",
         "6019.136842105264",
         "38",
         "17169.241609853503"
        ],
        [
         "4",
         "ProviderId_4",
         "ProductId_6",
         "financial_services",
         "ChannelId_2",
         "-644.0",
         "644",
         "2",
         "0",
         "3",
         "15",
         "11",
         "2018",
         "228727.2",
         "6019.136842105264",
         "38",
         "17169.241609853503"
        ]
       ],
       "shape": {
        "columns": 16,
        "rows": 5
       }
      },
      "text/html": [
       "<div>\n",
       "<style scoped>\n",
       "    .dataframe tbody tr th:only-of-type {\n",
       "        vertical-align: middle;\n",
       "    }\n",
       "\n",
       "    .dataframe tbody tr th {\n",
       "        vertical-align: top;\n",
       "    }\n",
       "\n",
       "    .dataframe thead th {\n",
       "        text-align: right;\n",
       "    }\n",
       "</style>\n",
       "<table border=\"1\" class=\"dataframe\">\n",
       "  <thead>\n",
       "    <tr style=\"text-align: right;\">\n",
       "      <th></th>\n",
       "      <th>ProviderId</th>\n",
       "      <th>ProductId</th>\n",
       "      <th>ProductCategory</th>\n",
       "      <th>ChannelId</th>\n",
       "      <th>Amount</th>\n",
       "      <th>Value</th>\n",
       "      <th>PricingStrategy</th>\n",
       "      <th>is_high_risk</th>\n",
       "      <th>txn_hour</th>\n",
       "      <th>txn_day</th>\n",
       "      <th>txn_month</th>\n",
       "      <th>txn_year</th>\n",
       "      <th>total_txn_amount</th>\n",
       "      <th>avg_txn_amount</th>\n",
       "      <th>txn_count</th>\n",
       "      <th>std_txn_amount</th>\n",
       "    </tr>\n",
       "  </thead>\n",
       "  <tbody>\n",
       "    <tr>\n",
       "      <th>0</th>\n",
       "      <td>ProviderId_6</td>\n",
       "      <td>ProductId_10</td>\n",
       "      <td>airtime</td>\n",
       "      <td>ChannelId_3</td>\n",
       "      <td>1000.0</td>\n",
       "      <td>1000</td>\n",
       "      <td>2</td>\n",
       "      <td>0</td>\n",
       "      <td>2</td>\n",
       "      <td>15</td>\n",
       "      <td>11</td>\n",
       "      <td>2018</td>\n",
       "      <td>109921.75</td>\n",
       "      <td>923.712185</td>\n",
       "      <td>119</td>\n",
       "      <td>3042.294251</td>\n",
       "    </tr>\n",
       "    <tr>\n",
       "      <th>1</th>\n",
       "      <td>ProviderId_4</td>\n",
       "      <td>ProductId_6</td>\n",
       "      <td>financial_services</td>\n",
       "      <td>ChannelId_2</td>\n",
       "      <td>-20.0</td>\n",
       "      <td>20</td>\n",
       "      <td>2</td>\n",
       "      <td>0</td>\n",
       "      <td>2</td>\n",
       "      <td>15</td>\n",
       "      <td>11</td>\n",
       "      <td>2018</td>\n",
       "      <td>109921.75</td>\n",
       "      <td>923.712185</td>\n",
       "      <td>119</td>\n",
       "      <td>3042.294251</td>\n",
       "    </tr>\n",
       "    <tr>\n",
       "      <th>2</th>\n",
       "      <td>ProviderId_6</td>\n",
       "      <td>ProductId_1</td>\n",
       "      <td>airtime</td>\n",
       "      <td>ChannelId_3</td>\n",
       "      <td>500.0</td>\n",
       "      <td>500</td>\n",
       "      <td>2</td>\n",
       "      <td>1</td>\n",
       "      <td>2</td>\n",
       "      <td>15</td>\n",
       "      <td>11</td>\n",
       "      <td>2018</td>\n",
       "      <td>1000.00</td>\n",
       "      <td>500.000000</td>\n",
       "      <td>2</td>\n",
       "      <td>0.000000</td>\n",
       "    </tr>\n",
       "    <tr>\n",
       "      <th>3</th>\n",
       "      <td>ProviderId_1</td>\n",
       "      <td>ProductId_21</td>\n",
       "      <td>utility_bill</td>\n",
       "      <td>ChannelId_3</td>\n",
       "      <td>20000.0</td>\n",
       "      <td>1000</td>\n",
       "      <td>2</td>\n",
       "      <td>0</td>\n",
       "      <td>3</td>\n",
       "      <td>15</td>\n",
       "      <td>11</td>\n",
       "      <td>2018</td>\n",
       "      <td>228727.20</td>\n",
       "      <td>6019.136842</td>\n",
       "      <td>38</td>\n",
       "      <td>17169.241610</td>\n",
       "    </tr>\n",
       "    <tr>\n",
       "      <th>4</th>\n",
       "      <td>ProviderId_4</td>\n",
       "      <td>ProductId_6</td>\n",
       "      <td>financial_services</td>\n",
       "      <td>ChannelId_2</td>\n",
       "      <td>-644.0</td>\n",
       "      <td>644</td>\n",
       "      <td>2</td>\n",
       "      <td>0</td>\n",
       "      <td>3</td>\n",
       "      <td>15</td>\n",
       "      <td>11</td>\n",
       "      <td>2018</td>\n",
       "      <td>228727.20</td>\n",
       "      <td>6019.136842</td>\n",
       "      <td>38</td>\n",
       "      <td>17169.241610</td>\n",
       "    </tr>\n",
       "  </tbody>\n",
       "</table>\n",
       "</div>"
      ],
      "text/plain": [
       "     ProviderId     ProductId     ProductCategory    ChannelId   Amount  Value  PricingStrategy  is_high_risk  txn_hour  txn_day  txn_month  txn_year  total_txn_amount  avg_txn_amount  txn_count  std_txn_amount\n",
       "0  ProviderId_6  ProductId_10             airtime  ChannelId_3   1000.0   1000                2             0         2       15         11      2018         109921.75      923.712185        119     3042.294251\n",
       "1  ProviderId_4   ProductId_6  financial_services  ChannelId_2    -20.0     20                2             0         2       15         11      2018         109921.75      923.712185        119     3042.294251\n",
       "2  ProviderId_6   ProductId_1             airtime  ChannelId_3    500.0    500                2             1         2       15         11      2018           1000.00      500.000000          2        0.000000\n",
       "3  ProviderId_1  ProductId_21        utility_bill  ChannelId_3  20000.0   1000                2             0         3       15         11      2018         228727.20     6019.136842         38    17169.241610\n",
       "4  ProviderId_4   ProductId_6  financial_services  ChannelId_2   -644.0    644                2             0         3       15         11      2018         228727.20     6019.136842         38    17169.241610"
      ]
     },
     "metadata": {},
     "output_type": "display_data"
    },
    {
     "name": "stdout",
     "output_type": "stream",
     "text": [
      "\n",
      "DataFrame Description:\n"
     ]
    },
    {
     "data": {
      "application/vnd.microsoft.datawrangler.viewer.v0+json": {
       "columns": [
        {
         "name": "index",
         "rawType": "object",
         "type": "string"
        },
        {
         "name": "Amount",
         "rawType": "float64",
         "type": "float"
        },
        {
         "name": "Value",
         "rawType": "float64",
         "type": "float"
        },
        {
         "name": "PricingStrategy",
         "rawType": "float64",
         "type": "float"
        },
        {
         "name": "is_high_risk",
         "rawType": "float64",
         "type": "float"
        },
        {
         "name": "txn_hour",
         "rawType": "float64",
         "type": "float"
        },
        {
         "name": "txn_day",
         "rawType": "float64",
         "type": "float"
        },
        {
         "name": "txn_month",
         "rawType": "float64",
         "type": "float"
        },
        {
         "name": "txn_year",
         "rawType": "float64",
         "type": "float"
        },
        {
         "name": "total_txn_amount",
         "rawType": "float64",
         "type": "float"
        },
        {
         "name": "avg_txn_amount",
         "rawType": "float64",
         "type": "float"
        },
        {
         "name": "txn_count",
         "rawType": "float64",
         "type": "float"
        },
        {
         "name": "std_txn_amount",
         "rawType": "float64",
         "type": "float"
        }
       ],
       "ref": "7d4ff37a-a67f-4a94-a8ed-64a532ec5d4f",
       "rows": [
        [
         "count",
         "95662.0",
         "95662.0",
         "95662.0",
         "95662.0",
         "95662.0",
         "95662.0",
         "95662.0",
         "95662.0",
         "95662.0",
         "95662.0",
         "95662.0",
         "94950.0"
        ],
        [
         "mean",
         "6717.846433275491",
         "2358.107524408856",
         "2.25597415901821",
         "0.11525997783864021",
         "12.447722188538814",
         "15.902897702326943",
         "6.566233196044406",
         "2018.497114841839",
         "-3599090.254259163",
         "6717.846433275491",
         "392.9829817482386",
         "18036.958256229096"
        ],
        [
         "std",
         "123306.79716433848",
         "3116.8395238494936",
         "0.7329241094855721",
         "0.3193370967369619",
         "4.846964479171279",
         "8.96282230185375",
         "5.224310476667348",
         "0.4999942891379733",
         "21802706.284769423",
         "85683.52488527559",
         "878.6310716354266",
         "89295.7048645468"
        ],
        [
         "min",
         "-1000000.0",
         "2.0",
         "0.0",
         "0.0",
         "0.0",
         "1.0",
         "1.0",
         "2018.0",
         "-104900000.0",
         "-425000.0",
         "1.0",
         "0.0"
        ],
        [
         "25%",
         "-50.0",
         "275.0",
         "2.0",
         "0.0",
         "8.0",
         "8.0",
         "1.0",
         "2018.0",
         "60000.0",
         "1260.8119904076739",
         "32.0",
         "3206.5632617289157"
        ],
        [
         "50%",
         "1000.0",
         "1000.0",
         "2.0",
         "0.0",
         "13.0",
         "16.0",
         "11.0",
         "2018.0",
         "201511.3",
         "2272.9505141388177",
         "93.0",
         "5896.326540030383"
        ],
        [
         "75%",
         "2800.0",
         "3000.0",
         "2.0",
         "0.0",
         "17.0",
         "24.0",
         "12.0",
         "2019.0",
         "708936.0",
         "4080.46357615894",
         "273.0",
         "10382.687289481062"
        ],
        [
         "max",
         "9880000.0",
         "12050.0",
         "4.0",
         "1.0",
         "23.0",
         "31.0",
         "12.0",
         "2019.0",
         "83451240.0",
         "8601821.142857144",
         "4091.0",
         "3309916.123615392"
        ]
       ],
       "shape": {
        "columns": 12,
        "rows": 8
       }
      },
      "text/html": [
       "<div>\n",
       "<style scoped>\n",
       "    .dataframe tbody tr th:only-of-type {\n",
       "        vertical-align: middle;\n",
       "    }\n",
       "\n",
       "    .dataframe tbody tr th {\n",
       "        vertical-align: top;\n",
       "    }\n",
       "\n",
       "    .dataframe thead th {\n",
       "        text-align: right;\n",
       "    }\n",
       "</style>\n",
       "<table border=\"1\" class=\"dataframe\">\n",
       "  <thead>\n",
       "    <tr style=\"text-align: right;\">\n",
       "      <th></th>\n",
       "      <th>Amount</th>\n",
       "      <th>Value</th>\n",
       "      <th>PricingStrategy</th>\n",
       "      <th>is_high_risk</th>\n",
       "      <th>txn_hour</th>\n",
       "      <th>txn_day</th>\n",
       "      <th>txn_month</th>\n",
       "      <th>txn_year</th>\n",
       "      <th>total_txn_amount</th>\n",
       "      <th>avg_txn_amount</th>\n",
       "      <th>txn_count</th>\n",
       "      <th>std_txn_amount</th>\n",
       "    </tr>\n",
       "  </thead>\n",
       "  <tbody>\n",
       "    <tr>\n",
       "      <th>count</th>\n",
       "      <td>9.566200e+04</td>\n",
       "      <td>95662.000000</td>\n",
       "      <td>95662.000000</td>\n",
       "      <td>95662.000000</td>\n",
       "      <td>95662.000000</td>\n",
       "      <td>95662.000000</td>\n",
       "      <td>95662.000000</td>\n",
       "      <td>95662.000000</td>\n",
       "      <td>9.566200e+04</td>\n",
       "      <td>9.566200e+04</td>\n",
       "      <td>95662.000000</td>\n",
       "      <td>9.495000e+04</td>\n",
       "    </tr>\n",
       "    <tr>\n",
       "      <th>mean</th>\n",
       "      <td>6.717846e+03</td>\n",
       "      <td>2358.107524</td>\n",
       "      <td>2.255974</td>\n",
       "      <td>0.115260</td>\n",
       "      <td>12.447722</td>\n",
       "      <td>15.902898</td>\n",
       "      <td>6.566233</td>\n",
       "      <td>2018.497115</td>\n",
       "      <td>-3.599090e+06</td>\n",
       "      <td>6.717846e+03</td>\n",
       "      <td>392.982982</td>\n",
       "      <td>1.803696e+04</td>\n",
       "    </tr>\n",
       "    <tr>\n",
       "      <th>std</th>\n",
       "      <td>1.233068e+05</td>\n",
       "      <td>3116.839524</td>\n",
       "      <td>0.732924</td>\n",
       "      <td>0.319337</td>\n",
       "      <td>4.846964</td>\n",
       "      <td>8.962822</td>\n",
       "      <td>5.224310</td>\n",
       "      <td>0.499994</td>\n",
       "      <td>2.180271e+07</td>\n",
       "      <td>8.568352e+04</td>\n",
       "      <td>878.631072</td>\n",
       "      <td>8.929570e+04</td>\n",
       "    </tr>\n",
       "    <tr>\n",
       "      <th>min</th>\n",
       "      <td>-1.000000e+06</td>\n",
       "      <td>2.000000</td>\n",
       "      <td>0.000000</td>\n",
       "      <td>0.000000</td>\n",
       "      <td>0.000000</td>\n",
       "      <td>1.000000</td>\n",
       "      <td>1.000000</td>\n",
       "      <td>2018.000000</td>\n",
       "      <td>-1.049000e+08</td>\n",
       "      <td>-4.250000e+05</td>\n",
       "      <td>1.000000</td>\n",
       "      <td>0.000000e+00</td>\n",
       "    </tr>\n",
       "    <tr>\n",
       "      <th>25%</th>\n",
       "      <td>-5.000000e+01</td>\n",
       "      <td>275.000000</td>\n",
       "      <td>2.000000</td>\n",
       "      <td>0.000000</td>\n",
       "      <td>8.000000</td>\n",
       "      <td>8.000000</td>\n",
       "      <td>1.000000</td>\n",
       "      <td>2018.000000</td>\n",
       "      <td>6.000000e+04</td>\n",
       "      <td>1.260812e+03</td>\n",
       "      <td>32.000000</td>\n",
       "      <td>3.206563e+03</td>\n",
       "    </tr>\n",
       "    <tr>\n",
       "      <th>50%</th>\n",
       "      <td>1.000000e+03</td>\n",
       "      <td>1000.000000</td>\n",
       "      <td>2.000000</td>\n",
       "      <td>0.000000</td>\n",
       "      <td>13.000000</td>\n",
       "      <td>16.000000</td>\n",
       "      <td>11.000000</td>\n",
       "      <td>2018.000000</td>\n",
       "      <td>2.015113e+05</td>\n",
       "      <td>2.272951e+03</td>\n",
       "      <td>93.000000</td>\n",
       "      <td>5.896327e+03</td>\n",
       "    </tr>\n",
       "    <tr>\n",
       "      <th>75%</th>\n",
       "      <td>2.800000e+03</td>\n",
       "      <td>3000.000000</td>\n",
       "      <td>2.000000</td>\n",
       "      <td>0.000000</td>\n",
       "      <td>17.000000</td>\n",
       "      <td>24.000000</td>\n",
       "      <td>12.000000</td>\n",
       "      <td>2019.000000</td>\n",
       "      <td>7.089360e+05</td>\n",
       "      <td>4.080464e+03</td>\n",
       "      <td>273.000000</td>\n",
       "      <td>1.038269e+04</td>\n",
       "    </tr>\n",
       "    <tr>\n",
       "      <th>max</th>\n",
       "      <td>9.880000e+06</td>\n",
       "      <td>12050.000000</td>\n",
       "      <td>4.000000</td>\n",
       "      <td>1.000000</td>\n",
       "      <td>23.000000</td>\n",
       "      <td>31.000000</td>\n",
       "      <td>12.000000</td>\n",
       "      <td>2019.000000</td>\n",
       "      <td>8.345124e+07</td>\n",
       "      <td>8.601821e+06</td>\n",
       "      <td>4091.000000</td>\n",
       "      <td>3.309916e+06</td>\n",
       "    </tr>\n",
       "  </tbody>\n",
       "</table>\n",
       "</div>"
      ],
      "text/plain": [
       "             Amount         Value  PricingStrategy  is_high_risk      txn_hour       txn_day     txn_month      txn_year  total_txn_amount  avg_txn_amount     txn_count  std_txn_amount\n",
       "count  9.566200e+04  95662.000000     95662.000000  95662.000000  95662.000000  95662.000000  95662.000000  95662.000000      9.566200e+04    9.566200e+04  95662.000000    9.495000e+04\n",
       "mean   6.717846e+03   2358.107524         2.255974      0.115260     12.447722     15.902898      6.566233   2018.497115     -3.599090e+06    6.717846e+03    392.982982    1.803696e+04\n",
       "std    1.233068e+05   3116.839524         0.732924      0.319337      4.846964      8.962822      5.224310      0.499994      2.180271e+07    8.568352e+04    878.631072    8.929570e+04\n",
       "min   -1.000000e+06      2.000000         0.000000      0.000000      0.000000      1.000000      1.000000   2018.000000     -1.049000e+08   -4.250000e+05      1.000000    0.000000e+00\n",
       "25%   -5.000000e+01    275.000000         2.000000      0.000000      8.000000      8.000000      1.000000   2018.000000      6.000000e+04    1.260812e+03     32.000000    3.206563e+03\n",
       "50%    1.000000e+03   1000.000000         2.000000      0.000000     13.000000     16.000000     11.000000   2018.000000      2.015113e+05    2.272951e+03     93.000000    5.896327e+03\n",
       "75%    2.800000e+03   3000.000000         2.000000      0.000000     17.000000     24.000000     12.000000   2019.000000      7.089360e+05    4.080464e+03    273.000000    1.038269e+04\n",
       "max    9.880000e+06  12050.000000         4.000000      1.000000     23.000000     31.000000     12.000000   2019.000000      8.345124e+07    8.601821e+06   4091.000000    3.309916e+06"
      ]
     },
     "metadata": {},
     "output_type": "display_data"
    }
   ],
   "source": [
    "# Initalise pipeline\n",
    "target_pipeline = FraudDetectionPipeline(df_path = df_path, target = 'is_high_risk',\n",
    "                                            df_dir = df_dir, plot_path = plot_path, mdl_dir = mdl_dir)\n",
    "\n",
    "# Load data and save processed data\n",
    "target_pipeline.load_and_split_data()\n",
    "target_pipeline.save_processed_data(filename = 'feature_target_engineering_data.csv')"
   ]
  },
  {
   "cell_type": "code",
   "execution_count": 9,
   "id": "79d0795a",
   "metadata": {},
   "outputs": [
    {
     "name": "stdout",
     "output_type": "stream",
     "text": [
      "\n",
      "Numeric WOE breaks computed.\n",
      "[INFO] creating woe binning ...\n",
      "[INFO] The breaks_list is saved as cat_breaks_20250702_080947.py\n",
      "\n",
      "Categorical WOE breaks computed and merged.\n",
      "[INFO] creating woe binning ...\n",
      "[INFO] converting into woe values ...\n",
      "[INFO] converting into woe values ...\n",
      "\n",
      "WOE transformation applied.\n",
      "\n",
      "Final dataset merged and cleaned.\n",
      "\n",
      "WoE-transformed dataset saved to: ..\\data\\processed\\WoE_target_feature_data.csv\n"
     ]
    }
   ],
   "source": [
    "# Compute breaks and apply transformation\n",
    "target_pipeline.compute_monotonic_breaks()\n",
    "target_pipeline.compute_categorical_breaks()\n",
    "target_pipeline.apply_woe_transformation()\n",
    "\n",
    "# Prepare and save DataFrame\n",
    "target_pipeline.merge_and_clean()\n",
    "\n",
    "# Save WOE transformed data\n",
    "target_pipeline.save_woe_transformed_data(\"WoE_target_feature_data.csv\")"
   ]
  },
  {
   "cell_type": "code",
   "execution_count": 10,
   "id": "e63e83c2",
   "metadata": {},
   "outputs": [
    {
     "name": "stdout",
     "output_type": "stream",
     "text": [
      "IV Analysis:\n",
      "\n",
      "                variable  info_value\n",
      "18        std_txn_amount    6.478319\n",
      "22        avg_txn_amount    6.335652\n",
      "23      total_txn_amount    6.138375\n",
      "17             txn_count    3.768829\n",
      "19             txn_month    2.470771\n",
      "9               txn_year    1.664274\n",
      "10          txn_year_woe    1.664274\n",
      "11         txn_month_woe    0.862037\n",
      "6                 Amount    0.493142\n",
      "12               txn_day    0.381778\n",
      "24         txn_count_woe    0.294375\n",
      "4                  Value    0.175384\n",
      "16            Amount_woe    0.123953\n",
      "1            txn_day_woe    0.122081\n",
      "14    std_txn_amount_woe    0.100095\n",
      "8     avg_txn_amount_woe    0.052772\n",
      "2          ProductId_woe    0.047000\n",
      "20        ProviderId_woe    0.042062\n",
      "7               txn_hour    0.030733\n",
      "5    ProductCategory_woe    0.023030\n",
      "3              Value_woe    0.006846\n",
      "13          txn_hour_woe    0.006383\n",
      "15   PricingStrategy_woe    0.004022\n",
      "0   total_txn_amount_woe    0.003080\n",
      "21         ChannelId_woe    0.002496\n",
      "[INFO] filtering variables ...\n",
      "\n",
      "Variables filtered based on IV and missing rate.\n"
     ]
    }
   ],
   "source": [
    "# WoE and IV transformation\n",
    "target_pipeline.run_iv_analysis()\n",
    "target_pipeline.filter_variables()"
   ]
  },
  {
   "cell_type": "code",
   "execution_count": 11,
   "id": "8b0ad7d0",
   "metadata": {},
   "outputs": [
    {
     "name": "stdout",
     "output_type": "stream",
     "text": [
      "Model trained.\n",
      "\n",
      "Coefficients:\n",
      "[[-2.08133757e-01 -3.25630454e-01 -2.60954751e-05  1.21762843e-01\n",
      "  -3.99963180e-08  1.33819538e-02 -4.73274129e-01 -3.05496461e-04\n",
      "  -2.04405096e+00  1.26248523e+00 -5.37672686e-02 -1.04095782e+00\n",
      "  -2.10310404e-01 -1.42198842e-02  2.76354211e-07  1.51193107e-02\n",
      "   1.15783025e-01  4.59079744e-07 -7.98808965e-08]]\n",
      "\n",
      "Train Performance:\n"
     ]
    },
    {
     "data": {
      "image/png": "[encoded data removed]",
      "text/plain": [
       "<Figure size 640x480 with 2 Axes>"
      ]
     },
     "metadata": {},
     "output_type": "display_data"
    },
    {
     "name": "stdout",
     "output_type": "stream",
     "text": [
      "Test Performance:\n"
     ]
    },
    {
     "data": {
      "image/png": "[encoded data removed]",
      "text/plain": [
       "<Figure size 640x480 with 2 Axes>"
      ]
     },
     "metadata": {},
     "output_type": "display_data"
    },
    {
     "name": "stdout",
     "output_type": "stream",
     "text": [
      "Accuracy: 0.9087773093139134\n",
      "AUC Score: 0.6726501149589941\n",
      "\n",
      "Classification Report:\n",
      "              precision    recall  f1-score   support\n",
      "\n",
      "           0       0.92      0.98      0.95     25391\n",
      "           1       0.70      0.37      0.48      3308\n",
      "\n",
      "    accuracy                           0.91     28699\n",
      "   macro avg       0.81      0.67      0.72     28699\n",
      "weighted avg       0.90      0.91      0.90     28699\n",
      "\n",
      "\n",
      "Plot saved to ..\\plots\\targetengineering\\Confusion Matrix - Logistic Regression.png\n"
     ]
    },
    {
     "data": {
      "image/png": "[encoded data removed]",
      "text/plain": [
       "<Figure size 640x480 with 2 Axes>"
      ]
     },
     "metadata": {},
     "output_type": "display_data"
    }
   ],
   "source": [
    "# Model training evaluation and prediction\n",
    "target_pipeline.train_model()\n",
    "\n",
    "target_pipeline.evaluate_model()\n",
    "\n",
    "#pipeline.predict(df_new)"
   ]
  },
  {
   "cell_type": "code",
   "execution_count": 12,
   "id": "2ea2f93d",
   "metadata": {},
   "outputs": [
    {
     "name": "stdout",
     "output_type": "stream",
     "text": [
      "\n",
      "Model saved to: ..\\models\\credit_risk_model.pkl\n",
      "\n",
      "Model loaded from: ..\\models\\credit_risk_model.pkl\n"
     ]
    }
   ],
   "source": [
    "# Save model\n",
    "target_pipeline.save_model(filename=\"credit_risk_model.pkl\")\n",
    "\n",
    "# Open saved model\n",
    "target_pipeline.load_model(filename=\"credit_risk_model.pkl\")"
   ]
  }
 ],
 "metadata": {
  "kernelspec": {
   "display_name": ".credvenv",
   "language": "python",
   "name": "python3"
  },
  "language_info": {
   "codemirror_mode": {
    "name": "ipython",
    "version": 3
   },
   "file_extension": ".py",
   "mimetype": "text/x-python",
   "name": "python",
   "nbconvert_exporter": "python",
   "pygments_lexer": "ipython3",
   "version": "3.13.3"
  }
 },
 "nbformat": 4,
 "nbformat_minor": 5
}
